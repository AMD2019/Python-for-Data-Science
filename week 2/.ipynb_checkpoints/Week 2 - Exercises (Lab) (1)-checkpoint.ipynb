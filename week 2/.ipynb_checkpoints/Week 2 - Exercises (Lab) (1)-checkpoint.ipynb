{
 "cells": [
  {
   "cell_type": "code",
   "execution_count": null,
   "metadata": {},
   "outputs": [],
   "source": [
    "# Python for Data Science - Week 2\n",
    "### Lab session\n",
    "Work through the following exercises. Get through as many as you can in the time allotted.\n",
    "The box lists additional Python functionality that may help you.\n",
    "\n",
    "| Task | Python function |\n",
    "|----|----|\n",
    "| Import the code library 'random' | import random |\n",
    "| Generate random numbers | random.randint() |\n",
    "| Prompt the user for some text | my_variable = input() |\n"
   ]
  },
  {
   "cell_type": "markdown",
   "metadata": {},
   "source": [
    "#### EXERCISE 1 - Arrays\n",
    "Objective: Create and manipulate Numpy arrays"
   ]
  },
  {
   "cell_type": "markdown",
   "metadata": {},
   "source": [
    "Make a 3 column, 2 row array from the following two lists:\n",
    "\n",
    "[3,4,5]\n",
    "[1,4,5]"
   ]
  },
  {
   "cell_type": "code",
   "execution_count": 17,
   "metadata": {},
   "outputs": [
    {
     "data": {
      "text/plain": [
       "array([[3, 4, 5],\n",
       "       [1, 4, 5]])"
      ]
     },
     "execution_count": 17,
     "metadata": {},
     "output_type": "execute_result"
    }
   ],
   "source": [
    "import numpy as np\n",
    "Array = np.array([[3,4,5],[1,4,5]])\n",
    "Array"
   ]
  },
  {
   "cell_type": "markdown",
   "metadata": {},
   "source": [
    "Look up the command to reshape the array to have 2 columns and 3 rows"
   ]
  },
  {
   "cell_type": "code",
   "execution_count": 18,
   "metadata": {},
   "outputs": [
    {
     "data": {
      "text/plain": [
       "array([[3, 1],\n",
       "       [4, 4],\n",
       "       [5, 5]])"
      ]
     },
     "execution_count": 18,
     "metadata": {},
     "output_type": "execute_result"
    }
   ],
   "source": [
    "Array = Array.T\n",
    "Array"
   ]
  },
  {
   "cell_type": "markdown",
   "metadata": {},
   "source": [
    "Multiply all of the values in the array by 7"
   ]
  },
  {
   "cell_type": "code",
   "execution_count": 19,
   "metadata": {},
   "outputs": [
    {
     "data": {
      "text/plain": [
       "array([[21,  7],\n",
       "       [28, 28],\n",
       "       [35, 35]])"
      ]
     },
     "execution_count": 19,
     "metadata": {},
     "output_type": "execute_result"
    }
   ],
   "source": [
    "Array * 7"
   ]
  },
  {
   "cell_type": "markdown",
   "metadata": {},
   "source": [
    "What happens if you call the transpose method more than once on the array?"
   ]
  },
  {
   "cell_type": "markdown",
   "metadata": {},
   "source": [
    "#### Q2 - Tuples"
   ]
  },
  {
   "cell_type": "markdown",
   "metadata": {},
   "source": [
    "\n",
    "a.) Organize the following data into nested tuples with the format (Person, (info)). Assign these each to a variable (A-D): \n",
    "\n",
    "A: Julie , SDCE , MC 6-137, Scorpio\n",
    "\n",
    "B: Charles, GOST, MC 6-137, Sagittarius\n",
    "\n",
    "C: Nick, GFDRR, MC 5-218B, Leo\n",
    "\n",
    "D: Dharana, DECAT, MC 2-208, Pisces\n"
   ]
  },
  {
   "cell_type": "code",
   "execution_count": 2,
   "metadata": {},
   "outputs": [],
   "source": [
    "A = (\"Julie\", (\"SDCE\",\"MC 6-137\",\"Scorpio\"))\n",
    "B = (\"Charles\", (\"GOST\",\"MC 6-137\",\"Sagittarius\"))\n",
    "C = (\"Nick\", (\"GFDRR\",\"MC 5-218B\",\"Leo\"))\n",
    "D = (\"Dharana\", (\"DECAT\",\"MC 2-208\",\"Pisces\"))"
   ]
  },
  {
   "cell_type": "markdown",
   "metadata": {},
   "source": [
    "b.) Merge that tuple into one large tuple using the variables you just assigned. Call that object 'Info'"
   ]
  },
  {
   "cell_type": "code",
   "execution_count": 3,
   "metadata": {
    "collapsed": true
   },
   "outputs": [],
   "source": [
    "Info = (A, B, C, D)"
   ]
  },
  {
   "cell_type": "markdown",
   "metadata": {},
   "source": [
    "c.) Just by referencing within 'Info', return where I can find Nick's office'"
   ]
  },
  {
   "cell_type": "code",
   "execution_count": 6,
   "metadata": {},
   "outputs": [
    {
     "data": {
      "text/plain": [
       "'MC 5-218B'"
      ]
     },
     "execution_count": 6,
     "metadata": {},
     "output_type": "execute_result"
    }
   ],
   "source": [
    "Info[2][1][1]"
   ]
  },
  {
   "cell_type": "markdown",
   "metadata": {},
   "source": [
    "d.) Just by referencing within 'Info', return Dharana's star sign"
   ]
  },
  {
   "cell_type": "code",
   "execution_count": 9,
   "metadata": {},
   "outputs": [
    {
     "data": {
      "text/plain": [
       "'Pisces'"
      ]
     },
     "execution_count": 9,
     "metadata": {},
     "output_type": "execute_result"
    }
   ],
   "source": [
    "Info[3][1][2]"
   ]
  },
  {
   "cell_type": "markdown",
   "metadata": {},
   "source": [
    "e.) format the following sentence with the correct info:\n",
    "\n",
    "\"[NAME] works with the GOST team. He sits in [OFFICE]. His star sign is a [SIGN] but his friend Nick is a [SIGN]\"\n",
    "\n",
    "*Hint: work out how to reference each individual item from the Info tuple first, then build up the sentence piece by piece!*"
   ]
  },
  {
   "cell_type": "code",
   "execution_count": 16,
   "metadata": {},
   "outputs": [
    {
     "name": "stdout",
     "output_type": "stream",
     "text": [
      "Charles works with the GOST team. He sits in MC 6-137. His star sign is a Sagittarius but his friend Nick is a Leo\n"
     ]
    }
   ],
   "source": [
    "print(\"%s works with the GOST team. He sits in %s. His star sign is a %s but his friend Nick is a %s\"  %\n",
    "     (Info[1][0],\n",
    "     Info[1][1][1],\n",
    "     Info[1][1][2],\n",
    "     Info[2][1][2])\n",
    "     )"
   ]
  },
  {
   "cell_type": "markdown",
   "metadata": {},
   "source": [
    "#### Q3 - Dictionaries"
   ]
  },
  {
   "cell_type": "markdown",
   "metadata": {},
   "source": [
    "a.) Organize the same information as Q2 as a nested dictionary called 'Info'\n",
    "\n",
    "*Hint: Create a sub-dictionary for each person, containing fields called 'Team', 'Office' and 'Sign'*"
   ]
  },
  {
   "cell_type": "code",
   "execution_count": 18,
   "metadata": {
    "collapsed": true
   },
   "outputs": [],
   "source": [
    "Info = {\n",
    "    \"Julie\" : {\"Team\":\"SDCE\",\"Office\":\"MC 6-137\",\"Sign\":\"Scorpio\"},\n",
    "    \"Charles\": {\"Team\":\"GOST\",\"Office\":\"MC 6-137\",\"Sign\":\"Sagittarius\"},\n",
    "    \"Nick\": {\"Team\":\"GFDRR\",\"Office\":\"MC 5-218B\",\"Sign\":\"Leo\"},\n",
    "    \"Dharana\": {\"Team\":\"DECAT\",\"Office\":\"MC 2-208\",\"Sign\":\"Pisces\"}\n",
    "}"
   ]
  },
  {
   "cell_type": "markdown",
   "metadata": {},
   "source": [
    "b.) Just by referencing within 'Info', return where I can find Nick's office'"
   ]
  },
  {
   "cell_type": "code",
   "execution_count": 20,
   "metadata": {},
   "outputs": [
    {
     "data": {
      "text/plain": [
       "'MC 5-218B'"
      ]
     },
     "execution_count": 20,
     "metadata": {},
     "output_type": "execute_result"
    }
   ],
   "source": [
    "Info['Nick']['Office']"
   ]
  },
  {
   "cell_type": "markdown",
   "metadata": {},
   "source": [
    "c.) What is Dharana's team?"
   ]
  },
  {
   "cell_type": "code",
   "execution_count": 21,
   "metadata": {},
   "outputs": [
    {
     "data": {
      "text/plain": [
       "'DECAT'"
      ]
     },
     "execution_count": 21,
     "metadata": {},
     "output_type": "execute_result"
    }
   ],
   "source": [
    "Info['Dharana']['Team']"
   ]
  },
  {
   "cell_type": "markdown",
   "metadata": {},
   "source": [
    "e.) format the following sentence with the correct info:\n",
    "\n",
    "\"[NAME] works with the GOST team. He sits in [OFFICE]. His star sign is a [SIGN] but his friend Nick is a [SIGN]\"\n",
    "\n",
    "*Hint: work out how to reference each individual item from the Info Dictionary first, then build up the sentence piece by piece!*"
   ]
  },
  {
   "cell_type": "code",
   "execution_count": 31,
   "metadata": {},
   "outputs": [
    {
     "name": "stdout",
     "output_type": "stream",
     "text": [
      "Charles works with the GOST team. He sits in MC 6-137. His star sign is a Sagittarius but his friend Nick is a Leo\n"
     ]
    }
   ],
   "source": [
    "print(\"%s works with the GOST team. He sits in %s. His star sign is a %s but his friend Nick is a %s\"  %\n",
    "     (list(Info.keys())[1],\n",
    "     Info[\"Charles\"]['Office'],\n",
    "     Info[\"Charles\"]['Sign'],\n",
    "     Info[\"Nick\"]['Sign'])\n",
    "     )"
   ]
  },
  {
   "cell_type": "markdown",
   "metadata": {},
   "source": [
    "Which method of writing the sentence did you prefer?\n",
    "\n",
    "Note - a dictionary is an *unordered* object. Hence, the .keys() method cannot be indexed, like a list can"
   ]
  },
  {
   "cell_type": "markdown",
   "metadata": {},
   "source": [
    "#### Q4 - Lists"
   ]
  },
  {
   "cell_type": "markdown",
   "metadata": {},
   "source": [
    "a.) make a flat list from the following object"
   ]
  },
  {
   "cell_type": "code",
   "execution_count": 54,
   "metadata": {},
   "outputs": [],
   "source": [
    "mylist = [[\"Guitar\",\"Drums\"],[\"Pink Floyd\",\"REM\",\"Rolling Stones\",\"The Beatles\"]]"
   ]
  },
  {
   "cell_type": "code",
   "execution_count": 55,
   "metadata": {},
   "outputs": [],
   "source": [
    "myflatlist = [subitem for item in mylist for subitem in item]"
   ]
  },
  {
   "cell_type": "markdown",
   "metadata": {},
   "source": [
    "b.) put the first two objects and the last four objects in your new flattened list into their own lists"
   ]
  },
  {
   "cell_type": "code",
   "execution_count": 56,
   "metadata": {
    "collapsed": true
   },
   "outputs": [],
   "source": [
    "itemA = myflatlist[:2]\n",
    "itemB = myflatlist[3:]"
   ]
  },
  {
   "cell_type": "markdown",
   "metadata": {},
   "source": [
    "c.) Remake the original object"
   ]
  },
  {
   "cell_type": "code",
   "execution_count": 57,
   "metadata": {
    "collapsed": true
   },
   "outputs": [],
   "source": [
    "mylist2 = [itemA, itemB]"
   ]
  },
  {
   "cell_type": "markdown",
   "metadata": {},
   "source": [
    "d.) Check whether they are equal. If they are not - why not?"
   ]
  },
  {
   "cell_type": "code",
   "execution_count": 58,
   "metadata": {},
   "outputs": [
    {
     "data": {
      "text/plain": [
       "False"
      ]
     },
     "execution_count": 58,
     "metadata": {},
     "output_type": "execute_result"
    }
   ],
   "source": [
    "mylist2 == mylist"
   ]
  },
  {
   "cell_type": "markdown",
   "metadata": {},
   "source": [
    "#### Q5 - Libraries"
   ]
  },
  {
   "cell_type": "markdown",
   "metadata": {},
   "source": [
    "How would you import the 'unary_union' function from the ops folder of the shapely library?"
   ]
  },
  {
   "cell_type": "code",
   "execution_count": 36,
   "metadata": {},
   "outputs": [],
   "source": [
    "from shapely.ops import unary_union"
   ]
  },
  {
   "cell_type": "markdown",
   "metadata": {},
   "source": [
    "How would you import all of the networkx library?"
   ]
  },
  {
   "cell_type": "code",
   "execution_count": null,
   "metadata": {
    "collapsed": true
   },
   "outputs": [],
   "source": [
    "How would you import all of the networkx library"
   ]
  },
  {
   "cell_type": "markdown",
   "metadata": {},
   "source": [
    "#### Homework!"
   ]
  },
  {
   "cell_type": "markdown",
   "metadata": {},
   "source": [
    "Get Anaconda Navigator installed on your laptop in the C:\\WBG folder before next lesson. \n",
    "Once it is installed, create a new environment (Environments --> Create), with python 3.5 as the package. \n",
    "Call it 'Python4DataSci'\n",
    "\n",
    "BONUS: install pandas with pip (google it!)"
   ]
  },
  {
   "cell_type": "code",
   "execution_count": null,
   "metadata": {
    "collapsed": true
   },
   "outputs": [],
   "source": []
  },
  {
   "cell_type": "code",
   "execution_count": null,
   "metadata": {
    "collapsed": true
   },
   "outputs": [],
   "source": []
  }
 ],
 "metadata": {
  "kernelspec": {
   "display_name": "Python 3",
   "language": "python",
   "name": "python3"
  },
  "language_info": {
   "codemirror_mode": {
    "name": "ipython",
    "version": 3
   },
   "file_extension": ".py",
   "mimetype": "text/x-python",
   "name": "python",
   "nbconvert_exporter": "python",
   "pygments_lexer": "ipython3",
   "version": "3.7.1"
  }
 },
 "nbformat": 4,
 "nbformat_minor": 2
}
