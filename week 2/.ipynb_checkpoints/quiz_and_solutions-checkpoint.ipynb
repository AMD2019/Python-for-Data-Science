{
 "cells": [
  {
   "cell_type": "markdown",
   "metadata": {},
   "source": [
    "# Python for Data Science - Week 2\n",
    "### QUICK QUIZ and LAB SOLUTIONS\n"
   ]
  },
  {
   "cell_type": "markdown",
   "metadata": {},
   "source": [
    "#### Quiz:"
   ]
  },
  {
   "cell_type": "code",
   "execution_count": 32,
   "metadata": {},
   "outputs": [],
   "source": [
    "# Define a variable called x with value 5\n"
   ]
  },
  {
   "cell_type": "code",
   "execution_count": 31,
   "metadata": {},
   "outputs": [],
   "source": [
    "# What's the data type of x?\n"
   ]
  },
  {
   "cell_type": "code",
   "execution_count": 30,
   "metadata": {},
   "outputs": [],
   "source": [
    "# Change x to a string\n"
   ]
  },
  {
   "cell_type": "code",
   "execution_count": 29,
   "metadata": {},
   "outputs": [],
   "source": [
    "# Add 3 to x and print the result\n"
   ]
  },
  {
   "cell_type": "code",
   "execution_count": 28,
   "metadata": {},
   "outputs": [],
   "source": [
    "# Test whether x is equal to 8\n"
   ]
  },
  {
   "cell_type": "code",
   "execution_count": 27,
   "metadata": {},
   "outputs": [],
   "source": [
    "# What's the weather like outside? Put this description into a variable.\n"
   ]
  },
  {
   "cell_type": "code",
   "execution_count": 26,
   "metadata": {},
   "outputs": [],
   "source": [
    "# How long is the string?\n"
   ]
  },
  {
   "cell_type": "code",
   "execution_count": 25,
   "metadata": {},
   "outputs": [],
   "source": [
    "# How would I split the string based on spaces or full stops?\n"
   ]
  },
  {
   "cell_type": "code",
   "execution_count": 24,
   "metadata": {},
   "outputs": [],
   "source": [
    "# How would I improve the weather using the .replace() function?\n"
   ]
  },
  {
   "cell_type": "markdown",
   "metadata": {},
   "source": [
    "#### EXERCISE 1: Too many donuts?\n",
    "*Objective: handle strings and integers, test conditions*\n",
    "\n",
    "Write a program that will:\n",
    "1. Define a variable 'donuts_eaten'.\n",
    "2. Print a string of the form 'Donuts consumed: < count >'. However if 10 or more donuts were eaten, then use the word 'many' instead of the actual count."
   ]
  },
  {
   "cell_type": "code",
   "execution_count": 5,
   "metadata": {},
   "outputs": [
    {
     "name": "stdout",
     "output_type": "stream",
     "text": [
      "Donuts consumed: many\n"
     ]
    }
   ],
   "source": [
    "# FIX MY CODE\n",
    "\n",
    "donuts_eaten = 12\n",
    "if donuts_eaten > 10:\n",
    "    print(\"Donuts consumed: \" + \"many\")\n",
    "else:\n",
    "    print(\"Donuts consumed: \" + donuts_eaten)"
   ]
  },
  {
   "cell_type": "markdown",
   "metadata": {},
   "source": [
    "#### EXERCISE 2a: Age calculator\n",
    "*Objective: Define variables, do basic math, convert data types*\n",
    "    \n",
    "Write a program that will:\n",
    "1. Define a variable 'birth_year'\n",
    "2. Define a variable 'current_year'\n",
    "3. Calculate the person's age from these two\n",
    "4. Print the output in format (\"You are x years old.\")"
   ]
  },
  {
   "cell_type": "code",
   "execution_count": 3,
   "metadata": {},
   "outputs": [],
   "source": [
    "# YOUR CODE HERE:\n",
    "\n",
    "birth_year = \n",
    "current_year = "
   ]
  },
  {
   "cell_type": "markdown",
   "metadata": {},
   "source": [
    "#### EXERCISE 2b: Premier League salaries\n",
    "*Objective: Define variables, do math, use conditional logic.*\n",
    "\n",
    "1. Define two variables, player_name (a string), and annual_salary (an integer).\n",
    "2. Assume there are 125 days in the football season. Print a neat string saying your player's name and how much they earn (a) per month; and (b) per day of the season. \n",
    "3. Now define a Boolean variable championship_winners.\n",
    "4. Test whether championship_winners is True, and if so, print your output again but with a 33% bonus.\n",
    "\n",
    "**BONUS POINTS**: limit the salary to two decimal points when printing it."
   ]
  },
  {
   "cell_type": "code",
   "execution_count": 4,
   "metadata": {},
   "outputs": [],
   "source": [
    "# YOUR CODE HERE:\n",
    "\n",
    "championship_winners = False\n",
    "\n",
    "player_name = 'Ronaldo'\n",
    "annual_salary = 33500000\n",
    "days_in_season = 125\n",
    "\n",
    "# Complete the program\n"
   ]
  },
  {
   "cell_type": "markdown",
   "metadata": {},
   "source": [
    "#### EXERCISE 3: Dog's dinner\n",
    "*Objective: Practice string manipulation*\n",
    "\n",
    "1. Define two strings, a and b.\n",
    "2. Your program should return a single string with a and b separated by a space, except swap the first 2 chars of each string.\n",
    "* eg. 'dog', 'dinner' -> 'dig donner'\n"
   ]
  },
  {
   "cell_type": "code",
   "execution_count": null,
   "metadata": {},
   "outputs": [],
   "source": [
    "# YOUR CODE HERE:\n",
    "\n",
    "a = 'dog'\n",
    "b = 'dinner'\n",
    "\n",
    "# fill the gap\n",
    "\n",
    "print()"
   ]
  },
  {
   "cell_type": "markdown",
   "metadata": {},
   "source": [
    "#### EXERCISE 4: Higher or lower?\n",
    "*Objective: Test conditions, use a counter.*\n",
    "\n",
    "Write a program to:\n",
    "1. Generate a random number (kept secret from the user).\n",
    "2. Prompt the user \"Guess a number\" and record their input.\n",
    "3. Tell them if they were correct, too high, or too low.\n",
    "\n",
    "BONUS POINTS: limit the number of guesses to 5."
   ]
  },
  {
   "cell_type": "code",
   "execution_count": 5,
   "metadata": {},
   "outputs": [],
   "source": [
    "# COMPLETE THIS CODE\n",
    "\n",
    "import random\n",
    "random_number =\n",
    "\n",
    "user_guess = \n",
    "\n",
    "if user_guess > random_number:"
   ]
  },
  {
   "cell_type": "markdown",
   "metadata": {},
   "source": [
    "#### EXERCISE 5: FizzBuzz\n",
    "*Objective: Get a job at Amazon! (they use it in software engineer interviews)*\n",
    "\n",
    "Write a script to:\n",
    "\n",
    "* Print out the numbers from 1 to 20 but replacing numbers with 'Fizz' if divisible by 3, 'Buzz' if divisible by '5', and 'FizzBuzz' if divisible by 3 and 5.\n",
    "\n",
    "Hint: the 'mod' operator, denoted %, is used to check divisibility. Example: 10 % 2 == 0."
   ]
  },
  {
   "cell_type": "code",
   "execution_count": null,
   "metadata": {},
   "outputs": [],
   "source": [
    "# YOUR CODE HERE:\n",
    "\n",
    "for n in range():"
   ]
  }
 ],
 "metadata": {
  "kernelspec": {
   "display_name": "Python 3",
   "language": "python",
   "name": "python3"
  },
  "language_info": {
   "codemirror_mode": {
    "name": "ipython",
    "version": 3
   },
   "file_extension": ".py",
   "mimetype": "text/x-python",
   "name": "python",
   "nbconvert_exporter": "python",
   "pygments_lexer": "ipython3",
   "version": "3.7.1"
  }
 },
 "nbformat": 4,
 "nbformat_minor": 2
}
