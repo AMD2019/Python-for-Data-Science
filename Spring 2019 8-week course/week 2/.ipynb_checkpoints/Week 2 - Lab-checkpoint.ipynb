{
 "cells": [
  {
   "cell_type": "markdown",
   "metadata": {},
   "source": [
    "# Python for Data Science - Week 2\n",
    "### Lab session"
   ]
  },
  {
   "cell_type": "markdown",
   "metadata": {},
   "source": [
    "#### EXERCISE 1 - Arrays\n",
    "_Objective: Create and manipulate Numpy arrays. Reshape arrays and do math on them._"
   ]
  },
  {
   "cell_type": "markdown",
   "metadata": {},
   "source": [
    "Make a 3 column, 2 row array from the following two lists:\n",
    "\n",
    "[3,4,5]\n",
    "[1,4,5]"
   ]
  },
  {
   "cell_type": "code",
   "execution_count": 1,
   "metadata": {},
   "outputs": [],
   "source": [
    "# YOUR CODE HERE:\n"
   ]
  },
  {
   "cell_type": "markdown",
   "metadata": {},
   "source": [
    "Look up the command to reshape the array to have 2 columns and 3 rows"
   ]
  },
  {
   "cell_type": "code",
   "execution_count": 2,
   "metadata": {},
   "outputs": [],
   "source": [
    "# YOUR CODE HERE:\n"
   ]
  },
  {
   "cell_type": "markdown",
   "metadata": {},
   "source": [
    "Multiply all of the values in the array by 7"
   ]
  },
  {
   "cell_type": "code",
   "execution_count": 3,
   "metadata": {},
   "outputs": [],
   "source": [
    "# YOUR CODE HERE:\n"
   ]
  },
  {
   "cell_type": "markdown",
   "metadata": {},
   "source": [
    "What happens if you call the transpose method more than once on the array?"
   ]
  },
  {
   "cell_type": "markdown",
   "metadata": {},
   "source": [
    "#### EXERCISE 2 - Tuples\n",
    "_Objective: Organize data using tuples; manipulate more complicated data structures including nested ones._"
   ]
  },
  {
   "cell_type": "markdown",
   "metadata": {},
   "source": [
    "\n",
    "a.) Organize the following data into nested tuples with the format (Person, (info)). Assign these each to a variable (A-D): \n",
    "\n",
    "A: Julie , SDCE , MC 6-137, Scorpio\n",
    "\n",
    "B: Charles, GOST, MC 6-137, Sagittarius\n",
    "\n",
    "C: Nick, GFDRR, MC 5-218B, Leo\n",
    "\n",
    "D: Dharana, DECAT, MC 2-208, Pisces\n"
   ]
  },
  {
   "cell_type": "code",
   "execution_count": 2,
   "metadata": {},
   "outputs": [],
   "source": [
    "# YOUR CODE HERE:\n"
   ]
  },
  {
   "cell_type": "markdown",
   "metadata": {},
   "source": [
    "b.) Merge that tuple into one large tuple using the variables you just assigned. Call that object 'Info'"
   ]
  },
  {
   "cell_type": "code",
   "execution_count": 4,
   "metadata": {
    "collapsed": true
   },
   "outputs": [],
   "source": [
    "# YOUR CODE HERE:\n"
   ]
  },
  {
   "cell_type": "markdown",
   "metadata": {},
   "source": [
    "c.) Just by referencing within 'Info', return where I can find Nick's office'"
   ]
  },
  {
   "cell_type": "code",
   "execution_count": 5,
   "metadata": {},
   "outputs": [],
   "source": [
    "# YOUR CODE HERE: \n"
   ]
  },
  {
   "cell_type": "markdown",
   "metadata": {},
   "source": [
    "d.) Just by referencing within 'Info', return Dharana's star sign"
   ]
  },
  {
   "cell_type": "code",
   "execution_count": 6,
   "metadata": {},
   "outputs": [],
   "source": [
    "# YOUR CODE HERE: \n"
   ]
  },
  {
   "cell_type": "markdown",
   "metadata": {},
   "source": [
    "e.) format the following sentence with the correct info:\n",
    "\n",
    "\"[NAME] works with the GOST team. He sits in [OFFICE]. His star sign is a [SIGN] but his friend Nick is a [SIGN]\"\n",
    "\n",
    "*Hint: work out how to reference each individual item from the Info tuple first, then build up the sentence piece by piece!*"
   ]
  },
  {
   "cell_type": "code",
   "execution_count": 7,
   "metadata": {},
   "outputs": [],
   "source": [
    "# YOUR CODE HERE: \n"
   ]
  },
  {
   "cell_type": "markdown",
   "metadata": {},
   "source": [
    "#### EXERCISE 3 - Dictionaries\n",
    "_Objective: Create and manipulate dictionaries._"
   ]
  },
  {
   "cell_type": "markdown",
   "metadata": {},
   "source": [
    "a.) Organize the same information as Q2 as a nested dictionary called 'Info'\n",
    "\n",
    "*Hint: Create a sub-dictionary for each person, containing fields called 'Team', 'Office' and 'Sign'*"
   ]
  },
  {
   "cell_type": "code",
   "execution_count": 8,
   "metadata": {
    "collapsed": true
   },
   "outputs": [],
   "source": [
    "# YOUR CODE HERE:\n"
   ]
  },
  {
   "cell_type": "markdown",
   "metadata": {},
   "source": [
    "b.) Just by referencing within 'Info', return where I can find Nick's office'"
   ]
  },
  {
   "cell_type": "code",
   "execution_count": 9,
   "metadata": {},
   "outputs": [],
   "source": [
    "# YOUR CODE HERE: \n"
   ]
  },
  {
   "cell_type": "markdown",
   "metadata": {},
   "source": [
    "c.) What is Dharana's team?"
   ]
  },
  {
   "cell_type": "code",
   "execution_count": 10,
   "metadata": {},
   "outputs": [],
   "source": [
    "# YOUR CODE HERE: "
   ]
  },
  {
   "cell_type": "markdown",
   "metadata": {},
   "source": [
    "e.) format the following sentence with the correct info:\n",
    "\n",
    "\"[NAME] works with the GOST team. He sits in [OFFICE]. His star sign is a [SIGN] but his friend Nick is a [SIGN]\"\n",
    "\n",
    "*Hint: work out how to reference each individual item from the Info Dictionary first, then build up the sentence piece by piece!*"
   ]
  },
  {
   "cell_type": "code",
   "execution_count": 11,
   "metadata": {},
   "outputs": [],
   "source": [
    "# YOUR CODE HERE: \n"
   ]
  },
  {
   "cell_type": "markdown",
   "metadata": {},
   "source": [
    "Which method of writing the sentence did you prefer?\n",
    "\n",
    "Note - a dictionary is an *unordered* object. Hence, the .keys() method cannot be indexed, like a list can"
   ]
  },
  {
   "cell_type": "markdown",
   "metadata": {},
   "source": [
    "#### EXERCISE 4 - Lists"
   ]
  },
  {
   "cell_type": "markdown",
   "metadata": {},
   "source": [
    "a.) make a flat list from the following object"
   ]
  },
  {
   "cell_type": "code",
   "execution_count": 54,
   "metadata": {},
   "outputs": [],
   "source": [
    "mylist = [[\"Guitar\",\"Drums\"],[\"Pink Floyd\",\"REM\",\"Rolling Stones\",\"The Beatles\"]]"
   ]
  },
  {
   "cell_type": "code",
   "execution_count": null,
   "metadata": {},
   "outputs": [],
   "source": [
    "# YOUR CODE HERE:\n",
    "\n",
    "myflatlist = "
   ]
  },
  {
   "cell_type": "markdown",
   "metadata": {},
   "source": [
    "b.) put the first two objects and the last four objects in your new flattened list into their own lists"
   ]
  },
  {
   "cell_type": "code",
   "execution_count": 13,
   "metadata": {
    "collapsed": true
   },
   "outputs": [],
   "source": [
    "# YOUR CODE HERE:\n"
   ]
  },
  {
   "cell_type": "markdown",
   "metadata": {},
   "source": [
    "c.) Remake the original object"
   ]
  },
  {
   "cell_type": "code",
   "execution_count": 14,
   "metadata": {
    "collapsed": true
   },
   "outputs": [],
   "source": [
    "# YOUR CODE HERE:\n"
   ]
  },
  {
   "cell_type": "markdown",
   "metadata": {},
   "source": [
    "d.) Check whether they are equal. If they are not - why not?"
   ]
  },
  {
   "cell_type": "code",
   "execution_count": 15,
   "metadata": {},
   "outputs": [],
   "source": [
    "# YOUR CODE HERE:\n"
   ]
  },
  {
   "cell_type": "markdown",
   "metadata": {},
   "source": [
    "#### EXERCISE 5 - Libraries\n",
    "_Objective: Import other people's code using libraries._"
   ]
  },
  {
   "cell_type": "markdown",
   "metadata": {},
   "source": [
    "How would you import the 'unary_union' function from the ops folder of the shapely library?"
   ]
  },
  {
   "cell_type": "code",
   "execution_count": 16,
   "metadata": {},
   "outputs": [],
   "source": [
    "# YOUR CODE HERE:\n"
   ]
  },
  {
   "cell_type": "markdown",
   "metadata": {},
   "source": [
    "How would you import all of the networkx library?"
   ]
  },
  {
   "cell_type": "code",
   "execution_count": 17,
   "metadata": {
    "collapsed": true
   },
   "outputs": [],
   "source": [
    "# YOUR CODE HERE:\n"
   ]
  },
  {
   "cell_type": "markdown",
   "metadata": {},
   "source": [
    "### Homework!"
   ]
  },
  {
   "cell_type": "markdown",
   "metadata": {},
   "source": [
    "Get Anaconda Navigator installed on your laptop in the C:\\WBG folder before next lesson. \n",
    "Once it is installed, create a new environment (Environments --> Create), with python 3.5 as the package. \n",
    "Call it 'Python4DataSci'\n",
    "\n",
    "BONUS: install pandas with pip (google it!)"
   ]
  }
 ],
 "metadata": {
  "kernelspec": {
   "display_name": "Python 3",
   "language": "python",
   "name": "python3"
  },
  "language_info": {
   "codemirror_mode": {
    "name": "ipython",
    "version": 3
   },
   "file_extension": ".py",
   "mimetype": "text/x-python",
   "name": "python",
   "nbconvert_exporter": "python",
   "pygments_lexer": "ipython3",
   "version": "3.7.1"
  }
 },
 "nbformat": 4,
 "nbformat_minor": 2
}
