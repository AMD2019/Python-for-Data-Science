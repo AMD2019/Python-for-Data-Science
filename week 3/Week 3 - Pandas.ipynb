{
 "cells": [
  {
   "cell_type": "code",
   "execution_count": 8,
   "metadata": {},
   "outputs": [],
   "source": [
    "import pandas as pd\n",
    "import numpy as np"
   ]
  },
  {
   "cell_type": "markdown",
   "metadata": {},
   "source": [
    "#### Week 3 - Pandas\n",
    "Pandas, a library written by Wes McKinney, is a great tool for data manipulation and analysis. It provides two classes:\n",
    "* a Series object, which handles a single column of data;\n",
    "* a DataFrame object, which handles multiple columns (like an Excel spreadsheet).\n",
    "\n",
    "You can build your own DataFrames or read in from other sources like CSVs or JSON. Pandas handles missing data beautifully; lets you sort, operate on and and merge datasets; provides plotting capabilities; and handles time series data (among other advantages)."
   ]
  },
  {
   "cell_type": "markdown",
   "metadata": {},
   "source": [
    "#### 1.1 Creating Series and DataFrames"
   ]
  },
  {
   "cell_type": "code",
   "execution_count": 5,
   "metadata": {},
   "outputs": [
    {
     "data": {
      "text/plain": [
       "0        Cardiff\n",
       "1        Swansea\n",
       "2    Abergavenny\n",
       "3    Machynlleth\n",
       "dtype: object"
      ]
     },
     "execution_count": 5,
     "metadata": {},
     "output_type": "execute_result"
    }
   ],
   "source": [
    "# Create a series by passing a list\n",
    "\n",
    "towns = pd.Series(['Cardiff', 'Swansea', 'Abergavenny','Machynlleth'])\n",
    "towns"
   ]
  },
  {
   "cell_type": "code",
   "execution_count": 126,
   "metadata": {},
   "outputs": [],
   "source": [
    "towns = ['Cardiff', 'Swansea', 'Abergavenny','Machynlleth']\n",
    "populations = [335145, 230300, 12515, 2235]\n",
    "number_of_pubs = [2100, 1680, 198, 48]"
   ]
  },
  {
   "cell_type": "code",
   "execution_count": 127,
   "metadata": {},
   "outputs": [],
   "source": [
    "# Create an empty DataFrame, and add new columns to it\n",
    "\n",
    "towns_df = pd.DataFrame()\n",
    "towns_df['name'] = towns\n",
    "towns_df['population'] = populations"
   ]
  },
  {
   "cell_type": "code",
   "execution_count": 128,
   "metadata": {},
   "outputs": [
    {
     "data": {
      "text/plain": [
       "name          object\n",
       "population     int64\n",
       "dtype: object"
      ]
     },
     "execution_count": 128,
     "metadata": {},
     "output_type": "execute_result"
    }
   ],
   "source": [
    "# The columns have different dtypes\n",
    "\n",
    "towns_df.dtypes"
   ]
  },
  {
   "cell_type": "code",
   "execution_count": 129,
   "metadata": {},
   "outputs": [
    {
     "data": {
      "text/html": [
       "<div>\n",
       "<style scoped>\n",
       "    .dataframe tbody tr th:only-of-type {\n",
       "        vertical-align: middle;\n",
       "    }\n",
       "\n",
       "    .dataframe tbody tr th {\n",
       "        vertical-align: top;\n",
       "    }\n",
       "\n",
       "    .dataframe thead th {\n",
       "        text-align: right;\n",
       "    }\n",
       "</style>\n",
       "<table border=\"1\" class=\"dataframe\">\n",
       "  <thead>\n",
       "    <tr style=\"text-align: right;\">\n",
       "      <th></th>\n",
       "      <th>name</th>\n",
       "      <th>population</th>\n",
       "      <th>n_pubs</th>\n",
       "    </tr>\n",
       "  </thead>\n",
       "  <tbody>\n",
       "    <tr>\n",
       "      <th>0</th>\n",
       "      <td>Cardiff</td>\n",
       "      <td>335145</td>\n",
       "      <td>2100</td>\n",
       "    </tr>\n",
       "    <tr>\n",
       "      <th>1</th>\n",
       "      <td>Swansea</td>\n",
       "      <td>230300</td>\n",
       "      <td>1680</td>\n",
       "    </tr>\n",
       "    <tr>\n",
       "      <th>2</th>\n",
       "      <td>Abergavenny</td>\n",
       "      <td>12515</td>\n",
       "      <td>198</td>\n",
       "    </tr>\n",
       "    <tr>\n",
       "      <th>3</th>\n",
       "      <td>Machynlleth</td>\n",
       "      <td>2235</td>\n",
       "      <td>48</td>\n",
       "    </tr>\n",
       "  </tbody>\n",
       "</table>\n",
       "</div>"
      ],
      "text/plain": [
       "          name  population  n_pubs\n",
       "0      Cardiff      335145    2100\n",
       "1      Swansea      230300    1680\n",
       "2  Abergavenny       12515     198\n",
       "3  Machynlleth        2235      48"
      ]
     },
     "execution_count": 129,
     "metadata": {},
     "output_type": "execute_result"
    }
   ],
   "source": [
    "# Create a DataFrame using dictionaries to specify column name and data\n",
    "\n",
    "towns_df = pd.DataFrame({'name': towns,\n",
    "                         'population': populations,\n",
    "                         'n_pubs': number_of_pubs})\n",
    "\n",
    "towns_df"
   ]
  },
  {
   "cell_type": "markdown",
   "metadata": {},
   "source": [
    "#### 1.2 View and select data"
   ]
  },
  {
   "cell_type": "code",
   "execution_count": 130,
   "metadata": {},
   "outputs": [
    {
     "data": {
      "text/html": [
       "<div>\n",
       "<style scoped>\n",
       "    .dataframe tbody tr th:only-of-type {\n",
       "        vertical-align: middle;\n",
       "    }\n",
       "\n",
       "    .dataframe tbody tr th {\n",
       "        vertical-align: top;\n",
       "    }\n",
       "\n",
       "    .dataframe thead th {\n",
       "        text-align: right;\n",
       "    }\n",
       "</style>\n",
       "<table border=\"1\" class=\"dataframe\">\n",
       "  <thead>\n",
       "    <tr style=\"text-align: right;\">\n",
       "      <th></th>\n",
       "      <th>name</th>\n",
       "      <th>population</th>\n",
       "      <th>n_pubs</th>\n",
       "    </tr>\n",
       "  </thead>\n",
       "  <tbody>\n",
       "    <tr>\n",
       "      <th>0</th>\n",
       "      <td>Cardiff</td>\n",
       "      <td>335145</td>\n",
       "      <td>2100</td>\n",
       "    </tr>\n",
       "    <tr>\n",
       "      <th>1</th>\n",
       "      <td>Swansea</td>\n",
       "      <td>230300</td>\n",
       "      <td>1680</td>\n",
       "    </tr>\n",
       "  </tbody>\n",
       "</table>\n",
       "</div>"
      ],
      "text/plain": [
       "      name  population  n_pubs\n",
       "0  Cardiff      335145    2100\n",
       "1  Swansea      230300    1680"
      ]
     },
     "execution_count": 130,
     "metadata": {},
     "output_type": "execute_result"
    }
   ],
   "source": [
    "# the .head() method shows the top rows\n",
    "\n",
    "towns_df.head(2)"
   ]
  },
  {
   "cell_type": "code",
   "execution_count": 154,
   "metadata": {},
   "outputs": [
    {
     "data": {
      "text/plain": [
       "(4, 5)"
      ]
     },
     "execution_count": 154,
     "metadata": {},
     "output_type": "execute_result"
    }
   ],
   "source": [
    "# check how many rows and columns\n",
    "towns_df.shape"
   ]
  },
  {
   "cell_type": "code",
   "execution_count": 131,
   "metadata": {},
   "outputs": [
    {
     "data": {
      "text/plain": [
       "0    335145\n",
       "1    230300\n",
       "2     12515\n",
       "3      2235\n",
       "Name: population, dtype: int64"
      ]
     },
     "execution_count": 131,
     "metadata": {},
     "output_type": "execute_result"
    }
   ],
   "source": [
    "# Inspect only one series using square bracket notation\n",
    "\n",
    "towns_df['population']"
   ]
  },
  {
   "cell_type": "code",
   "execution_count": 132,
   "metadata": {},
   "outputs": [
    {
     "data": {
      "text/plain": [
       "0    335145\n",
       "1    230300\n",
       "2     12515\n",
       "3      2235\n",
       "Name: population, dtype: int64"
      ]
     },
     "execution_count": 132,
     "metadata": {},
     "output_type": "execute_result"
    }
   ],
   "source": [
    "# Or dot notation\n",
    "\n",
    "towns_df.population"
   ]
  },
  {
   "cell_type": "code",
   "execution_count": 133,
   "metadata": {},
   "outputs": [
    {
     "data": {
      "text/plain": [
       "0    2100\n",
       "1    1680\n",
       "2     198\n",
       "Name: n_pubs, dtype: int64"
      ]
     },
     "execution_count": 133,
     "metadata": {},
     "output_type": "execute_result"
    }
   ],
   "source": [
    "# Standard Python indexing works\n",
    "\n",
    "towns_df.n_pubs[:3]"
   ]
  },
  {
   "cell_type": "markdown",
   "metadata": {},
   "source": [
    "#### 1.3 Select and manipulate data"
   ]
  },
  {
   "cell_type": "code",
   "execution_count": 134,
   "metadata": {},
   "outputs": [
    {
     "data": {
      "text/html": [
       "<div>\n",
       "<style scoped>\n",
       "    .dataframe tbody tr th:only-of-type {\n",
       "        vertical-align: middle;\n",
       "    }\n",
       "\n",
       "    .dataframe tbody tr th {\n",
       "        vertical-align: top;\n",
       "    }\n",
       "\n",
       "    .dataframe thead th {\n",
       "        text-align: right;\n",
       "    }\n",
       "</style>\n",
       "<table border=\"1\" class=\"dataframe\">\n",
       "  <thead>\n",
       "    <tr style=\"text-align: right;\">\n",
       "      <th></th>\n",
       "      <th>name</th>\n",
       "      <th>population</th>\n",
       "      <th>n_pubs</th>\n",
       "    </tr>\n",
       "  </thead>\n",
       "  <tbody>\n",
       "    <tr>\n",
       "      <th>2</th>\n",
       "      <td>Abergavenny</td>\n",
       "      <td>12515</td>\n",
       "      <td>198</td>\n",
       "    </tr>\n",
       "  </tbody>\n",
       "</table>\n",
       "</div>"
      ],
      "text/plain": [
       "          name  population  n_pubs\n",
       "2  Abergavenny       12515     198"
      ]
     },
     "execution_count": 134,
     "metadata": {},
     "output_type": "execute_result"
    }
   ],
   "source": [
    "# Use Boolean indexing to inspect values based on a condition\n",
    "\n",
    "towns_df[towns_df.name == 'Abergavenny']"
   ]
  },
  {
   "cell_type": "code",
   "execution_count": 135,
   "metadata": {},
   "outputs": [
    {
     "data": {
      "text/html": [
       "<div>\n",
       "<style scoped>\n",
       "    .dataframe tbody tr th:only-of-type {\n",
       "        vertical-align: middle;\n",
       "    }\n",
       "\n",
       "    .dataframe tbody tr th {\n",
       "        vertical-align: top;\n",
       "    }\n",
       "\n",
       "    .dataframe thead th {\n",
       "        text-align: right;\n",
       "    }\n",
       "</style>\n",
       "<table border=\"1\" class=\"dataframe\">\n",
       "  <thead>\n",
       "    <tr style=\"text-align: right;\">\n",
       "      <th></th>\n",
       "      <th>name</th>\n",
       "      <th>population</th>\n",
       "      <th>n_pubs</th>\n",
       "      <th>pubs_per_capita</th>\n",
       "      <th>people_per_pub</th>\n",
       "    </tr>\n",
       "  </thead>\n",
       "  <tbody>\n",
       "    <tr>\n",
       "      <th>0</th>\n",
       "      <td>Cardiff</td>\n",
       "      <td>335145</td>\n",
       "      <td>2100</td>\n",
       "      <td>0.006266</td>\n",
       "      <td>159.592857</td>\n",
       "    </tr>\n",
       "    <tr>\n",
       "      <th>1</th>\n",
       "      <td>Swansea</td>\n",
       "      <td>230300</td>\n",
       "      <td>1680</td>\n",
       "      <td>0.007295</td>\n",
       "      <td>137.083333</td>\n",
       "    </tr>\n",
       "    <tr>\n",
       "      <th>2</th>\n",
       "      <td>Abergavenny</td>\n",
       "      <td>12515</td>\n",
       "      <td>198</td>\n",
       "      <td>0.015821</td>\n",
       "      <td>63.207071</td>\n",
       "    </tr>\n",
       "    <tr>\n",
       "      <th>3</th>\n",
       "      <td>Machynlleth</td>\n",
       "      <td>2235</td>\n",
       "      <td>48</td>\n",
       "      <td>0.021477</td>\n",
       "      <td>46.562500</td>\n",
       "    </tr>\n",
       "  </tbody>\n",
       "</table>\n",
       "</div>"
      ],
      "text/plain": [
       "          name  population  n_pubs  pubs_per_capita  people_per_pub\n",
       "0      Cardiff      335145    2100         0.006266      159.592857\n",
       "1      Swansea      230300    1680         0.007295      137.083333\n",
       "2  Abergavenny       12515     198         0.015821       63.207071\n",
       "3  Machynlleth        2235      48         0.021477       46.562500"
      ]
     },
     "execution_count": 135,
     "metadata": {},
     "output_type": "execute_result"
    }
   ],
   "source": [
    "# Create a new column with math outputs\n",
    "\n",
    "towns_df['pubs_per_capita'] = towns_df.n_pubs / towns_df.population\n",
    "towns_df['people_per_pub'] = towns_df.population / towns_df.n_pubs\n",
    "\n",
    "towns_df"
   ]
  },
  {
   "cell_type": "code",
   "execution_count": 136,
   "metadata": {},
   "outputs": [
    {
     "data": {
      "text/html": [
       "<div>\n",
       "<style scoped>\n",
       "    .dataframe tbody tr th:only-of-type {\n",
       "        vertical-align: middle;\n",
       "    }\n",
       "\n",
       "    .dataframe tbody tr th {\n",
       "        vertical-align: top;\n",
       "    }\n",
       "\n",
       "    .dataframe thead th {\n",
       "        text-align: right;\n",
       "    }\n",
       "</style>\n",
       "<table border=\"1\" class=\"dataframe\">\n",
       "  <thead>\n",
       "    <tr style=\"text-align: right;\">\n",
       "      <th></th>\n",
       "      <th>name</th>\n",
       "      <th>population</th>\n",
       "      <th>n_pubs</th>\n",
       "      <th>pubs_per_capita</th>\n",
       "      <th>people_per_pub</th>\n",
       "    </tr>\n",
       "  </thead>\n",
       "  <tbody>\n",
       "    <tr>\n",
       "      <th>1</th>\n",
       "      <td>Swansea</td>\n",
       "      <td>230300</td>\n",
       "      <td>1680</td>\n",
       "      <td>0.007295</td>\n",
       "      <td>137.083333</td>\n",
       "    </tr>\n",
       "    <tr>\n",
       "      <th>2</th>\n",
       "      <td>Abergavenny</td>\n",
       "      <td>12515</td>\n",
       "      <td>198</td>\n",
       "      <td>0.015821</td>\n",
       "      <td>63.207071</td>\n",
       "    </tr>\n",
       "    <tr>\n",
       "      <th>3</th>\n",
       "      <td>Machynlleth</td>\n",
       "      <td>2235</td>\n",
       "      <td>48</td>\n",
       "      <td>0.021477</td>\n",
       "      <td>46.562500</td>\n",
       "    </tr>\n",
       "  </tbody>\n",
       "</table>\n",
       "</div>"
      ],
      "text/plain": [
       "          name  population  n_pubs  pubs_per_capita  people_per_pub\n",
       "1      Swansea      230300    1680         0.007295      137.083333\n",
       "2  Abergavenny       12515     198         0.015821       63.207071\n",
       "3  Machynlleth        2235      48         0.021477       46.562500"
      ]
     },
     "execution_count": 136,
     "metadata": {},
     "output_type": "execute_result"
    }
   ],
   "source": [
    "# Use a single column's value to select data\n",
    "\n",
    "towns_df[towns_df.people_per_pub < 150]"
   ]
  },
  {
   "cell_type": "code",
   "execution_count": 149,
   "metadata": {},
   "outputs": [],
   "source": [
    "# Use the .sort_values() method\n",
    "# Helpful parameter: set inplace = True if you want to modify your df\n",
    "\n",
    "towns_df.sort_values(by = 'people_per_pub', inplace = True)"
   ]
  },
  {
   "cell_type": "code",
   "execution_count": 151,
   "metadata": {},
   "outputs": [
    {
     "data": {
      "text/plain": [
       "<matplotlib.axes._subplots.AxesSubplot at 0x1206b5518>"
      ]
     },
     "execution_count": 151,
     "metadata": {},
     "output_type": "execute_result"
    },
    {
     "data": {
      "image/png": "[encoded data removed]",
      "text/plain": [
       "<Figure size 432x288 with 1 Axes>"
      ]
     },
     "metadata": {
      "needs_background": "light"
     },
     "output_type": "display_data"
    }
   ],
   "source": [
    "# Plot charts using the .plot() method \n",
    "\n",
    "towns_df.plot(x = 'name', y = 'pubs_per_capita', kind = 'bar', title = 'Some great towns to visit')"
   ]
  },
  {
   "cell_type": "code",
   "execution_count": 125,
   "metadata": {},
   "outputs": [
    {
     "name": "stderr",
     "output_type": "stream",
     "text": [
      "/Users/nicholasjones/anaconda3/lib/python3.7/site-packages/ipykernel_launcher.py:4: SettingWithCopyWarning: \n",
      "A value is trying to be set on a copy of a slice from a DataFrame\n",
      "\n",
      "See the caveats in the documentation: http://pandas.pydata.org/pandas-docs/stable/indexing.html#indexing-view-versus-copy\n",
      "  after removing the cwd from sys.path.\n"
     ]
    },
    {
     "data": {
      "text/html": [
       "<div>\n",
       "<style scoped>\n",
       "    .dataframe tbody tr th:only-of-type {\n",
       "        vertical-align: middle;\n",
       "    }\n",
       "\n",
       "    .dataframe tbody tr th {\n",
       "        vertical-align: top;\n",
       "    }\n",
       "\n",
       "    .dataframe thead th {\n",
       "        text-align: right;\n",
       "    }\n",
       "</style>\n",
       "<table border=\"1\" class=\"dataframe\">\n",
       "  <thead>\n",
       "    <tr style=\"text-align: right;\">\n",
       "      <th></th>\n",
       "      <th>name</th>\n",
       "      <th>population</th>\n",
       "      <th>n_pubs</th>\n",
       "      <th>pubs_per_capita</th>\n",
       "      <th>people_per_pub</th>\n",
       "      <th>to_visit</th>\n",
       "    </tr>\n",
       "  </thead>\n",
       "  <tbody>\n",
       "    <tr>\n",
       "      <th>0</th>\n",
       "      <td>Cardiff</td>\n",
       "      <td>335145</td>\n",
       "      <td>2100</td>\n",
       "      <td>0.006266</td>\n",
       "      <td>159.592857</td>\n",
       "      <td>no</td>\n",
       "    </tr>\n",
       "    <tr>\n",
       "      <th>1</th>\n",
       "      <td>Swansea</td>\n",
       "      <td>230300</td>\n",
       "      <td>1680</td>\n",
       "      <td>0.007295</td>\n",
       "      <td>137.083333</td>\n",
       "      <td>no</td>\n",
       "    </tr>\n",
       "    <tr>\n",
       "      <th>2</th>\n",
       "      <td>Abergavenny</td>\n",
       "      <td>12515</td>\n",
       "      <td>183</td>\n",
       "      <td>0.014622</td>\n",
       "      <td>68.387978</td>\n",
       "      <td>no</td>\n",
       "    </tr>\n",
       "    <tr>\n",
       "      <th>3</th>\n",
       "      <td>Machynlleth</td>\n",
       "      <td>2235</td>\n",
       "      <td>48</td>\n",
       "      <td>0.021477</td>\n",
       "      <td>46.562500</td>\n",
       "      <td>yes!</td>\n",
       "    </tr>\n",
       "  </tbody>\n",
       "</table>\n",
       "</div>"
      ],
      "text/plain": [
       "          name  population  n_pubs  pubs_per_capita  people_per_pub to_visit\n",
       "0      Cardiff      335145    2100         0.006266      159.592857       no\n",
       "1      Swansea      230300    1680         0.007295      137.083333       no\n",
       "2  Abergavenny       12515     183         0.014622       68.387978       no\n",
       "3  Machynlleth        2235      48         0.021477       46.562500     yes!"
      ]
     },
     "execution_count": 125,
     "metadata": {},
     "output_type": "execute_result"
    }
   ],
   "source": [
    "# Modify values\n",
    "\n",
    "towns_df['to_visit'] = 'no'\n",
    "towns_df.to_visit[towns_df.people_per_pub <50] = 'yes!'\n",
    "towns_df"
   ]
  },
  {
   "cell_type": "markdown",
   "metadata": {},
   "source": [
    "### 2. NYC buildings - Load and clean a noisy dataset"
   ]
  },
  {
   "cell_type": "markdown",
   "metadata": {},
   "source": [
    "#### 2.1 Read data from files"
   ]
  },
  {
   "cell_type": "code",
   "execution_count": 223,
   "metadata": {},
   "outputs": [
    {
     "name": "stderr",
     "output_type": "stream",
     "text": [
      "/Users/nicholasjones/anaconda3/lib/python3.7/site-packages/IPython/core/interactiveshell.py:3049: DtypeWarning: Columns (16,17,18,20,22,77) have mixed types. Specify dtype option on import or set low_memory=False.\n",
      "  interactivity=interactivity, compiler=compiler, result=result)\n"
     ]
    }
   ],
   "source": [
    "# Create a dataframe using read_csv()\n",
    "\n",
    "filename = 'pluto_shortened.csv'\n",
    "url = 'https://github.com/worldbank/Python-for-Data-Science/raw/master/week%203/pluto_shortened.csv'\n",
    "\n",
    "df = pd.read_csv('pluto_18v2_1.csv')"
   ]
  },
  {
   "cell_type": "code",
   "execution_count": 227,
   "metadata": {},
   "outputs": [],
   "source": [
    "df = df[::20]"
   ]
  },
  {
   "cell_type": "code",
   "execution_count": 229,
   "metadata": {},
   "outputs": [
    {
     "data": {
      "text/plain": [
       "(42950, 96)"
      ]
     },
     "execution_count": 229,
     "metadata": {},
     "output_type": "execute_result"
    }
   ],
   "source": [
    "df.shape"
   ]
  },
  {
   "cell_type": "code",
   "execution_count": 221,
   "metadata": {},
   "outputs": [
    {
     "name": "stdout",
     "output_type": "stream",
     "text": [
      "Week 3 - Functions demo.ipynb \u001b[31mpluto_18v2_1.csv\u001b[m\u001b[m\n",
      "Week 3 - Functions.ipynb      pluto_shortened.csv\n",
      "Week 3 - Pandas.ipynb         readme.md\n",
      "dogNames.csv\n"
     ]
    }
   ],
   "source": [
    "!ls"
   ]
  },
  {
   "cell_type": "code",
   "execution_count": 219,
   "metadata": {},
   "outputs": [
    {
     "data": {
      "text/html": [
       "<div>\n",
       "<style scoped>\n",
       "    .dataframe tbody tr th:only-of-type {\n",
       "        vertical-align: middle;\n",
       "    }\n",
       "\n",
       "    .dataframe tbody tr th {\n",
       "        vertical-align: top;\n",
       "    }\n",
       "\n",
       "    .dataframe thead th {\n",
       "        text-align: right;\n",
       "    }\n",
       "</style>\n",
       "<table border=\"1\" class=\"dataframe\">\n",
       "  <thead>\n",
       "    <tr style=\"text-align: right;\">\n",
       "      <th></th>\n",
       "      <th>Unnamed: 0</th>\n",
       "      <th>borough</th>\n",
       "      <th>block</th>\n",
       "      <th>lot</th>\n",
       "      <th>cd</th>\n",
       "      <th>ct2010</th>\n",
       "      <th>cb2010</th>\n",
       "      <th>schooldist</th>\n",
       "      <th>council</th>\n",
       "      <th>zipcode</th>\n",
       "      <th>...</th>\n",
       "      <th>firm07_flag</th>\n",
       "      <th>pfirm15_flag</th>\n",
       "      <th>rpaddate</th>\n",
       "      <th>dcasdate</th>\n",
       "      <th>zoningdate</th>\n",
       "      <th>landmkdate</th>\n",
       "      <th>basempdate</th>\n",
       "      <th>masdate</th>\n",
       "      <th>polidate</th>\n",
       "      <th>edesigdate</th>\n",
       "    </tr>\n",
       "  </thead>\n",
       "  <tbody>\n",
       "    <tr>\n",
       "      <th>0</th>\n",
       "      <td>0</td>\n",
       "      <td>BX</td>\n",
       "      <td>5641.0</td>\n",
       "      <td>670.0</td>\n",
       "      <td>210.0</td>\n",
       "      <td>516.00</td>\n",
       "      <td>2.0</td>\n",
       "      <td>NaN</td>\n",
       "      <td>13.0</td>\n",
       "      <td>NaN</td>\n",
       "      <td>...</td>\n",
       "      <td>1.0</td>\n",
       "      <td>1.0</td>\n",
       "      <td>12/6/2018</td>\n",
       "      <td>12/20/2018</td>\n",
       "      <td>12/21/2018</td>\n",
       "      <td>12/20/2018</td>\n",
       "      <td>12/21/2018</td>\n",
       "      <td>NaN</td>\n",
       "      <td>NaN</td>\n",
       "      <td>12/20/2018</td>\n",
       "    </tr>\n",
       "    <tr>\n",
       "      <th>1</th>\n",
       "      <td>8000</td>\n",
       "      <td>SI</td>\n",
       "      <td>7864.0</td>\n",
       "      <td>67.0</td>\n",
       "      <td>503.0</td>\n",
       "      <td>244.02</td>\n",
       "      <td>1012.0</td>\n",
       "      <td>31.0</td>\n",
       "      <td>51.0</td>\n",
       "      <td>10307.0</td>\n",
       "      <td>...</td>\n",
       "      <td>NaN</td>\n",
       "      <td>NaN</td>\n",
       "      <td>12/6/2018</td>\n",
       "      <td>12/20/2018</td>\n",
       "      <td>12/21/2018</td>\n",
       "      <td>12/20/2018</td>\n",
       "      <td>12/21/2018</td>\n",
       "      <td>NaN</td>\n",
       "      <td>NaN</td>\n",
       "      <td>12/20/2018</td>\n",
       "    </tr>\n",
       "    <tr>\n",
       "      <th>2</th>\n",
       "      <td>16000</td>\n",
       "      <td>QN</td>\n",
       "      <td>11551.0</td>\n",
       "      <td>110.0</td>\n",
       "      <td>410.0</td>\n",
       "      <td>88.00</td>\n",
       "      <td>1009.0</td>\n",
       "      <td>27.0</td>\n",
       "      <td>32.0</td>\n",
       "      <td>NaN</td>\n",
       "      <td>...</td>\n",
       "      <td>NaN</td>\n",
       "      <td>NaN</td>\n",
       "      <td>12/6/2018</td>\n",
       "      <td>12/20/2018</td>\n",
       "      <td>12/21/2018</td>\n",
       "      <td>12/20/2018</td>\n",
       "      <td>12/21/2018</td>\n",
       "      <td>NaN</td>\n",
       "      <td>NaN</td>\n",
       "      <td>12/20/2018</td>\n",
       "    </tr>\n",
       "    <tr>\n",
       "      <th>3</th>\n",
       "      <td>24000</td>\n",
       "      <td>BK</td>\n",
       "      <td>6094.0</td>\n",
       "      <td>14.0</td>\n",
       "      <td>310.0</td>\n",
       "      <td>152.00</td>\n",
       "      <td>2002.0</td>\n",
       "      <td>20.0</td>\n",
       "      <td>43.0</td>\n",
       "      <td>11228.0</td>\n",
       "      <td>...</td>\n",
       "      <td>NaN</td>\n",
       "      <td>NaN</td>\n",
       "      <td>12/6/2018</td>\n",
       "      <td>12/20/2018</td>\n",
       "      <td>12/21/2018</td>\n",
       "      <td>12/20/2018</td>\n",
       "      <td>12/21/2018</td>\n",
       "      <td>NaN</td>\n",
       "      <td>NaN</td>\n",
       "      <td>12/20/2018</td>\n",
       "    </tr>\n",
       "    <tr>\n",
       "      <th>4</th>\n",
       "      <td>32000</td>\n",
       "      <td>QN</td>\n",
       "      <td>7791.0</td>\n",
       "      <td>2.0</td>\n",
       "      <td>411.0</td>\n",
       "      <td>1291.02</td>\n",
       "      <td>1001.0</td>\n",
       "      <td>26.0</td>\n",
       "      <td>23.0</td>\n",
       "      <td>11364.0</td>\n",
       "      <td>...</td>\n",
       "      <td>NaN</td>\n",
       "      <td>NaN</td>\n",
       "      <td>12/6/2018</td>\n",
       "      <td>12/20/2018</td>\n",
       "      <td>12/21/2018</td>\n",
       "      <td>12/20/2018</td>\n",
       "      <td>12/21/2018</td>\n",
       "      <td>NaN</td>\n",
       "      <td>NaN</td>\n",
       "      <td>12/20/2018</td>\n",
       "    </tr>\n",
       "  </tbody>\n",
       "</table>\n",
       "<p>5 rows × 97 columns</p>\n",
       "</div>"
      ],
      "text/plain": [
       "   Unnamed: 0 borough    block    lot     cd   ct2010  cb2010  schooldist  \\\n",
       "0           0      BX   5641.0  670.0  210.0   516.00     2.0         NaN   \n",
       "1        8000      SI   7864.0   67.0  503.0   244.02  1012.0        31.0   \n",
       "2       16000      QN  11551.0  110.0  410.0    88.00  1009.0        27.0   \n",
       "3       24000      BK   6094.0   14.0  310.0   152.00  2002.0        20.0   \n",
       "4       32000      QN   7791.0    2.0  411.0  1291.02  1001.0        26.0   \n",
       "\n",
       "   council  zipcode  ... firm07_flag  pfirm15_flag   rpaddate    dcasdate  \\\n",
       "0     13.0      NaN  ...         1.0           1.0  12/6/2018  12/20/2018   \n",
       "1     51.0  10307.0  ...         NaN           NaN  12/6/2018  12/20/2018   \n",
       "2     32.0      NaN  ...         NaN           NaN  12/6/2018  12/20/2018   \n",
       "3     43.0  11228.0  ...         NaN           NaN  12/6/2018  12/20/2018   \n",
       "4     23.0  11364.0  ...         NaN           NaN  12/6/2018  12/20/2018   \n",
       "\n",
       "   zoningdate  landmkdate  basempdate masdate  polidate  edesigdate  \n",
       "0  12/21/2018  12/20/2018  12/21/2018     NaN       NaN  12/20/2018  \n",
       "1  12/21/2018  12/20/2018  12/21/2018     NaN       NaN  12/20/2018  \n",
       "2  12/21/2018  12/20/2018  12/21/2018     NaN       NaN  12/20/2018  \n",
       "3  12/21/2018  12/20/2018  12/21/2018     NaN       NaN  12/20/2018  \n",
       "4  12/21/2018  12/20/2018  12/21/2018     NaN       NaN  12/20/2018  \n",
       "\n",
       "[5 rows x 97 columns]"
      ]
     },
     "execution_count": 219,
     "metadata": {},
     "output_type": "execute_result"
    }
   ],
   "source": [
    "# Inspect the dataframe (it may be messy)\n",
    "\n",
    "df.head()"
   ]
  },
  {
   "cell_type": "code",
   "execution_count": 220,
   "metadata": {},
   "outputs": [
    {
     "data": {
      "text/plain": [
       "(108, 97)"
      ]
     },
     "execution_count": 220,
     "metadata": {},
     "output_type": "execute_result"
    }
   ],
   "source": [
    "df.shape"
   ]
  },
  {
   "cell_type": "markdown",
   "metadata": {},
   "source": [
    "#### 2.2 Clean dataset"
   ]
  },
  {
   "cell_type": "code",
   "execution_count": 211,
   "metadata": {},
   "outputs": [],
   "source": [
    "# List the columns and select some\n",
    "\n",
    "df.columns\n",
    "\n",
    "my_cols = ['borough','numfloors','yearbuilt', 'landuse', 'zipcode', 'unitstotal', 'assesstot']\n",
    "df = df[my_cols]"
   ]
  },
  {
   "cell_type": "code",
   "execution_count": 212,
   "metadata": {},
   "outputs": [],
   "source": [
    "# Rename columns\n",
    "\n",
    "df.columns\n",
    "\n",
    "df.rename(columns = {'zipcode': 'zip', 'yearbuilt': 'year_built', 'unitstotal': 'housing_units', 'assesstotal': 'assessed_value_USD'},\n",
    "         inplace = True)"
   ]
  },
  {
   "cell_type": "code",
   "execution_count": 213,
   "metadata": {},
   "outputs": [
    {
     "data": {
      "text/plain": [
       "<matplotlib.axes._subplots.AxesSubplot at 0x12a781f98>"
      ]
     },
     "execution_count": 213,
     "metadata": {},
     "output_type": "execute_result"
    },
    {
     "data": {
      "image/png": "[encoded data removed]",
      "text/plain": [
       "<Figure size 432x288 with 1 Axes>"
      ]
     },
     "metadata": {
      "needs_background": "light"
     },
     "output_type": "display_data"
    }
   ],
   "source": [
    "# Check distribution of year_built. Any problem?\n",
    "\n",
    "df.year_built.hist()"
   ]
  },
  {
   "cell_type": "code",
   "execution_count": 214,
   "metadata": {},
   "outputs": [
    {
     "name": "stderr",
     "output_type": "stream",
     "text": [
      "/Users/nicholasjones/anaconda3/lib/python3.7/site-packages/ipykernel_launcher.py:4: SettingWithCopyWarning: \n",
      "A value is trying to be set on a copy of a slice from a DataFrame\n",
      "\n",
      "See the caveats in the documentation: http://pandas.pydata.org/pandas-docs/stable/indexing.html#indexing-view-versus-copy\n",
      "  after removing the cwd from sys.path.\n"
     ]
    },
    {
     "data": {
      "text/plain": [
       "<matplotlib.axes._subplots.AxesSubplot at 0x12a0dfeb8>"
      ]
     },
     "execution_count": 214,
     "metadata": {},
     "output_type": "execute_result"
    },
    {
     "data": {
      "image/png": "[encoded data removed]",
      "text/plain": [
       "<Figure size 432x288 with 1 Axes>"
      ]
     },
     "metadata": {
      "needs_background": "light"
     },
     "output_type": "display_data"
    }
   ],
   "source": [
    "# Presumably few NYC buildings were constructed during the days of the early Roman Empire.\n",
    "# So let's set year_built to np.nan for such values\n",
    "\n",
    "df.year_built[df.year_built < 1000] = np.nan\n",
    "\n",
    "df.year_built.hist()"
   ]
  },
  {
   "cell_type": "code",
   "execution_count": 215,
   "metadata": {},
   "outputs": [
    {
     "data": {
      "text/plain": [
       "borough          0\n",
       "numfloors        0\n",
       "year_built       7\n",
       "landuse          1\n",
       "zip              4\n",
       "housing_units    0\n",
       "assesstot        0\n",
       "dtype: int64"
      ]
     },
     "execution_count": 215,
     "metadata": {},
     "output_type": "execute_result"
    }
   ],
   "source": [
    "# How many missing values do the columns have?\n",
    "# We could drop rows with missing values, or impute them based on mean, median or another strategy.\n",
    "\n",
    "df.isnull().sum()\n",
    "\n",
    "#df.dropna(inplace = True)"
   ]
  },
  {
   "cell_type": "markdown",
   "metadata": {},
   "source": [
    "#### 2.3 Compute summary statistics"
   ]
  },
  {
   "cell_type": "code",
   "execution_count": 216,
   "metadata": {},
   "outputs": [
    {
     "data": {
      "text/plain": [
       "0      0.00\n",
       "1      2.00\n",
       "2      0.00\n",
       "3      2.00\n",
       "4      1.00\n",
       "5      2.00\n",
       "6      2.00\n",
       "7      2.00\n",
       "8      2.00\n",
       "9      1.00\n",
       "10     2.50\n",
       "11     1.50\n",
       "12     2.00\n",
       "13     2.00\n",
       "14     2.00\n",
       "15     2.00\n",
       "16     2.00\n",
       "17     1.00\n",
       "18     2.00\n",
       "19     1.50\n",
       "20     2.00\n",
       "21     2.00\n",
       "22     2.00\n",
       "23     2.00\n",
       "24     2.00\n",
       "25     2.00\n",
       "26     2.00\n",
       "27     2.00\n",
       "28     4.00\n",
       "29     2.00\n",
       "       ... \n",
       "78     1.00\n",
       "79     2.00\n",
       "80     3.00\n",
       "81     2.00\n",
       "82     2.00\n",
       "83     2.00\n",
       "84     2.00\n",
       "85     2.00\n",
       "86     1.00\n",
       "87     2.00\n",
       "88     2.00\n",
       "89     1.50\n",
       "90     0.00\n",
       "91     1.00\n",
       "92     2.00\n",
       "93     2.00\n",
       "94     2.00\n",
       "95     0.00\n",
       "96     2.50\n",
       "97     2.75\n",
       "98     2.50\n",
       "99     2.00\n",
       "100    2.00\n",
       "101    0.00\n",
       "102    3.00\n",
       "103    0.00\n",
       "104    2.00\n",
       "105    0.00\n",
       "106    3.00\n",
       "107    7.00\n",
       "Name: numfloors, Length: 108, dtype: float64"
      ]
     },
     "execution_count": 216,
     "metadata": {},
     "output_type": "execute_result"
    }
   ],
   "source": [
    "# Use methods like max, min and mean() on a column\n",
    "\n",
    "df.numfloors"
   ]
  },
  {
   "cell_type": "code",
   "execution_count": 217,
   "metadata": {},
   "outputs": [
    {
     "data": {
      "text/plain": [
       "(108, 7)"
      ]
     },
     "execution_count": 217,
     "metadata": {},
     "output_type": "execute_result"
    }
   ],
   "source": [
    "df.shape"
   ]
  }
 ],
 "metadata": {
  "kernelspec": {
   "display_name": "Python 3",
   "language": "python",
   "name": "python3"
  },
  "language_info": {
   "codemirror_mode": {
    "name": "ipython",
    "version": 3
   },
   "file_extension": ".py",
   "mimetype": "text/x-python",
   "name": "python",
   "nbconvert_exporter": "python",
   "pygments_lexer": "ipython3",
   "version": "3.7.3"
  }
 },
 "nbformat": 4,
 "nbformat_minor": 2
}
