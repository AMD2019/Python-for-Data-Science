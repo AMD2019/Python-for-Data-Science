{
 "cells": [
  {
   "cell_type": "code",
   "execution_count": 21,
   "metadata": {},
   "outputs": [
    {
     "name": "stdout",
     "output_type": "stream",
     "text": [
      "Populating the interactive namespace from numpy and matplotlib\n"
     ]
    },
    {
     "name": "stderr",
     "output_type": "stream",
     "text": [
      "/anaconda3/envs/basic/lib/python3.7/site-packages/IPython/core/magics/pylab.py:160: UserWarning: pylab import has clobbered these variables: ['plt']\n",
      "`%matplotlib` prevents importing * from pylab and numpy\n",
      "  \"\\n`%matplotlib` prevents importing * from pylab and numpy\"\n"
     ]
    }
   ],
   "source": [
    "import pylab as plt\n",
    "%pylab inline"
   ]
  },
  {
   "cell_type": "markdown",
   "metadata": {},
   "source": [
    "# Week 3 - Functions\n",
    "Once you've written some beautiful code, package it as a function, then call it as many times as you like. Functions save you from having to write out your code afresh each time you wish to perform an operation.\n"
   ]
  },
  {
   "cell_type": "markdown",
   "metadata": {},
   "source": [
    "#### 1.1 Intro to functions"
   ]
  },
  {
   "cell_type": "code",
   "execution_count": 29,
   "metadata": {},
   "outputs": [],
   "source": [
    "# A function is a reusable code block.\n",
    "\n",
    "def my_function():\n",
    "    print(\"Hi I'm a function\")"
   ]
  },
  {
   "cell_type": "code",
   "execution_count": 30,
   "metadata": {},
   "outputs": [
    {
     "name": "stdout",
     "output_type": "stream",
     "text": [
      "Hi I'm a function\n",
      "Hi I'm a function\n",
      "Hi I'm a function\n"
     ]
    }
   ],
   "source": [
    "# Once defined, you can call it once (or many times)\n",
    "\n",
    "my_function()\n",
    "\n",
    "for i in range(2):\n",
    "    my_function()"
   ]
  },
  {
   "cell_type": "code",
   "execution_count": 31,
   "metadata": {},
   "outputs": [],
   "source": [
    "# Note the def statement to define a function, the parentheses, colon, and indentation.\n",
    "# Python memorizes the function, ending in the last indented line. "
   ]
  },
  {
   "cell_type": "markdown",
   "metadata": {},
   "source": [
    "#### 1.2 Functions and parameters"
   ]
  },
  {
   "cell_type": "code",
   "execution_count": 32,
   "metadata": {},
   "outputs": [
    {
     "name": "stdout",
     "output_type": "stream",
     "text": [
      "Hello people, let's start Python week 3\n"
     ]
    }
   ],
   "source": [
    "# Pass information into a function with parameters\n",
    "\n",
    "greeting = \"Hello people, let's start Python week 3\"\n",
    "print(greeting)"
   ]
  },
  {
   "cell_type": "code",
   "execution_count": 33,
   "metadata": {},
   "outputs": [],
   "source": [
    "# Define a function with one parameter.\n",
    "# Function expects one piece of information, which will be referred to as my_string inside the function.\n",
    "\n",
    "def sound_more_excited(my_string):\n",
    "    new_string = my_string.upper() + '!!!'\n",
    "    print(new_string)"
   ]
  },
  {
   "cell_type": "code",
   "execution_count": 34,
   "metadata": {},
   "outputs": [
    {
     "name": "stdout",
     "output_type": "stream",
     "text": [
      "HELLO PEOPLE, LET'S START PYTHON WEEK 3!!!\n"
     ]
    }
   ],
   "source": [
    "# Call the function, passing it a string\n",
    "\n",
    "sound_more_excited(greeting)"
   ]
  },
  {
   "cell_type": "code",
   "execution_count": 35,
   "metadata": {},
   "outputs": [],
   "source": [
    "# Use the return statement to return variables\n",
    "\n",
    "def make_more_enthusiastic_string(my_string):\n",
    "    new_string = my_string.upper() + '!!!'\n",
    "    return(new_string)"
   ]
  },
  {
   "cell_type": "code",
   "execution_count": 36,
   "metadata": {},
   "outputs": [
    {
     "data": {
      "text/plain": [
       "\"HELLO PEOPLE, LET'S START PYTHON WEEK 3!!!\""
      ]
     },
     "execution_count": 36,
     "metadata": {},
     "output_type": "execute_result"
    }
   ],
   "source": [
    "# Print or store the output\n",
    "\n",
    "make_more_enthusiastic_string(greeting)"
   ]
  },
  {
   "cell_type": "code",
   "execution_count": 37,
   "metadata": {},
   "outputs": [],
   "source": [
    "# Function with two parameters\n",
    "\n",
    "def greet_by_name(name, message):\n",
    "    return(\"Hello {}, here's your message: {}\".format(name, message))"
   ]
  },
  {
   "cell_type": "code",
   "execution_count": 42,
   "metadata": {},
   "outputs": [
    {
     "data": {
      "text/plain": [
       "\"Hello David Malpass, here's your message: welcome!\""
      ]
     },
     "execution_count": 42,
     "metadata": {},
     "output_type": "execute_result"
    }
   ],
   "source": [
    "greet_by_name(\"David Malpass\", \"welcome!\")"
   ]
  },
  {
   "cell_type": "code",
   "execution_count": 39,
   "metadata": {},
   "outputs": [],
   "source": [
    "# Functions with many parameters and logic or loops\n",
    "\n",
    "def greet_participants(name, week, topic):\n",
    "    greeting = \"Hello {}, welcome to week {}!! This week we'll cover {}\".format(\n",
    "    name, week, topic)\n",
    "    if week > 4:\n",
    "        greeting += \" YOU'RE A SURVIVOR!!!\"\n",
    "    return(greeting)"
   ]
  },
  {
   "cell_type": "code",
   "execution_count": 40,
   "metadata": {},
   "outputs": [
    {
     "data": {
      "text/plain": [
       "\"Hello Charles, welcome to week 2!! This week we'll cover weird mega tuples.\""
      ]
     },
     "execution_count": 40,
     "metadata": {},
     "output_type": "execute_result"
    }
   ],
   "source": [
    "greet_participants('Charles', 2, 'weird mega tuples.')"
   ]
  },
  {
   "cell_type": "code",
   "execution_count": 17,
   "metadata": {},
   "outputs": [],
   "source": [
    "#### 1.3 Slightly more advanced functions"
   ]
  },
  {
   "cell_type": "code",
   "execution_count": 19,
   "metadata": {},
   "outputs": [
    {
     "name": "stdout",
     "output_type": "stream",
     "text": [
      "Today Geoffrey is going to program in R\n"
     ]
    }
   ],
   "source": [
    "# Set default arguments\n",
    "\n",
    "def agenda(name, language = 'Python'):\n",
    "    print('Today {} is going to program in {}'.format(name, language))\n",
    "\n",
    "agenda('Geoffrey', 'R')"
   ]
  },
  {
   "cell_type": "code",
   "execution_count": 22,
   "metadata": {},
   "outputs": [
    {
     "data": {
      "image/png": "[encoded data removed]",
      "text/plain": [
       "<Figure size 432x288 with 1 Axes>"
      ]
     },
     "metadata": {},
     "output_type": "display_data"
    }
   ],
   "source": [
    "# This function takes a range of arguments, two of them with defaults\n",
    "\n",
    "def PIE_chart(grams_fruit = 350, grams_pastry = 150, grams_topping = 60,\n",
    "              ingredients_list = ['apple','pastry','cinammon'], title = \"Regular pie\"):\n",
    "    values = [grams_fruit, grams_pastry, grams_topping]    \n",
    "    plt.pie(values, labels = ingredients_list)\n",
    "    plt.title(title)\n",
    "    \n",
    "PIE_chart()"
   ]
  },
  {
   "cell_type": "code",
   "execution_count": 23,
   "metadata": {},
   "outputs": [
    {
     "data": {
      "image/png": "[encoded data removed]",
      "text/plain": [
       "<Figure size 432x288 with 1 Axes>"
      ]
     },
     "metadata": {},
     "output_type": "display_data"
    }
   ],
   "source": [
    "# Two ways to pass arguments into the function:\n",
    "\n",
    "# 1. Positional arguments (pass each argument in turn, left-to-right)\n",
    "\n",
    "PIE_chart(350, 140, 180,['apple','puff pastry','whipped cream'], 'Thursday afternoon pie')"
   ]
  },
  {
   "cell_type": "code",
   "execution_count": 24,
   "metadata": {},
   "outputs": [
    {
     "data": {
      "image/png": "[encoded data removed]",
      "text/plain": [
       "<Figure size 432x288 with 1 Axes>"
      ]
     },
     "metadata": {},
     "output_type": "display_data"
    }
   ],
   "source": [
    "# 2. Keyword arguments\n",
    "\n",
    "PIE_chart(ingredients_list=['blueberry','pastry','pistachio ice cream'], title = 'Weird Sunday pie')"
   ]
  },
  {
   "cell_type": "code",
   "execution_count": 25,
   "metadata": {},
   "outputs": [],
   "source": [
    "# Note: positional arguments come first, then keyword arguments."
   ]
  },
  {
   "cell_type": "code",
   "execution_count": 26,
   "metadata": {},
   "outputs": [
    {
     "data": {
      "image/png": "[encoded data removed]",
      "text/plain": [
       "<Figure size 432x288 with 1 Axes>"
      ]
     },
     "metadata": {},
     "output_type": "display_data"
    }
   ],
   "source": [
    "# Unpack lists of parameters using *\n",
    "\n",
    "grams_per_ingredient_1 = (350, 140, 180)\n",
    "grams_per_ingredient_2 = (350, 140, 720)\n",
    "\n",
    "PIE_chart(*grams_per_ingredient_1, title = 'Pretty normal')"
   ]
  },
  {
   "cell_type": "code",
   "execution_count": 27,
   "metadata": {},
   "outputs": [
    {
     "data": {
      "image/png": "[encoded data removed]",
      "text/plain": [
       "<Figure size 432x288 with 1 Axes>"
      ]
     },
     "metadata": {},
     "output_type": "display_data"
    }
   ],
   "source": [
    "PIE_chart(*grams_per_ingredient_2, title = \"Nick's favorite\")"
   ]
  },
  {
   "cell_type": "code",
   "execution_count": null,
   "metadata": {},
   "outputs": [],
   "source": []
  }
 ],
 "metadata": {
  "kernelspec": {
   "display_name": "basic",
   "language": "python",
   "name": "basic"
  },
  "language_info": {
   "codemirror_mode": {
    "name": "ipython",
    "version": 3
   },
   "file_extension": ".py",
   "mimetype": "text/x-python",
   "name": "python",
   "nbconvert_exporter": "python",
   "pygments_lexer": "ipython3",
   "version": "3.7.2"
  }
 },
 "nbformat": 4,
 "nbformat_minor": 2
}
