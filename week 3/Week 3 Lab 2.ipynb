{
 "cells": [
  {
   "cell_type": "markdown",
   "metadata": {},
   "source": [
    "# Python for Data Science - Week 3 Lab\n",
    "This week's exercises are to get you writing functions (a great way to organize your code) and start loading and manipulating data in Pandas."
   ]
  },
  {
   "cell_type": "markdown",
   "metadata": {},
   "source": [
    "## 1. Functions"
   ]
  },
  {
   "cell_type": "markdown",
   "metadata": {},
   "source": [
    "__EXERCISE 1a: Happy birthday to me__\n",
    "\n",
    "_Objective: Write a simple function with no parameters_\n",
    "* Write a function that prints the words \"happy birthday to me, happy birthday to me, happy birtday dear me, happy birthday to me\" (on four separate lines)."
   ]
  },
  {
   "cell_type": "code",
   "execution_count": null,
   "metadata": {},
   "outputs": [],
   "source": [
    "# YOUR CODE HERE:\n",
    "\n",
    "def happy_birthday():\n",
    "    # write your subsidary code block here"
   ]
  },
  {
   "cell_type": "markdown",
   "metadata": {},
   "source": [
    "__EXERCISE 1b: Happy birthday to you__\n",
    "\n",
    "_Objective: Write a function with one parameter_\n",
    "* Re-write the function with one parameter, person.\n",
    "* Call your function, making sure to pass it the somebody's name.\n",
    "\n",
    "Check your function sang happy birthday to somebody (eg. your favorite Python teacher)."
   ]
  },
  {
   "cell_type": "code",
   "execution_count": 6,
   "metadata": {},
   "outputs": [],
   "source": [
    "# YOUR CODE HERE:\n"
   ]
  },
  {
   "cell_type": "markdown",
   "metadata": {},
   "source": [
    "__Exercise 1c: Happy birthday to all of you__\n",
    "\n",
    "_Objective: Call your function from within a for loop_\n",
    "* Create a variable 'people': make this a list with the names of some favorite people (eg. your Python instructors) in it.\n",
    "* Write a for loop to iterate through the items in your list.\n",
    "* On each turn through the loop, call your happy_birthday function, so your program sings to each person in turn."
   ]
  },
  {
   "cell_type": "code",
   "execution_count": null,
   "metadata": {},
   "outputs": [],
   "source": [
    "# YOUR CODE HERE:\n"
   ]
  },
  {
   "cell_type": "markdown",
   "metadata": {},
   "source": [
    "## 2. Pandas"
   ]
  },
  {
   "cell_type": "code",
   "execution_count": 9,
   "metadata": {},
   "outputs": [],
   "source": [
    "import pandas as pd"
   ]
  },
  {
   "cell_type": "markdown",
   "metadata": {},
   "source": [
    "__EXERCISE 2.1: Pie shop__\n",
    "\n",
    "_Objective: Create and manipulate DataFrames_\n",
    "* Create a DataFrame with three columns: month, apple_pie_sales, blueberry_pie_sales\n",
    "* Summarize which products sold best\n",
    "* Create a new column to summarize revenues"
   ]
  },
  {
   "cell_type": "code",
   "execution_count": null,
   "metadata": {},
   "outputs": [],
   "source": [
    "# YOUR CODE HERE: create the df using the data supplied\n",
    "# Hint: the demo notebook shows how to do this\n",
    "\n",
    "months = ['Jan','Feb', 'Mar', 'Apr']\n",
    "applie_pie_sales = [34, 19, 28, 45]\n",
    "blueberry_pie_sales [18, 6, 15, 51]\n",
    "\n",
    "df = pd.DataFrame()"
   ]
  },
  {
   "cell_type": "code",
   "execution_count": null,
   "metadata": {},
   "outputs": [],
   "source": [
    "# YOUR CODE HERE: calculate total sales of apple pies and total sales of blueberry pies\n"
   ]
  },
  {
   "cell_type": "code",
   "execution_count": null,
   "metadata": {},
   "outputs": [],
   "source": [
    "# YOUR CODE HERE: create a new columns entitled apple_pie_revenue and blueberry_pie_revenue\n",
    "\n",
    "# Hint: revenue = units sold * price. Use the prices below.\n",
    "\n",
    "apple_pie_price = 12\n",
    "blueberry_pie_price = 15"
   ]
  },
  {
   "cell_type": "code",
   "execution_count": null,
   "metadata": {},
   "outputs": [],
   "source": [
    "# BONUS: find a way to plot bar charts and pie charts (ha) of the shop's sales\n"
   ]
  },
  {
   "cell_type": "markdown",
   "metadata": {},
   "source": [
    "__EXERCISE 2.2: NYC housing__\n",
    "\n",
    "_Objective: clean and manipulate a real-world dataset_\n",
    "We are using the PLUTO (Primary Land Use Tax Lot Output) database, which lists every building in New York City.\n",
    "Source is [NYC Open Data Portal](https://www1.nyc.gov/site/planning/data-maps/open-data/dwn-pluto-mappluto.page). For details, check the [data dictionary](https://www1.nyc.gov/assets/planning/download/pdf/data-maps/open-data/pluto_datadictionary.pdf?r=18v2beta)."
   ]
  },
  {
   "cell_type": "code",
   "execution_count": 35,
   "metadata": {},
   "outputs": [
    {
     "name": "stderr",
     "output_type": "stream",
     "text": [
      "/Users/nicholasjones/anaconda3/lib/python3.7/site-packages/IPython/core/interactiveshell.py:3049: DtypeWarning: Columns (18,19,21,23,78) have mixed types. Specify dtype option on import or set low_memory=False.\n",
      "  interactivity=interactivity, compiler=compiler, result=result)\n"
     ]
    }
   ],
   "source": [
    "url = 'https://github.com/worldbank/Python-for-Data-Science/raw/master/week%203/pluto_shorter.csv'\n",
    "df = pd.read_csv(url)"
   ]
  },
  {
   "cell_type": "markdown",
   "metadata": {},
   "source": [
    "__Step 1: Inspect and prepare the dataset__"
   ]
  },
  {
   "cell_type": "code",
   "execution_count": null,
   "metadata": {},
   "outputs": [],
   "source": [
    "# Use df.head() to see the first five rows. A bit messy, no?\n",
    "df.head()"
   ]
  },
  {
   "cell_type": "code",
   "execution_count": null,
   "metadata": {},
   "outputs": [],
   "source": [
    "# We'll select some columns to keep\n",
    "df.columns"
   ]
  },
  {
   "cell_type": "code",
   "execution_count": 38,
   "metadata": {},
   "outputs": [],
   "source": [
    "# Note how this syntax works. Add extra columns that interest you.\n",
    "my_cols = ['borough','numfloors','yearbuilt', 'landuse', 'zipcode', 'assesstot', 'xcoord','ycoord']\n",
    "df = df[my_cols]"
   ]
  },
  {
   "cell_type": "code",
   "execution_count": 17,
   "metadata": {},
   "outputs": [
    {
     "data": {
      "text/html": [
       "<div>\n",
       "<style scoped>\n",
       "    .dataframe tbody tr th:only-of-type {\n",
       "        vertical-align: middle;\n",
       "    }\n",
       "\n",
       "    .dataframe tbody tr th {\n",
       "        vertical-align: top;\n",
       "    }\n",
       "\n",
       "    .dataframe thead th {\n",
       "        text-align: right;\n",
       "    }\n",
       "</style>\n",
       "<table border=\"1\" class=\"dataframe\">\n",
       "  <thead>\n",
       "    <tr style=\"text-align: right;\">\n",
       "      <th></th>\n",
       "      <th>borough</th>\n",
       "      <th>numfloors</th>\n",
       "      <th>yearbuilt</th>\n",
       "      <th>landuse</th>\n",
       "      <th>zipcode</th>\n",
       "      <th>unitstotal</th>\n",
       "      <th>assesstot</th>\n",
       "    </tr>\n",
       "  </thead>\n",
       "  <tbody>\n",
       "    <tr>\n",
       "      <th>0</th>\n",
       "      <td>BX</td>\n",
       "      <td>0.00</td>\n",
       "      <td>0.0</td>\n",
       "      <td>7.0</td>\n",
       "      <td>NaN</td>\n",
       "      <td>0.0</td>\n",
       "      <td>59400.0</td>\n",
       "    </tr>\n",
       "    <tr>\n",
       "      <th>1</th>\n",
       "      <td>QN</td>\n",
       "      <td>2.50</td>\n",
       "      <td>1925.0</td>\n",
       "      <td>1.0</td>\n",
       "      <td>11357.0</td>\n",
       "      <td>2.0</td>\n",
       "      <td>29738.0</td>\n",
       "    </tr>\n",
       "    <tr>\n",
       "      <th>2</th>\n",
       "      <td>BK</td>\n",
       "      <td>2.75</td>\n",
       "      <td>1920.0</td>\n",
       "      <td>1.0</td>\n",
       "      <td>11208.0</td>\n",
       "      <td>2.0</td>\n",
       "      <td>27370.0</td>\n",
       "    </tr>\n",
       "    <tr>\n",
       "      <th>3</th>\n",
       "      <td>MN</td>\n",
       "      <td>6.00</td>\n",
       "      <td>1900.0</td>\n",
       "      <td>2.0</td>\n",
       "      <td>10025.0</td>\n",
       "      <td>19.0</td>\n",
       "      <td>510300.0</td>\n",
       "    </tr>\n",
       "    <tr>\n",
       "      <th>4</th>\n",
       "      <td>QN</td>\n",
       "      <td>2.00</td>\n",
       "      <td>1901.0</td>\n",
       "      <td>1.0</td>\n",
       "      <td>11421.0</td>\n",
       "      <td>2.0</td>\n",
       "      <td>29020.0</td>\n",
       "    </tr>\n",
       "  </tbody>\n",
       "</table>\n",
       "</div>"
      ],
      "text/plain": [
       "  borough  numfloors  yearbuilt  landuse  zipcode  unitstotal  assesstot\n",
       "0      BX       0.00        0.0      7.0      NaN         0.0    59400.0\n",
       "1      QN       2.50     1925.0      1.0  11357.0         2.0    29738.0\n",
       "2      BK       2.75     1920.0      1.0  11208.0         2.0    27370.0\n",
       "3      MN       6.00     1900.0      2.0  10025.0        19.0   510300.0\n",
       "4      QN       2.00     1901.0      1.0  11421.0         2.0    29020.0"
      ]
     },
     "execution_count": 17,
     "metadata": {},
     "output_type": "execute_result"
    }
   ],
   "source": [
    "# Cleaner now, right?\n",
    "df.head()"
   ]
  },
  {
   "cell_type": "code",
   "execution_count": 42,
   "metadata": {},
   "outputs": [],
   "source": [
    "# Here is the key that translates NYC's land use codes into plain English (p. 17 of the data dictionary)\n",
    "# We'll use the df.map() method to replace the numbers with text we can understand\n",
    "\n",
    "# BONUS POINTS: repeat this step to substitute the short borough names (eg. MN) with the actual\n",
    "# full borough names (eg. MN becomes Manhattan).\n",
    "\n",
    "land_use_dict = {1: 'One & Two Family Buildings',\n",
    "                2: 'Multi-Family Walk-Up Buildings',\n",
    "                3: 'Multi-Family Elevator Buildings',\n",
    "                4: 'Mixed Residential & Commercial Buildings',\n",
    "                5: 'Commercial & Office Buildings',\n",
    "                6: 'Industrial & Manufacturing',\n",
    "                7: 'Transportation & Utility',\n",
    "                8: 'Public Facilities & Institutions',\n",
    "                9: 'Open Space & Outdoor Recreation',\n",
    "                10: 'Parking Facilities',\n",
    "                11: 'Vacant Land'}\n",
    "\n",
    "df['landuse'] = df['landuse'].map(land_use_dict)"
   ]
  },
  {
   "cell_type": "code",
   "execution_count": 43,
   "metadata": {},
   "outputs": [
    {
     "data": {
      "text/html": [
       "<div>\n",
       "<style scoped>\n",
       "    .dataframe tbody tr th:only-of-type {\n",
       "        vertical-align: middle;\n",
       "    }\n",
       "\n",
       "    .dataframe tbody tr th {\n",
       "        vertical-align: top;\n",
       "    }\n",
       "\n",
       "    .dataframe thead th {\n",
       "        text-align: right;\n",
       "    }\n",
       "</style>\n",
       "<table border=\"1\" class=\"dataframe\">\n",
       "  <thead>\n",
       "    <tr style=\"text-align: right;\">\n",
       "      <th></th>\n",
       "      <th>borough</th>\n",
       "      <th>numfloors</th>\n",
       "      <th>yearbuilt</th>\n",
       "      <th>landuse</th>\n",
       "      <th>zipcode</th>\n",
       "      <th>assesstot</th>\n",
       "      <th>xcoord</th>\n",
       "      <th>ycoord</th>\n",
       "    </tr>\n",
       "  </thead>\n",
       "  <tbody>\n",
       "    <tr>\n",
       "      <th>0</th>\n",
       "      <td>BX</td>\n",
       "      <td>0.00</td>\n",
       "      <td>0.0</td>\n",
       "      <td>Transportation &amp; Utility</td>\n",
       "      <td>NaN</td>\n",
       "      <td>59400.0</td>\n",
       "      <td>1044510.0</td>\n",
       "      <td>246734.0</td>\n",
       "    </tr>\n",
       "    <tr>\n",
       "      <th>1</th>\n",
       "      <td>QN</td>\n",
       "      <td>2.50</td>\n",
       "      <td>1925.0</td>\n",
       "      <td>One &amp; Two Family Buildings</td>\n",
       "      <td>11357.0</td>\n",
       "      <td>29738.0</td>\n",
       "      <td>1035479.0</td>\n",
       "      <td>223657.0</td>\n",
       "    </tr>\n",
       "    <tr>\n",
       "      <th>2</th>\n",
       "      <td>BK</td>\n",
       "      <td>2.75</td>\n",
       "      <td>1920.0</td>\n",
       "      <td>One &amp; Two Family Buildings</td>\n",
       "      <td>11208.0</td>\n",
       "      <td>27370.0</td>\n",
       "      <td>1015989.0</td>\n",
       "      <td>187871.0</td>\n",
       "    </tr>\n",
       "    <tr>\n",
       "      <th>3</th>\n",
       "      <td>MN</td>\n",
       "      <td>6.00</td>\n",
       "      <td>1900.0</td>\n",
       "      <td>Multi-Family Walk-Up Buildings</td>\n",
       "      <td>10025.0</td>\n",
       "      <td>510300.0</td>\n",
       "      <td>994273.0</td>\n",
       "      <td>228915.0</td>\n",
       "    </tr>\n",
       "    <tr>\n",
       "      <th>4</th>\n",
       "      <td>QN</td>\n",
       "      <td>2.00</td>\n",
       "      <td>1901.0</td>\n",
       "      <td>One &amp; Two Family Buildings</td>\n",
       "      <td>11421.0</td>\n",
       "      <td>29020.0</td>\n",
       "      <td>1021269.0</td>\n",
       "      <td>190793.0</td>\n",
       "    </tr>\n",
       "  </tbody>\n",
       "</table>\n",
       "</div>"
      ],
      "text/plain": [
       "  borough  numfloors  yearbuilt                         landuse  zipcode  \\\n",
       "0      BX       0.00        0.0        Transportation & Utility      NaN   \n",
       "1      QN       2.50     1925.0      One & Two Family Buildings  11357.0   \n",
       "2      BK       2.75     1920.0      One & Two Family Buildings  11208.0   \n",
       "3      MN       6.00     1900.0  Multi-Family Walk-Up Buildings  10025.0   \n",
       "4      QN       2.00     1901.0      One & Two Family Buildings  11421.0   \n",
       "\n",
       "   assesstot     xcoord    ycoord  \n",
       "0    59400.0  1044510.0  246734.0  \n",
       "1    29738.0  1035479.0  223657.0  \n",
       "2    27370.0  1015989.0  187871.0  \n",
       "3   510300.0   994273.0  228915.0  \n",
       "4    29020.0  1021269.0  190793.0  "
      ]
     },
     "execution_count": 43,
     "metadata": {},
     "output_type": "execute_result"
    }
   ],
   "source": [
    "# Cleaner now, right? Add any more data cleaning steps of your choice.\n",
    "\n",
    "df.head()"
   ]
  },
  {
   "cell_type": "markdown",
   "metadata": {},
   "source": [
    "__Step 2: Summarize data using mean(), min/max(), describe() etc.__\n",
    "* Find out the average price of a building in Manhattan (MN) compared with Queens (QN)\n",
    "* What was the most expensive building built in the year you were born?\n",
    "* Compare average building\n",
    "\n",
    "BONUS: find the average price for buildings in Brooklyn with 5-10 floors built between 2000-2010. Do the same for buildings in Manhattan and Queens with those characteristics."
   ]
  },
  {
   "cell_type": "code",
   "execution_count": null,
   "metadata": {},
   "outputs": [],
   "source": [
    "# YOUR CODE HERE:\n"
   ]
  },
  {
   "cell_type": "markdown",
   "metadata": {},
   "source": [
    "__Step 3: Exploratory visualization using Pandas plotting__"
   ]
  },
  {
   "cell_type": "code",
   "execution_count": null,
   "metadata": {},
   "outputs": [],
   "source": [
    "# Try using the function pandas.Series.value_counts\n",
    "# It returns the unique count of values in a column\n",
    "# BONUS: Could you produce this output only for Brooklyn?\n",
    "\n",
    "df.landuse.value_counts()"
   ]
  },
  {
   "cell_type": "markdown",
   "metadata": {},
   "source": [
    "__YOUR ACTION__: Look up the [pandas.Series.plot](https://pandas.pydata.org/pandas-docs/stable/reference/api/pandas.Series.plot.html) function, and some [examples of how to use it](https://pandas.pydata.org/pandas-docs/stable/user_guide/visualization.html).\n",
    "\n",
    "Explore any questions that interest you about New York City's buildings by plotting charts, for example:\n",
    "* How does price vary with age? (scatter of age vs. price)\n",
    "* How does price vary with age just for Manhattan or Bronx? (hint: take some code from the demo notebook)\n",
    "* Does the breakdown of building types differ between boroughs? (pie chart of landuse)\n",
    "* Which zip codes have most and fewest buildings?\n",
    "* Where are the buildings located? (hint: try a scatter plot of xcoord and y coord)\n"
   ]
  },
  {
   "cell_type": "code",
   "execution_count": null,
   "metadata": {},
   "outputs": [],
   "source": [
    "# YOUR CODE HERE:\n"
   ]
  }
 ],
 "metadata": {
  "kernelspec": {
   "display_name": "Python 3",
   "language": "python",
   "name": "python3"
  },
  "language_info": {
   "codemirror_mode": {
    "name": "ipython",
    "version": 3
   },
   "file_extension": ".py",
   "mimetype": "text/x-python",
   "name": "python",
   "nbconvert_exporter": "python",
   "pygments_lexer": "ipython3",
   "version": "3.7.3"
  }
 },
 "nbformat": 4,
 "nbformat_minor": 2
}
