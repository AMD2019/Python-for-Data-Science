{
 "cells": [
  {
   "cell_type": "markdown",
   "metadata": {},
   "source": [
    "# Python for Data Science - week 1"
   ]
  },
  {
   "cell_type": "markdown",
   "metadata": {},
   "source": [
    "#### The Notebook environment\n",
    "Jupyter Notebooks are a widely used tool for data science. They contain both code and rich-text elements like paragraphs, equations and charts. Notebooks are both (a) human-readable documents used to present analysis and results; and (b) executable documents that your computer can be run.\n",
    "\n",
    "__Getting started in Colab:__\n",
    "* Make sure you're signed into your Google account. Click connect in the top right corner.\n",
    "* Choose 'run anyway' when told  this notebook wasn't authored by Google. You can uncheck the box 'reset all runtimes.'"
   ]
  },
  {
   "cell_type": "markdown",
   "metadata": {},
   "source": [
    "#### Preliminary exercise - get to know Colab\n",
    "\n",
    "Notebooks comprise two types of cells:\n",
    "* _Code cells._ These contain executable commands in Python.\n",
    "* _Text cells._ These include plain text, or you can use [markdown](https://commonmark.org/help/) to add formatting.\n",
    "\n",
    "__EXERCISE:__ Spend a couple of minutes learning to navigate Colab. Perform the following:\n",
    " * Add a new code cell, first by point-and-click method, then using the keyboard shortcut.\n",
    " * Write your first program: print(\"hello world!\")\n",
    " * Run the program two ways: using CTRL-ENTER and SHIFT-ENTER. Note the difference in which cell is selected."
   ]
  },
  {
   "cell_type": "markdown",
   "metadata": {},
   "source": [
    "#### Keyboard shortcuts"
   ]
  },
  {
   "cell_type": "markdown",
   "metadata": {},
   "source": [
    "Action | Colab Shortcut\n",
    "---|---\n",
    "Executes current cell | `<CTRL-ENTER>`\n",
    "Executes current cell and moves to next cell | `<SHIFT-ENTER>`\n",
    "Insert cell above | `<CTRL-M> <A>`\n",
    "Append cell below | `<CTRL-M> <B>`\n",
    "Convert cell to code | `<CTRL-M> <Y>`\n",
    "Convert cell to Markdown | `<CTRL-M> <M>`\n",
    "Autocomplete | `<TAB>`\n",
    "Goes from edit to \"command\" mode | `<ESC>`\n",
    "Goes from \"command\" to edit mode | `<ENTER>`\n",
    "<p align=\"center\"><b>Note:</b> On OS X use `<COMMAND>` instead of `<CTRL>`</p>"
   ]
  },
  {
   "cell_type": "markdown",
   "metadata": {},
   "source": [
    "### 1. Variables and math in Python"
   ]
  },
  {
   "cell_type": "markdown",
   "metadata": {},
   "source": [
    "#### 1.1 Math operators"
   ]
  },
  {
   "cell_type": "code",
   "execution_count": null,
   "metadata": {},
   "outputs": [],
   "source": [
    "# add two integers\n",
    "2 + 2"
   ]
  },
  {
   "cell_type": "code",
   "execution_count": null,
   "metadata": {},
   "outputs": [],
   "source": [
    "# multiply two integers\n",
    "2 * 2"
   ]
  },
  {
   "cell_type": "code",
   "execution_count": null,
   "metadata": {},
   "outputs": [],
   "source": [
    "# spaces don't matter here, but keep them consistent (PEP8 good practice)\n",
    "2*3   +   10"
   ]
  },
  {
   "cell_type": "code",
   "execution_count": null,
   "metadata": {},
   "outputs": [],
   "source": [
    "# divide two integers\n",
    "6 / 3"
   ]
  },
  {
   "cell_type": "code",
   "execution_count": null,
   "metadata": {},
   "outputs": [],
   "source": [
    "# raise 2 to the 4th power\n",
    "2 ** 4"
   ]
  },
  {
   "cell_type": "code",
   "execution_count": null,
   "metadata": {},
   "outputs": [],
   "source": [
    "# the mod function returns the remainder after division. Useful to check divisibility (among other things)\n",
    "10 % 3"
   ]
  },
  {
   "cell_type": "markdown",
   "metadata": {},
   "source": [
    "| Symbol | Task Performed |\n",
    "|----|---|\n",
    "| +  | Addition |\n",
    "| -  | Subtraction |\n",
    "| /  | division |\n",
    "| *  | multiplication |\n",
    "| **  | to the power of |\n",
    "| %  | mod |"
   ]
  },
  {
   "cell_type": "markdown",
   "metadata": {},
   "source": [
    "#### 1.2 Working with variables"
   ]
  },
  {
   "cell_type": "code",
   "execution_count": null,
   "metadata": {},
   "outputs": [],
   "source": [
    "# variables, such as x here, contain values and their values can vary\n",
    "x = 5"
   ]
  },
  {
   "cell_type": "code",
   "execution_count": null,
   "metadata": {},
   "outputs": [],
   "source": [
    "# to inspect a value, just call it\n",
    "x"
   ]
  },
  {
   "cell_type": "code",
   "execution_count": null,
   "metadata": {},
   "outputs": [],
   "source": [
    "# you can perform calculations on variables\n",
    "x + 3"
   ]
  },
  {
   "cell_type": "code",
   "execution_count": null,
   "metadata": {},
   "outputs": [],
   "source": [
    "# what's the value of x now?\n",
    "x"
   ]
  },
  {
   "cell_type": "code",
   "execution_count": null,
   "metadata": {},
   "outputs": [],
   "source": [
    "# to update the value of a variable, you have to do assignment again\n",
    "x = x + 3"
   ]
  },
  {
   "cell_type": "code",
   "execution_count": null,
   "metadata": {},
   "outputs": [],
   "source": [
    "# now what's the value of x?\n",
    "x"
   ]
  },
  {
   "cell_type": "code",
   "execution_count": null,
   "metadata": {},
   "outputs": [],
   "source": [
    "# create a new variable y from a calculation involving x\n",
    "y = x + 2\n",
    "y"
   ]
  },
  {
   "cell_type": "code",
   "execution_count": null,
   "metadata": {},
   "outputs": [],
   "source": [
    "# to modify a variable in place through addition or subtraction, use the shorthand += or -=\n",
    "x += 10\n",
    "x"
   ]
  },
  {
   "cell_type": "code",
   "execution_count": null,
   "metadata": {},
   "outputs": [],
   "source": [
    "# calling two variables only displays the last one\n",
    "x\n",
    "y"
   ]
  },
  {
   "cell_type": "code",
   "execution_count": null,
   "metadata": {},
   "outputs": [],
   "source": [
    "# use the print() function to output value(s) to the console\n",
    "print(x)\n",
    "print(y)"
   ]
  },
  {
   "cell_type": "code",
   "execution_count": null,
   "metadata": {},
   "outputs": [],
   "source": [
    "# separate two values by commas to output on the same line\n",
    "print(x,y)"
   ]
  },
  {
   "cell_type": "code",
   "execution_count": null,
   "metadata": {},
   "outputs": [],
   "source": [
    "# you can also print the output of an expression\n",
    "print(x * y)"
   ]
  },
  {
   "cell_type": "markdown",
   "metadata": {},
   "source": [
    "NOTE: Use valid variable names!\n",
    "* Variable names can contain letters, numbers, and the underscore character.\n",
    "* You can't begin variable names with a digit, or use any of Python's _reserved words_ (eg. False, list, None, zip, else, class, ...).\n",
    "* Don't use a space in the middle of a variable name.\n",
    "\n",
    "| result | variable name |\n",
    "|----|----|\n",
    "| Valid | my_float, xyz_123, zip_code |\n",
    "| Error! | my float, 123_xyz, zip |"
   ]
  },
  {
   "cell_type": "markdown",
   "metadata": {},
   "source": [
    "#### 1.3 Getting help and using tab complete"
   ]
  },
  {
   "cell_type": "code",
   "execution_count": null,
   "metadata": {},
   "outputs": [],
   "source": [
    "# get iPython help on an expression by putting ? after it\n",
    "len?"
   ]
  },
  {
   "cell_type": "code",
   "execution_count": null,
   "metadata": {},
   "outputs": [],
   "source": [
    "# use tab complete to fill in the rest of statements, functions, methods\n",
    "prin"
   ]
  },
  {
   "cell_type": "code",
   "execution_count": null,
   "metadata": {},
   "outputs": [],
   "source": [
    "# also use it to complete variable or functions that you defined yourself\n",
    "name_of_course = \"Python for Data Science\"\n",
    "name_"
   ]
  },
  {
   "cell_type": "code",
   "execution_count": null,
   "metadata": {},
   "outputs": [],
   "source": [
    "# to learn what parameters a function or method takes, put your cursor between the parenthesis and hit shift-tab\n",
    "\n",
    "import random\n",
    "random.randint()"
   ]
  },
  {
   "cell_type": "markdown",
   "metadata": {},
   "source": [
    "### 2. Basic data types: int, float, string, Boolean\n",
    "These object types are the most basic building blocks when handling data in Python. Note that Python is an object-oriented language. Each object has a type, which determines what can be done with it. For instance, an object of type _int_ can be added to another _int_.\n",
    "\n",
    "In compiled languages like C++, the programmer has to declare the type of any variable before using it. By contrast, Python will **infer the type of variable you want** at run-time. It does this based on what characters you pass, whether they are surrounded by quote marks or brackets. This keeps the syntax much more 'natural' - but take care to learn the rules your Python interpreter applies."
   ]
  },
  {
   "cell_type": "code",
   "execution_count": null,
   "metadata": {},
   "outputs": [],
   "source": [
    "# integers are whole numbers\n",
    "x = 10\n",
    "type(x)"
   ]
  },
  {
   "cell_type": "code",
   "execution_count": null,
   "metadata": {},
   "outputs": [],
   "source": [
    "# floats are floating point (or decimal) numbers\n",
    "y = 4.25\n",
    "type(y)"
   ]
  },
  {
   "cell_type": "code",
   "execution_count": null,
   "metadata": {},
   "outputs": [],
   "source": [
    "# strings are sets of characters in a row, denoted by single or double quotes\n",
    "course_name = 'Python for Data Science'"
   ]
  },
  {
   "cell_type": "code",
   "execution_count": null,
   "metadata": {},
   "outputs": [],
   "source": [
    "# the possible values for a Boolean are True or False\n",
    "\n",
    "my_enrollment_status = True\n",
    "type(my_enrollment_status)"
   ]
  },
  {
   "cell_type": "code",
   "execution_count": null,
   "metadata": {},
   "outputs": [],
   "source": [
    "# use isinstance to check an object's type (answer is a Boolean)\n",
    "isinstance(course_name, int)"
   ]
  },
  {
   "cell_type": "markdown",
   "metadata": {},
   "source": [
    "#### 2.1. Manipulating strings"
   ]
  },
  {
   "cell_type": "code",
   "execution_count": null,
   "metadata": {},
   "outputs": [],
   "source": [
    "# this is a string. It can be assigned to a variable. \n",
    "mystring = 'I am a string. Humans can interpret me easily'"
   ]
  },
  {
   "cell_type": "code",
   "execution_count": null,
   "metadata": {},
   "outputs": [],
   "source": [
    "# we can print this string as follows:\n",
    "print(mystring)"
   ]
  },
  {
   "cell_type": "code",
   "execution_count": null,
   "metadata": {},
   "outputs": [],
   "source": [
    "# Data types are defined as classes. Classes have methods attached to them, which you can access with dot notation.\n",
    "# Example: strings have a method '.split()' that returns a list of component parts. \n",
    "\n",
    "mystring.split('.')"
   ]
  },
  {
   "cell_type": "code",
   "execution_count": null,
   "metadata": {},
   "outputs": [],
   "source": [
    "# we can use this to access just part of the string\n",
    "split_up_list = mystring.split('.')\n",
    "split_up_list[1]"
   ]
  },
  {
   "cell_type": "code",
   "execution_count": null,
   "metadata": {},
   "outputs": [],
   "source": [
    "# strings are iterable - we can print certain letters or chunks, depending on how we index them:\n",
    "print(mystring[0])\n",
    "print(mystring[3])"
   ]
  },
  {
   "cell_type": "code",
   "execution_count": null,
   "metadata": {},
   "outputs": [],
   "source": [
    "for q in range(0, 15):\n",
    "    print(mystring[q:15])"
   ]
  },
  {
   "cell_type": "code",
   "execution_count": null,
   "metadata": {},
   "outputs": [],
   "source": [
    "for q in range(0, 15):\n",
    "    print(mystring[15:-q])"
   ]
  },
  {
   "cell_type": "code",
   "execution_count": null,
   "metadata": {},
   "outputs": [],
   "source": [
    "# the .replace() method is handy too. This operation can be chained for entertainment value:\n",
    "print(mystring)\n",
    "\n",
    "new_string = mystring.replace(\"I am\",\"Nicholas is\").replace(\"string\", \"human\").replace(\"Humans\", \"Other humans\").replace(\"me\",\"him\")\n",
    "\n",
    "print(new_string)\n",
    "print(new_string.replace('Nicholas', 'Charles').replace('easily','from time to time'))"
   ]
  },
  {
   "cell_type": "code",
   "execution_count": null,
   "metadata": {},
   "outputs": [],
   "source": [
    "# strings can added (concatenated) together\n",
    "add_chunk = '. I love strings'\n",
    "mystring + add_chunk"
   ]
  },
  {
   "cell_type": "code",
   "execution_count": null,
   "metadata": {},
   "outputs": [],
   "source": [
    "# ... but not subtracted\n",
    "subtract_bit = 'easily.'\n",
    "mystring - subtract_bit"
   ]
  },
  {
   "cell_type": "code",
   "execution_count": null,
   "metadata": {},
   "outputs": [],
   "source": [
    "# the backslash is special in strings - it is called an escape character. \n",
    "# It does a number of different things depending on the next letter:\n",
    "print('using \\n generates a new line!')"
   ]
  },
  {
   "cell_type": "code",
   "execution_count": null,
   "metadata": {},
   "outputs": [],
   "source": [
    "print('using \\t generates a tab!')"
   ]
  },
  {
   "cell_type": "code",
   "execution_count": null,
   "metadata": {},
   "outputs": [],
   "source": [
    "# you can tell python to ignore this by adding 'r' to the start of a string.\\\n",
    "string_will_fail = 'C:\\Users\\charl\\Documents\\CE\\RAM\\OneDrive_1_3-6-2019\\QXN\\RN'"
   ]
  },
  {
   "cell_type": "code",
   "execution_count": null,
   "metadata": {},
   "outputs": [],
   "source": [
    "string_will_work = r'C:\\Users\\charl\\Documents\\CE\\RAM\\OneDrive_1_3-6-2019\\QXN\\RN'"
   ]
  },
  {
   "cell_type": "code",
   "execution_count": null,
   "metadata": {},
   "outputs": [],
   "source": [
    "# the traditional way to format strings with variables is through % notation\n",
    "fave_number = 10\n",
    "print('my favourite number is: %f' % fave_number)"
   ]
  },
  {
   "cell_type": "code",
   "execution_count": null,
   "metadata": {},
   "outputs": [],
   "source": [
    "import time \n",
    "the_time = time.ctime()\n",
    "print('the date and time is currently: %s' % the_time)"
   ]
  },
  {
   "cell_type": "code",
   "execution_count": null,
   "metadata": {},
   "outputs": [],
   "source": [
    "# be aware of the letter after the first percent sign - it changes the nature of the string formatting:\n",
    "q = 22 / 7\n",
    "\n",
    "print('%d' % q)    # d: decimal\n",
    "print('%f' % q)    # f: float\n",
    "print('%e' % q)    # e: exponential\n",
    "print('%s' % q)    # s: string"
   ]
  },
  {
   "cell_type": "code",
   "execution_count": null,
   "metadata": {},
   "outputs": [],
   "source": [
    "# a more recent and easy-to-use way to print variables is with .format()\n",
    "# to keep your outputs neat, you might want to limit the decimal places\n",
    "\n",
    "print(\"My output: {}\".format(q))\n",
    "print(\"My output: {:.3f}\".format(q))"
   ]
  },
  {
   "cell_type": "markdown",
   "metadata": {},
   "source": [
    "#### 2.2 Converting between types\n",
    "Often you need to convert variables to other types, especially to make them work together. Use the _int()_, _str()_ or _float()_ functions to convert to these data types."
   ]
  },
  {
   "cell_type": "code",
   "execution_count": null,
   "metadata": {},
   "outputs": [],
   "source": [
    "# sometimes Python will change a variable's data type for you. Take this variable:\n",
    "my_salary = 500000\n",
    "print(\"Variable my_salary has value {} and type {}\".format(my_salary, type(my_salary)))"
   ]
  },
  {
   "cell_type": "code",
   "execution_count": null,
   "metadata": {},
   "outputs": [],
   "source": [
    "# now divide it by another integer. The result is necessarily a float:\n",
    "daily_rate = my_salary / 365\n",
    "print(\"Variable daily_rate has value {} and type {}\".format(daily_rate, type(daily_rate)))"
   ]
  },
  {
   "cell_type": "code",
   "execution_count": null,
   "metadata": {},
   "outputs": [],
   "source": [
    "# changing a float to an integer lops off everything after the decimal place\n",
    "int(daily_rate)"
   ]
  },
  {
   "cell_type": "code",
   "execution_count": null,
   "metadata": {},
   "outputs": [],
   "source": [
    "# you can't concatenate a string and an integer\n",
    "\n",
    "address = \"1808 H ST NW, DC\"\n",
    "WB_zip = 20037\n",
    "\n",
    "address + \" \" + WB_zip"
   ]
  },
  {
   "cell_type": "code",
   "execution_count": null,
   "metadata": {},
   "outputs": [],
   "source": [
    "# instead, change the integer to a string first\n",
    "WB_zip = str(WB_zip)\n",
    "type(WB_zip)"
   ]
  },
  {
   "cell_type": "code",
   "execution_count": null,
   "metadata": {},
   "outputs": [],
   "source": [
    "# does it work now?\n",
    "address + \" \" + WB_zip"
   ]
  },
  {
   "cell_type": "markdown",
   "metadata": {},
   "source": [
    "### 3. Data types: lists, tuples and dictionaries\n",
    "Ints, floats and strings are the most basic data structures (think of them as atoms). Next, we'll look at data types that combine those atoms together in more complex ways. Lists, tuples and dictionaries are containers for other data. They can be used to combine your data in more complex ways (think molecules rather than atoms).\n",
    "\n",
    "|Data structure | Properties| Syntax|\n",
    "|----|----|----|\n",
    "|List | Ordered, mutable sequence | mylist = [1,2,3] |\n",
    "|Tuple | Ordered, immutable sequence | mytuple = (1,2,3) |\n",
    "|Set | Unordered set of unique values | set(1,2,3) |\n",
    "|Dictionary | Mutable set of key, value pairs | mydict = {'first_value':1, 'second_value:2} |\n"
   ]
  },
  {
   "cell_type": "markdown",
   "metadata": {},
   "source": [
    "#### 3.1 Manipulating lists\n",
    "Lists are ordered sequences denoted by square brackets. They're helpful when your data has an order, and may need to be changed in place. You can put strings, floats, integers, or any of Python's more complex data types into a list."
   ]
  },
  {
   "cell_type": "code",
   "execution_count": null,
   "metadata": {},
   "outputs": [],
   "source": [
    "# define a list with []\n",
    "weekdays = ['monday','tuesday','wednesday','thursday','friday']\n",
    "weekdays"
   ]
  },
  {
   "cell_type": "code",
   "execution_count": null,
   "metadata": {},
   "outputs": [],
   "source": [
    "# get an item using [offset]\n",
    "weekdays[3]"
   ]
  },
  {
   "cell_type": "code",
   "execution_count": null,
   "metadata": {},
   "outputs": [],
   "source": [
    "# check the type of items in a list\n",
    "type(weekdays[3])"
   ]
  },
  {
   "cell_type": "code",
   "execution_count": null,
   "metadata": {},
   "outputs": [],
   "source": [
    "# change an item using mylist[offset]\n",
    "weekdays[3] = 'thursday - remember Python class!'\n",
    "weekdays"
   ]
  },
  {
   "cell_type": "code",
   "execution_count": null,
   "metadata": {},
   "outputs": [],
   "source": [
    "# slicing: extract items by offset range\n",
    "weekdays[2:4]"
   ]
  },
  {
   "cell_type": "code",
   "execution_count": null,
   "metadata": {},
   "outputs": [],
   "source": [
    "# add an item to a list with append()\n",
    "weekdays.append('saturday')\n",
    "weekdays"
   ]
  },
  {
   "cell_type": "code",
   "execution_count": null,
   "metadata": {},
   "outputs": [],
   "source": [
    "# test for a value in your list\n",
    "'saturday' in weekdays"
   ]
  },
  {
   "cell_type": "code",
   "execution_count": null,
   "metadata": {},
   "outputs": [],
   "source": [
    "# use .remove() to clean up the weekdays list\n",
    "\n",
    "weekdays.remove('saturday')\n",
    "weekdays"
   ]
  },
  {
   "cell_type": "code",
   "execution_count": null,
   "metadata": {},
   "outputs": [],
   "source": [
    "# concatenate two lists\n",
    "odds = [1,3,5]\n",
    "evens = [2,4,6]\n",
    "all_nums = odds + evens\n",
    "all_nums"
   ]
  },
  {
   "cell_type": "code",
   "execution_count": null,
   "metadata": {},
   "outputs": [],
   "source": [
    "# Lists, like other data types, have methods associated with them. These are accessed through dot notation.\n",
    "# Use tab complete to find helpful methods! \n",
    "\n",
    "all_nums.sor"
   ]
  },
  {
   "cell_type": "markdown",
   "metadata": {},
   "source": [
    "#### 3.2 Dictionaries\n",
    "Dictionaries are collections of key-value pairs. Unlike lists, the order of items doesn't matter, and they aren't selected by an offset. To use dictionaries, you specify a unique key to associate with each value. Dictionaries are mutable, so you can add, delete or change their elements."
   ]
  },
  {
   "cell_type": "code",
   "execution_count": null,
   "metadata": {},
   "outputs": [],
   "source": [
    "# coming next week!\n"
   ]
  },
  {
   "cell_type": "markdown",
   "metadata": {},
   "source": [
    "### 4. Intro to logic and control flow\n",
    "\n",
    "Definition of **control flow**:\n",
    "* In a simple script, program execution starts at the top and executes each instruction in order. \n",
    "* **Control flow** statements can cause the execution to loop and skip instructions based on conditions."
   ]
  },
  {
   "cell_type": "markdown",
   "metadata": {},
   "source": [
    "#### 4.1 Loops and iterables\n",
    "Definition: an **iterable** is an object capable of returning its members one at a time. Strings, lists and dictionaries are all iterables.\n",
    "\n",
    "A **for loop** runs a block of code repeatedly \"for\" each item in an iterable. End the declaration with : and indent the subsidiary code."
   ]
  },
  {
   "cell_type": "code",
   "execution_count": null,
   "metadata": {},
   "outputs": [],
   "source": [
    "# loop through items in a list\n",
    "\n",
    "for color in ['red','green','blue']:\n",
    "    print(\"I love \" + color)"
   ]
  },
  {
   "cell_type": "code",
   "execution_count": null,
   "metadata": {},
   "outputs": [],
   "source": [
    "# or characters in a string\n",
    "for letter in 'abcd':\n",
    "    print(letter.upper())"
   ]
  },
  {
   "cell_type": "code",
   "execution_count": null,
   "metadata": {},
   "outputs": [],
   "source": [
    "# the range() function produces a helpful iterator\n",
    "for n in range(5):\n",
    "    print(\"I ate {} donuts\".format(n + 1))"
   ]
  },
  {
   "cell_type": "markdown",
   "metadata": {},
   "source": [
    "#### 4.2 Logic operators\n",
    "\n",
    "We test conditions using logic operators.\n",
    "\n",
    "| Symbol | Task Performed |\n",
    "|----|---|\n",
    "| == | True, if it is equal |\n",
    "| !=  | True, if not equal to |\n",
    "| < | less than |\n",
    "| <= | less than or equal to |\n",
    "| > | greater than |\n",
    "| >= | greater than or equal to |"
   ]
  },
  {
   "cell_type": "code",
   "execution_count": null,
   "metadata": {},
   "outputs": [],
   "source": [
    "# NOTE: We declare variables using '='\n",
    "a = 5\n",
    "b = 7"
   ]
  },
  {
   "cell_type": "code",
   "execution_count": null,
   "metadata": {},
   "outputs": [],
   "source": [
    "# But compare them using '=='\n",
    "a == b"
   ]
  },
  {
   "cell_type": "code",
   "execution_count": null,
   "metadata": {},
   "outputs": [],
   "source": [
    "# Logic expressions evaluate to True or False (datatype: Boolean)\n",
    "\n",
    "test = b > a\n",
    "\n",
    "test"
   ]
  },
  {
   "cell_type": "code",
   "execution_count": null,
   "metadata": {},
   "outputs": [],
   "source": [
    "type(test)"
   ]
  },
  {
   "cell_type": "markdown",
   "metadata": {},
   "source": [
    "#### 4.3 Conditional statements with if\n",
    "\n",
    "My pet Python is a vegetarian. She will test whether variable 'food' is 'burger', 'chicken' or 'veg', then decide whether to eat.\n",
    "\n",
    "Do this with 'if', 'elif' (else if), and 'else'."
   ]
  },
  {
   "cell_type": "code",
   "execution_count": null,
   "metadata": {},
   "outputs": [],
   "source": [
    "food = 'veg'"
   ]
  },
  {
   "cell_type": "code",
   "execution_count": null,
   "metadata": {},
   "outputs": [],
   "source": [
    "if food == 'veg':\n",
    "    print ('yum')\n",
    "elif food == 'chicken':\n",
    "    print ('hmm maybe')\n",
    "elif food == 'burger':\n",
    "    print ('no thanks')\n",
    "else:\n",
    "    print ('more information needed')"
   ]
  },
  {
   "cell_type": "markdown",
   "metadata": {},
   "source": [
    "NOTE: Here's how the structure works:\n",
    "* start with an 'if' statement, specifying the logical test to apply\n",
    "* make sure your 'if' statement ends with :\n",
    "* **indent the conditional code block.** Whatever code should be executed if the condition is true, indent it with a tab.\n",
    "* test additional actions using 'elif', and any other actions with 'else'."
   ]
  },
  {
   "cell_type": "markdown",
   "metadata": {},
   "source": [
    "#### 4.4 Testing conditions inside a loop\n",
    "Combining loops with logic allows you to build more sophisticated code structures:"
   ]
  },
  {
   "cell_type": "code",
   "execution_count": null,
   "metadata": {},
   "outputs": [],
   "source": [
    "days = ['Mon','Tue','Wed','Thu','Fri','Sat','Sun']\n",
    "\n",
    "for day in days:\n",
    "    if day == 'Sat':\n",
    "        location = '--> Beach!'\n",
    "    elif day == 'Sun':\n",
    "        location = '--> My sofa!'\n",
    "    else:\n",
    "        location = '--> MC5-215B'\n",
    "    print(day, location)"
   ]
  },
  {
   "cell_type": "code",
   "execution_count": null,
   "metadata": {},
   "outputs": [],
   "source": [
    "# EXAMPLE 2: is your pet allowed?\n",
    "\n",
    "authorized_pets = ['small dog', 'cat', 'hamster','budgerigar']\n",
    "\n",
    "print(\"Welcome to Nick's Apartment Block.\")\n",
    "my_pet = input(\"Type your pet's breed to see if it's accepted: \")\n",
    "\n",
    "if my_pet in authorized_pets:\n",
    "    print(\"Congratulations, your {} is welcome here!\".format(my_pet))\n",
    "else:\n",
    "    print(\"Sorry your {} is NOT ACCEPTED\".format(my_pet))"
   ]
  },
  {
   "cell_type": "markdown",
   "metadata": {},
   "source": [
    "#### --> This concludes our tour of data structures and brief introduction to control flow. We'll go into more depth on structures like dictionaries next week, and cover control flow in more detail."
   ]
  }
 ],
 "metadata": {
  "kernelspec": {
   "display_name": "Python 3",
   "language": "python",
   "name": "python3"
  },
  "language_info": {
   "codemirror_mode": {
    "name": "ipython",
    "version": 3
   },
   "file_extension": ".py",
   "mimetype": "text/x-python",
   "name": "python",
   "nbconvert_exporter": "python",
   "pygments_lexer": "ipython3",
   "version": "3.7.1"
  }
 },
 "nbformat": 4,
 "nbformat_minor": 2
}
