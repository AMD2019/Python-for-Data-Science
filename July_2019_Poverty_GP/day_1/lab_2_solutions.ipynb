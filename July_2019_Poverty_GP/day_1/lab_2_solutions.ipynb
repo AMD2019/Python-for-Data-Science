{
  "nbformat": 4,
  "nbformat_minor": 0,
  "metadata": {
    "colab": {
      "name": "Copy of lab_2.ipynb",
      "version": "0.3.2",
      "provenance": []
    },
    "language_info": {
      "codemirror_mode": {
        "name": "ipython",
        "version": 3
      },
      "file_extension": ".py",
      "mimetype": "text/x-python",
      "name": "python",
      "nbconvert_exporter": "python",
      "pygments_lexer": "ipython3",
      "version": "3.7.3"
    },
    "kernelspec": {
      "display_name": "Python 3",
      "language": "python",
      "name": "python3"
    }
  },
  "cells": [
    {
      "cell_type": "markdown",
      "metadata": {
        "id": "dKyVHGgLNarm",
        "colab_type": "text"
      },
      "source": [
        "# Lab 2\n",
        "\n",
        "Answer the exercises or complete the tasks outlined in bold, using the specific method described if applicable."
      ]
    },
    {
      "cell_type": "markdown",
      "metadata": {
        "id": "rpuTHqFbNarp",
        "colab_type": "text"
      },
      "source": [
        "#### EXERCISE 1: String drills\n",
        "*Objective: Consolidate string manipulation, converting between data types where needed, using .format(), and not crashing due to quote mark issues.*\n",
        "\n",
        "\n",
        "**1a: Combine these four variables into a single string and print it.**"
      ]
    },
    {
      "cell_type": "code",
      "metadata": {
        "id": "24sLKtptNarr",
        "colab_type": "code",
        "colab": {}
      },
      "source": [
        "a = 'Welcome to '\n",
        "b = 'Python class '\n",
        "c = 'lab '\n",
        "d = 2"
      ],
      "execution_count": 0,
      "outputs": []
    },
    {
      "cell_type": "code",
      "metadata": {
        "id": "2ZB-7FHwNary",
        "colab_type": "code",
        "outputId": "bdb7550b-8963-45aa-c907-80dd2ed94031",
        "colab": {
          "base_uri": "https://localhost:8080/",
          "height": 35
        }
      },
      "source": [
        "# YOUR CODE HERE\n",
        "z=a+b+c+str(2)\n",
        "z"
      ],
      "execution_count": 0,
      "outputs": [
        {
          "output_type": "execute_result",
          "data": {
            "text/plain": [
              "'Welcome to Python class lab 2'"
            ]
          },
          "metadata": {
            "tags": []
          },
          "execution_count": 26
        }
      ]
    },
    {
      "cell_type": "markdown",
      "metadata": {
        "id": "-8S35LchNar8",
        "colab_type": "text"
      },
      "source": [
        "**1b: Print `pi` to seven decimal places.**"
      ]
    },
    {
      "cell_type": "code",
      "metadata": {
        "id": "IfJclV6nNar-",
        "colab_type": "code",
        "outputId": "ec6a2adf-e2a9-4ee4-efcd-43e244a71e14",
        "colab": {
          "base_uri": "https://localhost:8080/",
          "height": 35
        }
      },
      "source": [
        "# YOUR CODE HERE:\n",
        "\n",
        "pi_approx = 355/113\n",
        "\n",
        "print(\"{:.7f}\".format(pi_approx))"
      ],
      "execution_count": 0,
      "outputs": [
        {
          "output_type": "stream",
          "text": [
            "3.1415929\n"
          ],
          "name": "stdout"
        }
      ]
    },
    {
      "cell_type": "markdown",
      "metadata": {
        "id": "FbLpitOINasG",
        "colab_type": "text"
      },
      "source": [
        "**1c: Print both of the following:**\n",
        "\n",
        "    Nick says \"hello\"\n",
        "    This is Dharana's sandwich"
      ]
    },
    {
      "cell_type": "code",
      "metadata": {
        "scrolled": true,
        "id": "moHOeW2XNasI",
        "colab_type": "code",
        "outputId": "b4bcc8c2-9a22-4312-e705-e70a718eb615",
        "colab": {
          "base_uri": "https://localhost:8080/",
          "height": 70
        }
      },
      "source": [
        "# YOUR CODE HERE: \n",
        "print('Nick says \"hello\"')\n",
        "print (\"This is Dharana's sandwich\")\n",
        "\n",
        "# TIP: When both ' and \" are part of the string we can also use '''   ''' \n",
        "print ('''\"But what if we wanted to print strings like these,\" she said. \"Wouldn't that break the code?\"''')"
      ],
      "execution_count": 0,
      "outputs": [
        {
          "output_type": "stream",
          "text": [
            "Nick says \"hello\"\n",
            "This is Dharana's sandwich\n",
            "\"But what if we wanted to print strings like these,\" she said. \"Wouldn't that break the code?\"\n"
          ],
          "name": "stdout"
        }
      ]
    },
    {
      "cell_type": "markdown",
      "metadata": {
        "id": "0tXSeBZtNasN",
        "colab_type": "text"
      },
      "source": [
        "#### EXERCISE 2: Tourist agency\n",
        "*Objective: Iterate through lists, use string formatting.*\n",
        "\n",
        "Write a program to print \"Welcome to beautiful {country}!\" for each country in the list."
      ]
    },
    {
      "cell_type": "code",
      "metadata": {
        "id": "8Y3pwnriNasO",
        "colab_type": "code",
        "colab": {}
      },
      "source": [
        "country_list = ['Kazakhstan','Kenya', 'Kiribati', \"Korea (DPRK)\", 'Korea (ROC)', 'Kosovo', 'Kuwait', 'Kyrgyzstan']"
      ],
      "execution_count": 0,
      "outputs": []
    },
    {
      "cell_type": "code",
      "metadata": {
        "id": "X_ZOHo0FNasT",
        "colab_type": "code",
        "outputId": "8d96915d-7e58-4a91-ac16-65ac02d0a5fe",
        "colab": {
          "base_uri": "https://localhost:8080/",
          "height": 159
        }
      },
      "source": [
        "# YOUR CODE HERE:\n",
        "for country in country_list:\n",
        "  print (\"Welcome to beautiful\", country, \"!\")"
      ],
      "execution_count": 0,
      "outputs": [
        {
          "output_type": "stream",
          "text": [
            "Welcome to beautiful Kazakhstan !\n",
            "Welcome to beautiful Kenya !\n",
            "Welcome to beautiful Kiribati !\n",
            "Welcome to beautiful Korea (DPRK) !\n",
            "Welcome to beautiful Korea (ROC) !\n",
            "Welcome to beautiful Kosovo !\n",
            "Welcome to beautiful Kuwait !\n",
            "Welcome to beautiful Kyrgyzstan !\n"
          ],
          "name": "stdout"
        }
      ]
    },
    {
      "cell_type": "markdown",
      "metadata": {
        "id": "iWjoouyUNasa",
        "colab_type": "text"
      },
      "source": [
        "#### EXERCISE 3: Quick brown fox\n",
        "**Split the string below into a list of words, then:**\n",
        "* print only the second to fifth items in the list\n",
        "* count the items in the list\n",
        "* replace \"dog\" with \"dinosaur\""
      ]
    },
    {
      "cell_type": "code",
      "metadata": {
        "id": "_0UGkwp7Nasb",
        "colab_type": "code",
        "outputId": "a3115ac1-3b94-4de7-85f5-c5b8e535e21e",
        "colab": {
          "base_uri": "https://localhost:8080/",
          "height": 35
        }
      },
      "source": [
        "rhyme = \"The quick brown fox jumps over the lazy dog\"\n",
        "\n",
        "# YOUR CODE HERE:\n",
        "rhyme_list=rhyme.split()\n",
        "rhyme_list"
      ],
      "execution_count": 0,
      "outputs": [
        {
          "output_type": "execute_result",
          "data": {
            "text/plain": [
              "['The', 'quick', 'brown', 'fox', 'jumps', 'over', 'the', 'lazy', 'dog']"
            ]
          },
          "metadata": {
            "tags": []
          },
          "execution_count": 12
        }
      ]
    },
    {
      "cell_type": "code",
      "metadata": {
        "id": "9J1kmXfJNask",
        "colab_type": "code",
        "outputId": "008d04c9-beaa-4d36-ef44-e85699ba3402",
        "colab": {
          "base_uri": "https://localhost:8080/",
          "height": 35
        }
      },
      "source": [
        "rhyme_list[1:4]"
      ],
      "execution_count": 0,
      "outputs": [
        {
          "output_type": "execute_result",
          "data": {
            "text/plain": [
              "['quick', 'brown', 'fox']"
            ]
          },
          "metadata": {
            "tags": []
          },
          "execution_count": 13
        }
      ]
    },
    {
      "cell_type": "code",
      "metadata": {
        "id": "IYZ2U2VQNass",
        "colab_type": "code",
        "outputId": "ed5d2fdb-11c1-41c8-e23e-8533b9b9f69f",
        "colab": {
          "base_uri": "https://localhost:8080/",
          "height": 35
        }
      },
      "source": [
        "len(rhyme_list)"
      ],
      "execution_count": 0,
      "outputs": [
        {
          "output_type": "execute_result",
          "data": {
            "text/plain": [
              "9"
            ]
          },
          "metadata": {
            "tags": []
          },
          "execution_count": 14
        }
      ]
    },
    {
      "cell_type": "code",
      "metadata": {
        "id": "IDSDJwEiNas0",
        "colab_type": "code",
        "outputId": "75efca91-e3be-47c3-8f02-4744893c9e44",
        "colab": {
          "base_uri": "https://localhost:8080/",
          "height": 35
        }
      },
      "source": [
        "rhyme_list[8]=\"dinosaur\"\n",
        "rhyme_list"
      ],
      "execution_count": 0,
      "outputs": [
        {
          "output_type": "execute_result",
          "data": {
            "text/plain": [
              "['The', 'quick', 'brown', 'fox', 'jumps', 'over', 'the', 'lazy', 'dinosaur']"
            ]
          },
          "metadata": {
            "tags": []
          },
          "execution_count": 15
        }
      ]
    },
    {
      "cell_type": "markdown",
      "metadata": {
        "id": "GEmp2NulNas-",
        "colab_type": "text"
      },
      "source": [
        "#### EXERCISE 4: Tangled lists\n",
        "\n",
        "*Objective: Navigate a set of lists nested inside lists, use square bracket indexing, use list comprehensions.*\n",
        "\n",
        "Given this nested list, grab the word dragon:"
      ]
    },
    {
      "cell_type": "code",
      "metadata": {
        "id": "aQB8QKcINatB",
        "colab_type": "code",
        "colab": {}
      },
      "source": [
        "my_list = [0,4,[4,3,2],[420, 250, [1,2,3,'dragon']],365,23,6]"
      ],
      "execution_count": 0,
      "outputs": []
    },
    {
      "cell_type": "code",
      "metadata": {
        "id": "fW8EcJ6RNatI",
        "colab_type": "code",
        "outputId": "9201ffad-1444-4727-c56e-3fe12efc71a6",
        "colab": {
          "base_uri": "https://localhost:8080/",
          "height": 35
        }
      },
      "source": [
        "my_list[3][2][3]"
      ],
      "execution_count": 0,
      "outputs": [
        {
          "output_type": "execute_result",
          "data": {
            "text/plain": [
              "'dragon'"
            ]
          },
          "metadata": {
            "tags": []
          },
          "execution_count": 18
        }
      ]
    },
    {
      "cell_type": "markdown",
      "metadata": {
        "id": "O7hleNpiNatf",
        "colab_type": "text"
      },
      "source": [
        "Convert the following list from strings to integers:"
      ]
    },
    {
      "cell_type": "code",
      "metadata": {
        "id": "OQaqJAziNatj",
        "colab_type": "code",
        "outputId": "1bdc6760-22f8-4608-ea65-ec7a4b175beb",
        "colab": {
          "base_uri": "https://localhost:8080/",
          "height": 35
        }
      },
      "source": [
        "# YOUR CODE HERE:\n",
        "\n",
        "ZIP_list = ['10009','20009','20022','20034','90210']\n",
        "zip_list = [int(i) for i in ZIP_list]\n",
        "zip_list"
      ],
      "execution_count": 0,
      "outputs": [
        {
          "output_type": "execute_result",
          "data": {
            "text/plain": [
              "[10009, 20009, 20022, 20034, 90210]"
            ]
          },
          "metadata": {
            "tags": []
          },
          "execution_count": 23
        }
      ]
    },
    {
      "cell_type": "markdown",
      "metadata": {
        "id": "Tnl09PuNNat8",
        "colab_type": "text"
      },
      "source": [
        "#### EXERCISE 5: Prime numbers\n",
        "*Objective: Combine loops, logic conditions and math operations.*"
      ]
    },
    {
      "cell_type": "markdown",
      "metadata": {
        "id": "ArwoCXjGNauN",
        "colab_type": "text"
      },
      "source": [
        "Write a program to loop from 1 to 100 and print all the prime numbers"
      ]
    },
    {
      "cell_type": "code",
      "metadata": {
        "id": "vZeDy4IjNauW",
        "colab_type": "code",
        "outputId": "73afd23f-2ff8-43bb-c9cf-4880a7fe5be3",
        "colab": {
          "base_uri": "https://localhost:8080/",
          "height": 461
        }
      },
      "source": [
        "# YOUR CODE HERE:\n",
        "\n",
        "primes=[]\n",
        "\n",
        "for value in range(1,101):         \n",
        "   if value > 1: \n",
        "       for n in range(2, value): \n",
        "           if (value % n) == 0: \n",
        "               break\n",
        "       else: \n",
        "           primes.append(value)\n",
        "          \n",
        "primes"
      ],
      "execution_count": 0,
      "outputs": [
        {
          "output_type": "execute_result",
          "data": {
            "text/plain": [
              "[2,\n",
              " 3,\n",
              " 5,\n",
              " 7,\n",
              " 11,\n",
              " 13,\n",
              " 17,\n",
              " 19,\n",
              " 23,\n",
              " 29,\n",
              " 31,\n",
              " 37,\n",
              " 41,\n",
              " 43,\n",
              " 47,\n",
              " 53,\n",
              " 59,\n",
              " 61,\n",
              " 67,\n",
              " 71,\n",
              " 73,\n",
              " 79,\n",
              " 83,\n",
              " 89,\n",
              " 97]"
            ]
          },
          "metadata": {
            "tags": []
          },
          "execution_count": 48
        }
      ]
    },
    {
      "cell_type": "markdown",
      "metadata": {
        "id": "sbwPMw9JNau6",
        "colab_type": "text"
      },
      "source": [
        "#### EXERCISE 6: List comprehensions\n",
        "Use list comprehensions to do the following:\n",
        "* 6a. List all numbers from 1 to 1000 that are divisible by 12.\n",
        "* 6b. List all the holiday destinations that are less than 7 characters long."
      ]
    },
    {
      "cell_type": "code",
      "metadata": {
        "id": "5zo-dsbFNau9",
        "colab_type": "code",
        "outputId": "cae80de5-4ce8-43ed-de86-8def47c30b26",
        "colab": {
          "base_uri": "https://localhost:8080/",
          "height": 35
        }
      },
      "source": [
        "# YOUR CODE HERE\n",
        "\n",
        "holiday_destinations = ['maine','cornwall','ibiza','florida','bali','bognor regis']\n",
        "\n",
        "hol_dest=[dest for dest in holiday_destinations if len(dest)<7]\n",
        "hol_dest"
      ],
      "execution_count": 0,
      "outputs": [
        {
          "output_type": "execute_result",
          "data": {
            "text/plain": [
              "['maine', 'ibiza', 'bali']"
            ]
          },
          "metadata": {
            "tags": []
          },
          "execution_count": 33
        }
      ]
    },
    {
      "cell_type": "markdown",
      "metadata": {
        "id": "A1xO6DXGNavM",
        "colab_type": "text"
      },
      "source": [
        "#### EXERCISE 7: Phone directory\n",
        "*Objective: Use a list comprehension and list methods.*\n",
        "\n",
        "Take a list of names, and get them in phone directory order (\"first name, last name\", in alphabetical order):"
      ]
    },
    {
      "cell_type": "code",
      "metadata": {
        "id": "mUdakvhINavP",
        "colab_type": "code",
        "outputId": "6eb2c47c-79fb-4c12-bd0c-6caea70b006e",
        "colab": {
          "base_uri": "https://localhost:8080/",
          "height": 35
        }
      },
      "source": [
        "names = ['John Lennon', 'Serena Williams', 'Ingrid Bergman', 'Mikhail Gorbachev']\n",
        "\n",
        "directory=[name.split()[1]+','+name.split()[0] for name in names]\n",
        "directory.sort()\n",
        "directory"
      ],
      "execution_count": 0,
      "outputs": [
        {
          "output_type": "execute_result",
          "data": {
            "text/plain": [
              "['Bergman,Ingrid', 'Gorbachev,Mikhail', 'Lennon,John', 'Williams,Serena']"
            ]
          },
          "metadata": {
            "tags": []
          },
          "execution_count": 37
        }
      ]
    }
  ]
}