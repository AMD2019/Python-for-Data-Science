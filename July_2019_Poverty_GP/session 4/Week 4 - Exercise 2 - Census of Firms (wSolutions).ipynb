{
 "cells": [
  {
   "cell_type": "markdown",
   "metadata": {},
   "source": [
    "Q.) Import the os, sys and pandas libraries. Set pandas to 'pd'."
   ]
  },
  {
   "cell_type": "code",
   "execution_count": 1,
   "metadata": {
    "collapsed": true
   },
   "outputs": [],
   "source": [
    "import os, sys\n",
    "import pandas as pd"
   ]
  },
  {
   "cell_type": "markdown",
   "metadata": {},
   "source": [
    "Q.) define a variable A as the filename (remember to INCLUDE the extension!). Define a variable B as the filepath. "
   ]
  },
  {
   "cell_type": "code",
   "execution_count": 4,
   "metadata": {},
   "outputs": [],
   "source": [
    "A = r'firms_Dhaka.csv'\n",
    "B = r'C:\\Users\\charl\\Documents\\GitHub\\Python-for-Data-Science\\week 4'\n",
    "complete_path = os.path.join(B, A)\n",
    "df = pd.read_csv(complete_path, encoding = 'utf_8')"
   ]
  },
  {
   "cell_type": "markdown",
   "metadata": {},
   "source": [
    "Q.) print out the column names in this dataset"
   ]
  },
  {
   "cell_type": "code",
   "execution_count": 5,
   "metadata": {},
   "outputs": [
    {
     "data": {
      "text/plain": [
       "Index(['Unnamed: 0', 'Geographic', 'Sector', 'Size_Frame', 'Size_Inter',\n",
       "       'Weights', 'age', 'export', 'exporter', 'family_own', 'female_own',\n",
       "       'foreign_ow', 'geometry', 'gpsAccurac', 'gpsAltitud', 'Lat', 'Lon',\n",
       "       'innovative', 'leader', 'limited_li', 'node', 'number_cli',\n",
       "       'partnershi', 'product_re', 'product_ye', 'public_', 'region',\n",
       "       'sales_ex_1', 'sales_expo', 'sales_per_', 'sector_1', 'share_fore',\n",
       "       'share_sold', 'share_wome', 'size_', 'wt', 'years', 'rank', 'ID'],\n",
       "      dtype='object')"
      ]
     },
     "execution_count": 5,
     "metadata": {},
     "output_type": "execute_result"
    }
   ],
   "source": [
    "df.columns"
   ]
  },
  {
   "cell_type": "markdown",
   "metadata": {},
   "source": [
    "Q.) print out the first 10 records"
   ]
  },
  {
   "cell_type": "code",
   "execution_count": 6,
   "metadata": {},
   "outputs": [
    {
     "data": {
      "text/html": [
       "<div>\n",
       "<style>\n",
       "    .dataframe thead tr:only-child th {\n",
       "        text-align: right;\n",
       "    }\n",
       "\n",
       "    .dataframe thead th {\n",
       "        text-align: left;\n",
       "    }\n",
       "\n",
       "    .dataframe tbody tr th {\n",
       "        vertical-align: top;\n",
       "    }\n",
       "</style>\n",
       "<table border=\"1\" class=\"dataframe\">\n",
       "  <thead>\n",
       "    <tr style=\"text-align: right;\">\n",
       "      <th></th>\n",
       "      <th>Unnamed: 0</th>\n",
       "      <th>Geographic</th>\n",
       "      <th>Sector</th>\n",
       "      <th>Size_Frame</th>\n",
       "      <th>Size_Inter</th>\n",
       "      <th>Weights</th>\n",
       "      <th>age</th>\n",
       "      <th>export</th>\n",
       "      <th>exporter</th>\n",
       "      <th>family_own</th>\n",
       "      <th>...</th>\n",
       "      <th>sales_per_</th>\n",
       "      <th>sector_1</th>\n",
       "      <th>share_fore</th>\n",
       "      <th>share_sold</th>\n",
       "      <th>share_wome</th>\n",
       "      <th>size_</th>\n",
       "      <th>wt</th>\n",
       "      <th>years</th>\n",
       "      <th>rank</th>\n",
       "      <th>ID</th>\n",
       "    </tr>\n",
       "  </thead>\n",
       "  <tbody>\n",
       "    <tr>\n",
       "      <th>0</th>\n",
       "      <td>0</td>\n",
       "      <td>Dhaka</td>\n",
       "      <td>Leather and Lather goods</td>\n",
       "      <td>0-9</td>\n",
       "      <td>0-9</td>\n",
       "      <td>1.750000</td>\n",
       "      <td>20+years</td>\n",
       "      <td>0</td>\n",
       "      <td>Non-exporter</td>\n",
       "      <td>1</td>\n",
       "      <td>...</td>\n",
       "      <td>2155263.30</td>\n",
       "      <td>leather</td>\n",
       "      <td>0</td>\n",
       "      <td>0</td>\n",
       "      <td>0</td>\n",
       "      <td>Micro</td>\n",
       "      <td>1.420000</td>\n",
       "      <td>50</td>\n",
       "      <td>10</td>\n",
       "      <td>0</td>\n",
       "    </tr>\n",
       "    <tr>\n",
       "      <th>1</th>\n",
       "      <td>1</td>\n",
       "      <td>Dhaka</td>\n",
       "      <td>Leather and Lather goods</td>\n",
       "      <td>0-9</td>\n",
       "      <td>0-9</td>\n",
       "      <td>1.750000</td>\n",
       "      <td>6-10years</td>\n",
       "      <td>0</td>\n",
       "      <td>Non-exporter</td>\n",
       "      <td>1</td>\n",
       "      <td>...</td>\n",
       "      <td>3123123.00</td>\n",
       "      <td>leather</td>\n",
       "      <td>0</td>\n",
       "      <td>0</td>\n",
       "      <td>0</td>\n",
       "      <td>Micro</td>\n",
       "      <td>1.420000</td>\n",
       "      <td>10</td>\n",
       "      <td>10</td>\n",
       "      <td>1</td>\n",
       "    </tr>\n",
       "    <tr>\n",
       "      <th>2</th>\n",
       "      <td>2</td>\n",
       "      <td>Dhaka</td>\n",
       "      <td>Leather and Lather goods</td>\n",
       "      <td>0-9</td>\n",
       "      <td>0-9</td>\n",
       "      <td>1.750000</td>\n",
       "      <td>20+years</td>\n",
       "      <td>0</td>\n",
       "      <td>Non-exporter</td>\n",
       "      <td>1</td>\n",
       "      <td>...</td>\n",
       "      <td>6887417.00</td>\n",
       "      <td>leather</td>\n",
       "      <td>0</td>\n",
       "      <td>0</td>\n",
       "      <td>0</td>\n",
       "      <td>Small</td>\n",
       "      <td>1.000000</td>\n",
       "      <td>41</td>\n",
       "      <td>5</td>\n",
       "      <td>2</td>\n",
       "    </tr>\n",
       "    <tr>\n",
       "      <th>3</th>\n",
       "      <td>3</td>\n",
       "      <td>Dhaka</td>\n",
       "      <td>Leather and Lather goods</td>\n",
       "      <td>0-9</td>\n",
       "      <td>0-9</td>\n",
       "      <td>1.750000</td>\n",
       "      <td>20+years</td>\n",
       "      <td>0</td>\n",
       "      <td>Non-exporter</td>\n",
       "      <td>0</td>\n",
       "      <td>...</td>\n",
       "      <td>1900000.00</td>\n",
       "      <td>leather</td>\n",
       "      <td>0</td>\n",
       "      <td>0</td>\n",
       "      <td>0</td>\n",
       "      <td>Micro</td>\n",
       "      <td>1.136000</td>\n",
       "      <td>40</td>\n",
       "      <td>10</td>\n",
       "      <td>3</td>\n",
       "    </tr>\n",
       "    <tr>\n",
       "      <th>4</th>\n",
       "      <td>4</td>\n",
       "      <td>Dhaka</td>\n",
       "      <td>Leather and Lather goods</td>\n",
       "      <td>Oct-49</td>\n",
       "      <td>Oct-49</td>\n",
       "      <td>2.066667</td>\n",
       "      <td>20+years</td>\n",
       "      <td>0</td>\n",
       "      <td>Non-exporter</td>\n",
       "      <td>1</td>\n",
       "      <td>...</td>\n",
       "      <td>3303451.80</td>\n",
       "      <td>leather</td>\n",
       "      <td>0</td>\n",
       "      <td>0</td>\n",
       "      <td>0</td>\n",
       "      <td>Small</td>\n",
       "      <td>2.361111</td>\n",
       "      <td>38</td>\n",
       "      <td>5</td>\n",
       "      <td>4</td>\n",
       "    </tr>\n",
       "    <tr>\n",
       "      <th>5</th>\n",
       "      <td>5</td>\n",
       "      <td>Dhaka</td>\n",
       "      <td>Leather and Lather goods</td>\n",
       "      <td>0-9</td>\n",
       "      <td>0-9</td>\n",
       "      <td>1.750000</td>\n",
       "      <td>20+years</td>\n",
       "      <td>0</td>\n",
       "      <td>Non-exporter</td>\n",
       "      <td>1</td>\n",
       "      <td>...</td>\n",
       "      <td>557142.88</td>\n",
       "      <td>leather</td>\n",
       "      <td>0</td>\n",
       "      <td>0</td>\n",
       "      <td>0</td>\n",
       "      <td>Micro</td>\n",
       "      <td>1.136000</td>\n",
       "      <td>46</td>\n",
       "      <td>10</td>\n",
       "      <td>5</td>\n",
       "    </tr>\n",
       "    <tr>\n",
       "      <th>6</th>\n",
       "      <td>6</td>\n",
       "      <td>Dhaka</td>\n",
       "      <td>Leather and Lather goods</td>\n",
       "      <td>Oct-49</td>\n",
       "      <td>0-9</td>\n",
       "      <td>2.066667</td>\n",
       "      <td>16-20years</td>\n",
       "      <td>70</td>\n",
       "      <td>Exporter</td>\n",
       "      <td>1</td>\n",
       "      <td>...</td>\n",
       "      <td>2529183.00</td>\n",
       "      <td>leather</td>\n",
       "      <td>0</td>\n",
       "      <td>30</td>\n",
       "      <td>0</td>\n",
       "      <td>Micro</td>\n",
       "      <td>1.888889</td>\n",
       "      <td>17</td>\n",
       "      <td>10</td>\n",
       "      <td>6</td>\n",
       "    </tr>\n",
       "    <tr>\n",
       "      <th>7</th>\n",
       "      <td>7</td>\n",
       "      <td>Dhaka</td>\n",
       "      <td>Leather and Lather goods</td>\n",
       "      <td>Oct-49</td>\n",
       "      <td>0-9</td>\n",
       "      <td>2.066667</td>\n",
       "      <td>20+years</td>\n",
       "      <td>0</td>\n",
       "      <td>Non-exporter</td>\n",
       "      <td>1</td>\n",
       "      <td>...</td>\n",
       "      <td>10459927.00</td>\n",
       "      <td>leather</td>\n",
       "      <td>0</td>\n",
       "      <td>0</td>\n",
       "      <td>0</td>\n",
       "      <td>Micro</td>\n",
       "      <td>2.361111</td>\n",
       "      <td>30</td>\n",
       "      <td>10</td>\n",
       "      <td>7</td>\n",
       "    </tr>\n",
       "    <tr>\n",
       "      <th>8</th>\n",
       "      <td>8</td>\n",
       "      <td>Dhaka</td>\n",
       "      <td>Leather and Lather goods</td>\n",
       "      <td>Oct-49</td>\n",
       "      <td>0-9</td>\n",
       "      <td>2.066667</td>\n",
       "      <td>20+years</td>\n",
       "      <td>0</td>\n",
       "      <td>Non-exporter</td>\n",
       "      <td>1</td>\n",
       "      <td>...</td>\n",
       "      <td>7204433.50</td>\n",
       "      <td>leather</td>\n",
       "      <td>0</td>\n",
       "      <td>0</td>\n",
       "      <td>0</td>\n",
       "      <td>Small</td>\n",
       "      <td>2.833333</td>\n",
       "      <td>50</td>\n",
       "      <td>5</td>\n",
       "      <td>8</td>\n",
       "    </tr>\n",
       "    <tr>\n",
       "      <th>9</th>\n",
       "      <td>9</td>\n",
       "      <td>Dhaka</td>\n",
       "      <td>Footwear</td>\n",
       "      <td>0-9</td>\n",
       "      <td>0-9</td>\n",
       "      <td>1.679612</td>\n",
       "      <td>6-10years</td>\n",
       "      <td>0</td>\n",
       "      <td>Non-exporter</td>\n",
       "      <td>1</td>\n",
       "      <td>...</td>\n",
       "      <td>3527132.00</td>\n",
       "      <td>footwear</td>\n",
       "      <td>0</td>\n",
       "      <td>0</td>\n",
       "      <td>0</td>\n",
       "      <td>Micro</td>\n",
       "      <td>1.339806</td>\n",
       "      <td>10</td>\n",
       "      <td>10</td>\n",
       "      <td>9</td>\n",
       "    </tr>\n",
       "  </tbody>\n",
       "</table>\n",
       "<p>10 rows × 39 columns</p>\n",
       "</div>"
      ],
      "text/plain": [
       "   Unnamed: 0 Geographic                    Sector Size_Frame Size_Inter  \\\n",
       "0           0      Dhaka  Leather and Lather goods        0-9        0-9   \n",
       "1           1      Dhaka  Leather and Lather goods        0-9        0-9   \n",
       "2           2      Dhaka  Leather and Lather goods        0-9        0-9   \n",
       "3           3      Dhaka  Leather and Lather goods        0-9        0-9   \n",
       "4           4      Dhaka  Leather and Lather goods     Oct-49     Oct-49   \n",
       "5           5      Dhaka  Leather and Lather goods        0-9        0-9   \n",
       "6           6      Dhaka  Leather and Lather goods     Oct-49        0-9   \n",
       "7           7      Dhaka  Leather and Lather goods     Oct-49        0-9   \n",
       "8           8      Dhaka  Leather and Lather goods     Oct-49        0-9   \n",
       "9           9      Dhaka                  Footwear        0-9        0-9   \n",
       "\n",
       "    Weights         age  export      exporter  family_own ...   sales_per_  \\\n",
       "0  1.750000    20+years       0  Non-exporter           1 ...   2155263.30   \n",
       "1  1.750000   6-10years       0  Non-exporter           1 ...   3123123.00   \n",
       "2  1.750000    20+years       0  Non-exporter           1 ...   6887417.00   \n",
       "3  1.750000    20+years       0  Non-exporter           0 ...   1900000.00   \n",
       "4  2.066667    20+years       0  Non-exporter           1 ...   3303451.80   \n",
       "5  1.750000    20+years       0  Non-exporter           1 ...    557142.88   \n",
       "6  2.066667  16-20years      70      Exporter           1 ...   2529183.00   \n",
       "7  2.066667    20+years       0  Non-exporter           1 ...  10459927.00   \n",
       "8  2.066667    20+years       0  Non-exporter           1 ...   7204433.50   \n",
       "9  1.679612   6-10years       0  Non-exporter           1 ...   3527132.00   \n",
       "\n",
       "   sector_1 share_fore  share_sold  share_wome  size_        wt  years  rank  \\\n",
       "0   leather          0           0           0  Micro  1.420000     50    10   \n",
       "1   leather          0           0           0  Micro  1.420000     10    10   \n",
       "2   leather          0           0           0  Small  1.000000     41     5   \n",
       "3   leather          0           0           0  Micro  1.136000     40    10   \n",
       "4   leather          0           0           0  Small  2.361111     38     5   \n",
       "5   leather          0           0           0  Micro  1.136000     46    10   \n",
       "6   leather          0          30           0  Micro  1.888889     17    10   \n",
       "7   leather          0           0           0  Micro  2.361111     30    10   \n",
       "8   leather          0           0           0  Small  2.833333     50     5   \n",
       "9  footwear          0           0           0  Micro  1.339806     10    10   \n",
       "\n",
       "   ID  \n",
       "0   0  \n",
       "1   1  \n",
       "2   2  \n",
       "3   3  \n",
       "4   4  \n",
       "5   5  \n",
       "6   6  \n",
       "7   7  \n",
       "8   8  \n",
       "9   9  \n",
       "\n",
       "[10 rows x 39 columns]"
      ]
     },
     "execution_count": 6,
     "metadata": {},
     "output_type": "execute_result"
    }
   ],
   "source": [
    "df.head(10)"
   ]
  },
  {
   "cell_type": "markdown",
   "metadata": {},
   "source": [
    "Q.) How many firms are there in the dataset?"
   ]
  },
  {
   "cell_type": "code",
   "execution_count": 7,
   "metadata": {},
   "outputs": [
    {
     "data": {
      "text/plain": [
       "1438"
      ]
     },
     "execution_count": 7,
     "metadata": {},
     "output_type": "execute_result"
    }
   ],
   "source": [
    "len(df)"
   ]
  },
  {
   "cell_type": "markdown",
   "metadata": {},
   "source": [
    "Q.) using the 'years' column, print out the average age of a firm"
   ]
  },
  {
   "cell_type": "code",
   "execution_count": 8,
   "metadata": {},
   "outputs": [
    {
     "data": {
      "text/plain": [
       "14.68219749652295"
      ]
     },
     "execution_count": 8,
     "metadata": {},
     "output_type": "execute_result"
    }
   ],
   "source": [
    "df.years.mean()"
   ]
  },
  {
   "cell_type": "markdown",
   "metadata": {},
   "source": [
    "Q.) what's the median age of a firm in Dhaka?"
   ]
  },
  {
   "cell_type": "code",
   "execution_count": 9,
   "metadata": {},
   "outputs": [
    {
     "data": {
      "text/plain": [
       "10.0"
      ]
     },
     "execution_count": 9,
     "metadata": {},
     "output_type": "execute_result"
    }
   ],
   "source": [
    "df.years.median()"
   ]
  },
  {
   "cell_type": "markdown",
   "metadata": {},
   "source": [
    "Q.) call the 'value_counts' method on the 'age' column. What fraction of firms have been around for less than 5 years?"
   ]
  },
  {
   "cell_type": "code",
   "execution_count": 10,
   "metadata": {},
   "outputs": [
    {
     "data": {
      "text/plain": [
       "0-5years      397\n",
       "20+years      342\n",
       "6-10years     329\n",
       "11-15years    189\n",
       "16-20years    181\n",
       "Name: age, dtype: int64"
      ]
     },
     "execution_count": 10,
     "metadata": {},
     "output_type": "execute_result"
    }
   ],
   "source": [
    "df.age.value_counts()"
   ]
  },
  {
   "cell_type": "code",
   "execution_count": 11,
   "metadata": {},
   "outputs": [
    {
     "data": {
      "text/plain": [
       "0.2760778859527121"
      ]
     },
     "execution_count": 11,
     "metadata": {},
     "output_type": "execute_result"
    }
   ],
   "source": [
    "397 / len(df)"
   ]
  },
  {
   "cell_type": "markdown",
   "metadata": {},
   "source": [
    "Q.) Using the 'foreign_ow' column: how many firms in Dhaka are foreign-owned?"
   ]
  },
  {
   "cell_type": "code",
   "execution_count": 12,
   "metadata": {},
   "outputs": [
    {
     "data": {
      "text/plain": [
       "domestic_owned    1435\n",
       "foreign_owned        3\n",
       "Name: foreign_ow, dtype: int64"
      ]
     },
     "execution_count": 12,
     "metadata": {},
     "output_type": "execute_result"
    }
   ],
   "source": [
    "df['foreign_ow'].value_counts()"
   ]
  },
  {
   "cell_type": "markdown",
   "metadata": {},
   "source": [
    "Q.) make a new pandas DataFrame, df2, that contains only domestically-owned firms"
   ]
  },
  {
   "cell_type": "code",
   "execution_count": 13,
   "metadata": {
    "collapsed": true
   },
   "outputs": [],
   "source": [
    "df2 = df.loc[df.foreign_ow == 'domestic_owned']"
   ]
  },
  {
   "cell_type": "markdown",
   "metadata": {},
   "source": [
    "Q.) make a third DataFrame that contains only firms under 5 years old"
   ]
  },
  {
   "cell_type": "code",
   "execution_count": 14,
   "metadata": {
    "collapsed": true
   },
   "outputs": [],
   "source": [
    "df3 = df.loc[df.years <= 5]"
   ]
  },
  {
   "cell_type": "markdown",
   "metadata": {},
   "source": [
    "Q.) What sectors are these firms in? use the 'Sector' column"
   ]
  },
  {
   "cell_type": "code",
   "execution_count": 15,
   "metadata": {},
   "outputs": [
    {
     "data": {
      "text/plain": [
       "Plastic Product             120\n",
       "Footwear                    115\n",
       "Light Engineering            87\n",
       "Leather and Lather goods     75\n",
       "Name: Sector, dtype: int64"
      ]
     },
     "execution_count": 15,
     "metadata": {},
     "output_type": "execute_result"
    }
   ],
   "source": [
    "df3.Sector.value_counts()"
   ]
  },
  {
   "cell_type": "markdown",
   "metadata": {},
   "source": [
    "Q.) Make a histogram of the industries of firms that are less than 5 years old"
   ]
  },
  {
   "cell_type": "code",
   "execution_count": 16,
   "metadata": {},
   "outputs": [
    {
     "data": {
      "text/plain": [
       "<matplotlib.axes._subplots.AxesSubplot at 0x140b9aa9470>"
      ]
     },
     "execution_count": 16,
     "metadata": {},
     "output_type": "execute_result"
    },
    {
     "data": {
      "image/png": "[encoded data removed]",
      "text/plain": [
       "<matplotlib.figure.Figure at 0x140afd5c5f8>"
      ]
     },
     "metadata": {},
     "output_type": "display_data"
    }
   ],
   "source": [
    "%matplotlib inline\n",
    "df3.Sector.value_counts().plot(kind = 'bar')"
   ]
  },
  {
   "cell_type": "markdown",
   "metadata": {},
   "source": [
    "Q: Compare this to the sector distribution of all firms in general. By making a histogram of their industries. What do you notice?"
   ]
  },
  {
   "cell_type": "code",
   "execution_count": 17,
   "metadata": {},
   "outputs": [
    {
     "data": {
      "text/plain": [
       "<matplotlib.axes._subplots.AxesSubplot at 0x140b9b46978>"
      ]
     },
     "execution_count": 17,
     "metadata": {},
     "output_type": "execute_result"
    },
    {
     "data": {
      "image/png": "[encoded data removed]",
      "text/plain": [
       "<matplotlib.figure.Figure at 0x140b9b7f748>"
      ]
     },
     "metadata": {},
     "output_type": "display_data"
    }
   ],
   "source": [
    "df.Sector.value_counts().plot(kind = 'bar')"
   ]
  },
  {
   "cell_type": "markdown",
   "metadata": {},
   "source": [
    "ANS: plastic products and footwear seem to be emerging markets / industries for companies in Dhaka, as they make up a far greater share of the industry total for firms under 5 years old than for all firms"
   ]
  },
  {
   "cell_type": "code",
   "execution_count": null,
   "metadata": {
    "collapsed": true
   },
   "outputs": [],
   "source": []
  },
  {
   "cell_type": "code",
   "execution_count": null,
   "metadata": {
    "collapsed": true
   },
   "outputs": [],
   "source": []
  },
  {
   "cell_type": "code",
   "execution_count": null,
   "metadata": {
    "collapsed": true
   },
   "outputs": [],
   "source": []
  },
  {
   "cell_type": "code",
   "execution_count": null,
   "metadata": {
    "collapsed": true
   },
   "outputs": [],
   "source": []
  },
  {
   "cell_type": "code",
   "execution_count": null,
   "metadata": {
    "collapsed": true
   },
   "outputs": [],
   "source": []
  },
  {
   "cell_type": "code",
   "execution_count": null,
   "metadata": {
    "collapsed": true
   },
   "outputs": [],
   "source": []
  },
  {
   "cell_type": "code",
   "execution_count": null,
   "metadata": {
    "collapsed": true
   },
   "outputs": [],
   "source": []
  },
  {
   "cell_type": "code",
   "execution_count": null,
   "metadata": {
    "collapsed": true
   },
   "outputs": [],
   "source": []
  },
  {
   "cell_type": "code",
   "execution_count": null,
   "metadata": {
    "collapsed": true
   },
   "outputs": [],
   "source": []
  },
  {
   "cell_type": "code",
   "execution_count": null,
   "metadata": {
    "collapsed": true
   },
   "outputs": [],
   "source": []
  },
  {
   "cell_type": "code",
   "execution_count": null,
   "metadata": {
    "collapsed": true
   },
   "outputs": [],
   "source": []
  },
  {
   "cell_type": "code",
   "execution_count": null,
   "metadata": {
    "collapsed": true
   },
   "outputs": [],
   "source": []
  },
  {
   "cell_type": "code",
   "execution_count": null,
   "metadata": {
    "collapsed": true
   },
   "outputs": [],
   "source": []
  },
  {
   "cell_type": "code",
   "execution_count": null,
   "metadata": {
    "collapsed": true
   },
   "outputs": [],
   "source": []
  }
 ],
 "metadata": {
  "kernelspec": {
   "display_name": "Python 3",
   "language": "python",
   "name": "python3"
  },
  "language_info": {
   "codemirror_mode": {
    "name": "ipython",
    "version": 3
   },
   "file_extension": ".py",
   "mimetype": "text/x-python",
   "name": "python",
   "nbconvert_exporter": "python",
   "pygments_lexer": "ipython3",
   "version": "3.6.1"
  }
 },
 "nbformat": 4,
 "nbformat_minor": 2
}
