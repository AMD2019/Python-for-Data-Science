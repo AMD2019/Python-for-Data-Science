{
 "cells": [
  {
   "cell_type": "markdown",
   "metadata": {},
   "source": [
    "# Lab 1\n",
    "\n",
    "Answer the exercises or complete the tasks, using the specific method described if applicable."
   ]
  },
  {
   "cell_type": "markdown",
   "metadata": {},
   "source": [
    "#### EXERCISE 1: Album collection\n",
    "Sort these albums into alphabetical order"
   ]
  },
  {
   "cell_type": "code",
   "execution_count": 203,
   "metadata": {},
   "outputs": [],
   "source": [
    "albums = ['Piper At The Gates of Dawn',\n",
    "          'Ummagumma',\n",
    "          'Obscured By Clouds',\n",
    "          'Dark Side Of The Moon']"
   ]
  },
  {
   "cell_type": "code",
   "execution_count": 204,
   "metadata": {},
   "outputs": [
    {
     "data": {
      "text/plain": [
       "['Dark Side Of The Moon',\n",
       " 'Obscured By Clouds',\n",
       " 'Piper At The Gates of Dawn',\n",
       " 'Ummagumma']"
      ]
     },
     "execution_count": 204,
     "metadata": {},
     "output_type": "execute_result"
    }
   ],
   "source": [
    "# YOUR CODE HERE:\n"
   ]
  },
  {
   "cell_type": "markdown",
   "metadata": {},
   "source": [
    "They were recorded in 1967, 1969, 1972 and 1973 respectively. Make a dictionary called album_dict where the key-value pairs are album name and date. Check it worked by retrieving the date of Ummagumma."
   ]
  },
  {
   "cell_type": "code",
   "execution_count": 205,
   "metadata": {
    "scrolled": true
   },
   "outputs": [
    {
     "data": {
      "text/plain": [
       "1969"
      ]
     },
     "execution_count": 205,
     "metadata": {},
     "output_type": "execute_result"
    }
   ],
   "source": [
    "# YOUR CODE HERE\n",
    "\n",
    "album_dict = {}"
   ]
  },
  {
   "cell_type": "markdown",
   "metadata": {},
   "source": [
    "#### EXERCISE 2: Shopping spree\n",
    "Write a program to iterate through `shopping_list` (a dictionary containing items and their price). As each item is added, print its name and the running total. If an item cost more than 15 dollars, print \"Warning: expensive!\""
   ]
  },
  {
   "cell_type": "code",
   "execution_count": null,
   "metadata": {},
   "outputs": [],
   "source": [
    "shopping_list = {'green eggs': 3.09,\n",
    "                'ham': 5.99,\n",
    "                'christmas tree': 45.00,\n",
    "                'caviar': 299.99,\n",
    "                'newspaper': 3.50}"
   ]
  },
  {
   "cell_type": "code",
   "execution_count": 208,
   "metadata": {},
   "outputs": [
    {
     "name": "stdout",
     "output_type": "stream",
     "text": [
      "green eggs\n",
      "total so far:  3.09\n",
      "\n",
      "ham\n",
      "total so far:  9.08\n",
      "\n",
      "christmas tree\n",
      "total so far:  54.08\n",
      "---> Warning: expensive!\n",
      "\n",
      "caviar\n",
      "total so far:  354.07\n",
      "---> Warning: expensive!\n",
      "\n",
      "newspaper\n",
      "total so far:  357.57\n",
      "\n"
     ]
    }
   ],
   "source": [
    "# YOUR CODE HERE:\n"
   ]
  },
  {
   "cell_type": "markdown",
   "metadata": {},
   "source": [
    "#### EXERCISE 3: Functions\n",
    "**Write a function to test whether the word dragon is in a string**"
   ]
  },
  {
   "cell_type": "code",
   "execution_count": null,
   "metadata": {},
   "outputs": [],
   "source": [
    "from IPython.display import Image\n",
    "path = r'https://raw.githubusercontent.com/worldbank/Python-for-Data-Science/master/July_2019_Poverty_GP/day_1/images/village.jpg'\n",
    "Image(filename=path, width = 250) "
   ]
  },
  {
   "cell_type": "code",
   "execution_count": 126,
   "metadata": {},
   "outputs": [
    {
     "data": {
      "text/plain": [
       "True"
      ]
     },
     "execution_count": 126,
     "metadata": {},
     "output_type": "execute_result"
    }
   ],
   "source": [
    "check_for_dragons('Under the bridge at Pontrhydfendigaid lies a dragon')"
   ]
  },
  {
   "cell_type": "markdown",
   "metadata": {},
   "source": [
    "**Create a function to replace 'not bad' with 'really good' in a string, and add exclamation marks. Your function takes two parameters: my_string and number_exclamation_marks.** Bonus: apply it to each of the three strings using a for loop, adding a random number of exclamation marks."
   ]
  },
  {
   "cell_type": "code",
   "execution_count": 222,
   "metadata": {},
   "outputs": [],
   "source": [
    "# YOUR FUNCTION HERE:\n",
    "\n",
    "def add_enthusiasm(my_string, number_exclamation marks):\n",
    "    "
   ]
  },
  {
   "cell_type": "code",
   "execution_count": 225,
   "metadata": {},
   "outputs": [],
   "source": [
    "string1 = 'This chicken curry is not bad'\n",
    "string2 = \"Nick's ukulele playing is not bad\"\n",
    "string3 = 'Our Python instructors are not bad'"
   ]
  },
  {
   "cell_type": "code",
   "execution_count": 226,
   "metadata": {},
   "outputs": [
    {
     "data": {
      "text/plain": [
       "'This chicken curry is really good!!!'"
      ]
     },
     "execution_count": 226,
     "metadata": {},
     "output_type": "execute_result"
    }
   ],
   "source": [
    "add_enthusiasm(string1, 3)"
   ]
  },
  {
   "cell_type": "code",
   "execution_count": null,
   "metadata": {},
   "outputs": [],
   "source": [
    "# YOUR CODE HERE:\n",
    "\n",
    "print(\"This chicken curry is really good!!!!!!\")\n",
    "print(\"Nick's ukulele playing is really good!!\")\n",
    "print(\"Our Python instructors are really good!\")"
   ]
  },
  {
   "cell_type": "markdown",
   "metadata": {},
   "source": [
    "#### EXERCISE 4: More functions\n",
    "Pick one of the exercises below.\n",
    "\n",
    "**4a: Dice game**\n",
    "\n",
    "Write a function `dice_roll` that rolls two dice and returns the score. The score is the sum of the two numbers rolled. However, if the same number came up on both dice, your score gets doubled (eg. two 3s = 12, two 6s = 24).**"
   ]
  },
  {
   "cell_type": "code",
   "execution_count": 79,
   "metadata": {},
   "outputs": [],
   "source": [
    "# YOUR FUNCTION HERE:\n",
    "\n",
    "def roll_dice():\n",
    "    "
   ]
  },
  {
   "cell_type": "code",
   "execution_count": 113,
   "metadata": {},
   "outputs": [
    {
     "data": {
      "text/plain": [
       "7"
      ]
     },
     "execution_count": 113,
     "metadata": {},
     "output_type": "execute_result"
    }
   ],
   "source": [
    "roll_dice()"
   ]
  },
  {
   "cell_type": "markdown",
   "metadata": {},
   "source": [
    "Define an empty list `scores`. Run your `roll_dice` function n times in a loop. Each time, add the new score to the list using the list.append() function. At the end, print out lowest score, highest score, and the mean of all scores. Do this for n = 10, 1000 and 10000."
   ]
  },
  {
   "cell_type": "code",
   "execution_count": 214,
   "metadata": {},
   "outputs": [
    {
     "name": "stdout",
     "output_type": "stream",
     "text": [
      "Lowest score:  4\n",
      "Highest score:  12\n",
      "Mean score:  7.2\n"
     ]
    }
   ],
   "source": [
    "scores = []\n",
    "n = 10 # number of iterations\n",
    "\n",
    "# YOUR CODE HERE: \n"
   ]
  },
  {
   "cell_type": "code",
   "execution_count": 216,
   "metadata": {},
   "outputs": [
    {
     "name": "stdout",
     "output_type": "stream",
     "text": [
      "Lowest score:  3\n",
      "Highest score:  20\n",
      "Mean score:  7.59\n"
     ]
    }
   ],
   "source": [
    "scores = []\n",
    "n = 1000 \n",
    "\n",
    "# YOUR CODE HERE:\n"
   ]
  },
  {
   "cell_type": "code",
   "execution_count": 212,
   "metadata": {},
   "outputs": [
    {
     "name": "stdout",
     "output_type": "stream",
     "text": [
      "Lowest score:  3\n",
      "Highest score:  24\n",
      "Mean score:  8.16228\n"
     ]
    }
   ],
   "source": [
    "scores = []\n",
    "n = 100000\n",
    "\n",
    "# YOUR CODE HERE:\n"
   ]
  },
  {
   "cell_type": "markdown",
   "metadata": {},
   "source": [
    "#### EXERCISE 4b: Caught speeding\n",
    "\n",
    "You are driving a little too fast, and a police officer stops you. Write a function `caught_speeding` to compute the result, encoded as an int value: \n",
    "* 0=no ticket\n",
    "* 1=small ticket\n",
    "* 2=big ticket.\n",
    "\n",
    "If speed is 60 or less, the result is 0. If speed is between 61 and 80 inclusive, the result is 1. If speed is 81 or more, the result is 2. Unless it is your birthday -- on that day, your speed can be 5 higher in all cases.\n",
    "\n",
    "`caught_speeding(60, False) → 0`\n",
    "\n",
    "`caught_speeding(65, False) → 1`\n",
    "\n",
    "`caught_speeding(65, True) → 0`"
   ]
  },
  {
   "cell_type": "code",
   "execution_count": null,
   "metadata": {},
   "outputs": [],
   "source": [
    "# YOUR CODE HERE:\n"
   ]
  },
  {
   "cell_type": "markdown",
   "metadata": {},
   "source": [
    "#### EXERCISE 4c: Count nines\n",
    "Write a function to count the instances of integer 9 in a list"
   ]
  },
  {
   "cell_type": "code",
   "execution_count": 217,
   "metadata": {},
   "outputs": [],
   "source": [
    "# YOUR FUNCTION HERE:\n",
    "\n",
    "def count_nines(my_list):\n"
   ]
  },
  {
   "cell_type": "code",
   "execution_count": 218,
   "metadata": {},
   "outputs": [],
   "source": [
    "my_list = [0,3,2,4,9,9,3]"
   ]
  },
  {
   "cell_type": "code",
   "execution_count": 219,
   "metadata": {},
   "outputs": [
    {
     "data": {
      "text/plain": [
       "2"
      ]
     },
     "execution_count": 219,
     "metadata": {},
     "output_type": "execute_result"
    }
   ],
   "source": [
    "count_nines(my_list)"
   ]
  },
  {
   "cell_type": "markdown",
   "metadata": {},
   "source": [
    "#### EXERCISE 5: List comprehensions\n",
    "Use list comprehensions to do the following:\n",
    "* 6a. List all numbers from 1 to 1000 that are divisible by 12.\n",
    "* 6b. List all the holiday destinations that are less than 7 characters long.\n",
    "* 6c. Put all the names in phone directory order ('Last name', 'First name').\n",
    "\n",
    "(The last one requires a list comprehension then an extra step to sort - find a string method that will help.)"
   ]
  },
  {
   "cell_type": "code",
   "execution_count": 3,
   "metadata": {},
   "outputs": [],
   "source": [
    "# YOUR CODE HERE\n"
   ]
  },
  {
   "cell_type": "code",
   "execution_count": 1,
   "metadata": {},
   "outputs": [],
   "source": [
    "# YOUR CODE HERE\n",
    "\n",
    "holiday_destinations = ['maine','cornwall','ibiza','florida','bali','bognor regis']"
   ]
  },
  {
   "cell_type": "code",
   "execution_count": 1,
   "metadata": {},
   "outputs": [],
   "source": [
    "#YOUR CODE HERE\n",
    "\n",
    "names = ['John Lennon', 'Serena Williams', 'Ingrid Bergman', 'Mikhail Gorbachev']"
   ]
  },
  {
   "cell_type": "markdown",
   "metadata": {},
   "source": [
    "#### EXERCISE 6: On track for retirement?\n",
    "\n",
    "Write a function to calculate compound interest. Variables to take: `principal`, `interest_rate`, `years`. Return the amount of money at the end of the period (ie. the principal plus all accrued interest). You could use it to check what your pension will be worth."
   ]
  },
  {
   "cell_type": "code",
   "execution_count": null,
   "metadata": {},
   "outputs": [],
   "source": [
    "# YOUR FUNCTION HERE:\n",
    "\n",
    "def calculate_compound_interest(principal,interest_rate,years):\n"
   ]
  },
  {
   "cell_type": "code",
   "execution_count": 58,
   "metadata": {},
   "outputs": [],
   "source": [
    "principal = 100000\n",
    "interest_rate = 1.05\n",
    "years = 10\n",
    "\n",
    "investment_proceeds = calculate_compound_interest(principal, interest_rate, years)"
   ]
  },
  {
   "cell_type": "code",
   "execution_count": 59,
   "metadata": {},
   "outputs": [
    {
     "name": "stdout",
     "output_type": "stream",
     "text": [
      "After 10 years at interest rate 1.05, $100000 becomes $162889.46\n"
     ]
    }
   ],
   "source": [
    "print(\"After {} years at interest rate {}, ${} becomes ${:.2f}\".format(\n",
    "    years,\n",
    "    interest_rate,\n",
    "    principal,\n",
    "    investment_proceeds))"
   ]
  }
 ],
 "metadata": {
  "kernelspec": {
   "display_name": "Python 3",
   "language": "python",
   "name": "python3"
  },
  "language_info": {
   "codemirror_mode": {
    "name": "ipython",
    "version": 3
   },
   "file_extension": ".py",
   "mimetype": "text/x-python",
   "name": "python",
   "nbconvert_exporter": "python",
   "pygments_lexer": "ipython3",
   "version": "3.7.3"
  }
 },
 "nbformat": 4,
 "nbformat_minor": 2
}
