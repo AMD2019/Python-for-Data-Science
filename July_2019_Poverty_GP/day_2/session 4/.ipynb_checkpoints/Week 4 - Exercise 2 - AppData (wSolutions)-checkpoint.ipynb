{
 "cells": [
  {
   "cell_type": "markdown",
   "metadata": {},
   "source": [
    "### Working with App Data\n",
    "Often, app data requires considerable cleaning to be usef effectively. \n",
    "\n",
    "Here, we look at a common scenario - you have ten separate files, that you want to join together to make into one. Each file represents the trace collected by a mobile phone as the user drives over the road. The obejctive is to find out which road is roughest."
   ]
  },
  {
   "cell_type": "markdown",
   "metadata": {},
   "source": [
    "Q.) Import some common libraries - os, sys and pandas (set to 'pd')"
   ]
  },
  {
   "cell_type": "code",
   "execution_count": null,
   "metadata": {
    "collapsed": true
   },
   "outputs": [],
   "source": []
  },
  {
   "cell_type": "markdown",
   "metadata": {},
   "source": [
    "Q.) Make sure you have all of the data for Exercise 2 saved down into a folder on your machine. Once you have done that:\n",
    "\n",
    "Set a variable equal to that folder_location:"
   ]
  },
  {
   "cell_type": "code",
   "execution_count": 1,
   "metadata": {
    "collapsed": true
   },
   "outputs": [],
   "source": [
    "folder_location = r''"
   ]
  },
  {
   "cell_type": "markdown",
   "metadata": {},
   "source": [
    "Here we import and call glob2's 'glob' function against our folder location, and print the result:"
   ]
  },
  {
   "cell_type": "code",
   "execution_count": 21,
   "metadata": {},
   "outputs": [
    {
     "data": {
      "text/plain": [
       "['C:\\\\Users\\\\charl\\\\Documents\\\\GitHub\\\\Python-for-Data-Science\\\\week 4\\\\SampleData\\\\Exercise 2\\\\Intervals_iPhone9,2_2017Feb14_1017AM.csv',\n",
       " 'C:\\\\Users\\\\charl\\\\Documents\\\\GitHub\\\\Python-for-Data-Science\\\\week 4\\\\SampleData\\\\Exercise 2\\\\Intervals_iPhone_6s_2017Apr27_0810AM.csv',\n",
       " 'C:\\\\Users\\\\charl\\\\Documents\\\\GitHub\\\\Python-for-Data-Science\\\\week 4\\\\SampleData\\\\Exercise 2\\\\Intervals_iPhone_6s_2017Apr27_1046AM.csv',\n",
       " 'C:\\\\Users\\\\charl\\\\Documents\\\\GitHub\\\\Python-for-Data-Science\\\\week 4\\\\SampleData\\\\Exercise 2\\\\Intervals_iPhone_6s_Plus_20170214144404106.csv',\n",
       " 'C:\\\\Users\\\\charl\\\\Documents\\\\GitHub\\\\Python-for-Data-Science\\\\week 4\\\\SampleData\\\\Exercise 2\\\\Intervals_iPhone_6s_Plus_20170214144830156.csv',\n",
       " 'C:\\\\Users\\\\charl\\\\Documents\\\\GitHub\\\\Python-for-Data-Science\\\\week 4\\\\SampleData\\\\Exercise 2\\\\Intervals_iPhone_6s_Plus_20170214160927148.csv',\n",
       " 'C:\\\\Users\\\\charl\\\\Documents\\\\GitHub\\\\Python-for-Data-Science\\\\week 4\\\\SampleData\\\\Exercise 2\\\\RoadIntervals_Asus_ASUS_X008D_201702141420244.csv',\n",
       " 'C:\\\\Users\\\\charl\\\\Documents\\\\GitHub\\\\Python-for-Data-Science\\\\week 4\\\\SampleData\\\\Exercise 2\\\\RoadIntervals_Asus_ASUS_X008D_201702141607028.csv',\n",
       " 'C:\\\\Users\\\\charl\\\\Documents\\\\GitHub\\\\Python-for-Data-Science\\\\week 4\\\\SampleData\\\\Exercise 2\\\\RoadIntervals_Samsung_SM-A510F_201702141413014.csv',\n",
       " 'C:\\\\Users\\\\charl\\\\Documents\\\\GitHub\\\\Python-for-Data-Science\\\\week 4\\\\SampleData\\\\Exercise 2\\\\RoadIntervals_Samsung_SM-G935U_201702141500487.csv']"
      ]
     },
     "execution_count": 21,
     "metadata": {},
     "output_type": "execute_result"
    }
   ],
   "source": [
    "import glob2\n",
    "file_list = glob2.glob(folder_location+r'\\**')\n",
    "file_list"
   ]
  },
  {
   "cell_type": "markdown",
   "metadata": {},
   "source": [
    "Q.) Select the first object in the list. use pandas' 'read_csv' function to open the file. "
   ]
  },
  {
   "cell_type": "code",
   "execution_count": null,
   "metadata": {
    "collapsed": true
   },
   "outputs": [],
   "source": []
  },
  {
   "cell_type": "markdown",
   "metadata": {},
   "source": [
    "Q.) Print out the first two rows"
   ]
  },
  {
   "cell_type": "code",
   "execution_count": null,
   "metadata": {},
   "outputs": [],
   "source": []
  },
  {
   "cell_type": "markdown",
   "metadata": {},
   "source": [
    "Q.) Write a function which:\n",
    "- takes a file path as an input\n",
    "- opens the file as a DataFrame\n",
    "- prints the first two rows"
   ]
  },
  {
   "cell_type": "code",
   "execution_count": null,
   "metadata": {
    "collapsed": true
   },
   "outputs": [],
   "source": []
  },
  {
   "cell_type": "markdown",
   "metadata": {},
   "source": [
    "Q.) Using a for-loop, run this function for every file in the file_list"
   ]
  },
  {
   "cell_type": "code",
   "execution_count": null,
   "metadata": {},
   "outputs": [],
   "source": []
  },
  {
   "cell_type": "markdown",
   "metadata": {},
   "source": [
    "Q.) make a list of the column names for the first file path in the variable file_list. "
   ]
  },
  {
   "cell_type": "code",
   "execution_count": null,
   "metadata": {
    "collapsed": true
   },
   "outputs": [],
   "source": []
  },
  {
   "cell_type": "markdown",
   "metadata": {},
   "source": [
    "Q.) Write another function which checks whether the column names in each file are the same as the first file"
   ]
  },
  {
   "cell_type": "code",
   "execution_count": null,
   "metadata": {},
   "outputs": [],
   "source": []
  },
  {
   "cell_type": "markdown",
   "metadata": {},
   "source": [
    "Q.) Now that we have this information, use a for-loop to:\n",
    "- load each file one at a time\n",
    "- make a new column whose contents are equal to the filepath. Call this column 'file_p'\n",
    "- make a new column whose contents is just the length of the DataFrame. Call this 'observations'\n",
    "- place this DataFrame in a list"
   ]
  },
  {
   "cell_type": "code",
   "execution_count": null,
   "metadata": {
    "collapsed": true
   },
   "outputs": [],
   "source": []
  },
  {
   "cell_type": "markdown",
   "metadata": {},
   "source": [
    "Q.) join all of these dataframes together into a master DataFrame. Call this 'master_df'\n",
    "\n",
    "*hint: read a little about pandas merge, join, concat and append methods*"
   ]
  },
  {
   "cell_type": "code",
   "execution_count": null,
   "metadata": {
    "collapsed": true
   },
   "outputs": [],
   "source": []
  },
  {
   "cell_type": "markdown",
   "metadata": {},
   "source": [
    "Q.) Now, we can use the 'groupby' method of a pandas DataFrame to group records together with the same filepath. By taking just the 'iri' and 'file_p' columns, we can quickly see which road has the best surface quality, and which has the worst. \n",
    "\n",
    "One nice property of pandas objects is that you can call multiple functions / methods in a single line. They execute left to right. Hence, the following line:"
   ]
  },
  {
   "cell_type": "code",
   "execution_count": 47,
   "metadata": {},
   "outputs": [
    {
     "data": {
      "text/html": [
       "<div>\n",
       "<style>\n",
       "    .dataframe thead tr:only-child th {\n",
       "        text-align: right;\n",
       "    }\n",
       "\n",
       "    .dataframe thead th {\n",
       "        text-align: left;\n",
       "    }\n",
       "\n",
       "    .dataframe tbody tr th {\n",
       "        vertical-align: top;\n",
       "    }\n",
       "</style>\n",
       "<table border=\"1\" class=\"dataframe\">\n",
       "  <thead>\n",
       "    <tr style=\"text-align: right;\">\n",
       "      <th></th>\n",
       "      <th>observations</th>\n",
       "      <th>iri</th>\n",
       "    </tr>\n",
       "    <tr>\n",
       "      <th>file_p</th>\n",
       "      <th></th>\n",
       "      <th></th>\n",
       "    </tr>\n",
       "  </thead>\n",
       "  <tbody>\n",
       "    <tr>\n",
       "      <th>C:\\Users\\charl\\Documents\\GitHub\\Python-for-Data-Science\\week 4\\SampleData\\Exercise 2\\RoadIntervals_Samsung_SM-G935U_201702141500487.csv</th>\n",
       "      <td>7</td>\n",
       "      <td>3.187143</td>\n",
       "    </tr>\n",
       "    <tr>\n",
       "      <th>C:\\Users\\charl\\Documents\\GitHub\\Python-for-Data-Science\\week 4\\SampleData\\Exercise 2\\RoadIntervals_Asus_ASUS_X008D_201702141420244.csv</th>\n",
       "      <td>8</td>\n",
       "      <td>4.237500</td>\n",
       "    </tr>\n",
       "    <tr>\n",
       "      <th>C:\\Users\\charl\\Documents\\GitHub\\Python-for-Data-Science\\week 4\\SampleData\\Exercise 2\\RoadIntervals_Asus_ASUS_X008D_201702141607028.csv</th>\n",
       "      <td>13</td>\n",
       "      <td>4.326154</td>\n",
       "    </tr>\n",
       "    <tr>\n",
       "      <th>C:\\Users\\charl\\Documents\\GitHub\\Python-for-Data-Science\\week 4\\SampleData\\Exercise 2\\RoadIntervals_Samsung_SM-A510F_201702141413014.csv</th>\n",
       "      <td>3</td>\n",
       "      <td>6.510000</td>\n",
       "    </tr>\n",
       "    <tr>\n",
       "      <th>C:\\Users\\charl\\Documents\\GitHub\\Python-for-Data-Science\\week 4\\SampleData\\Exercise 2\\Intervals_iPhone9,2_2017Feb14_1017AM.csv</th>\n",
       "      <td>27</td>\n",
       "      <td>7.415556</td>\n",
       "    </tr>\n",
       "    <tr>\n",
       "      <th>C:\\Users\\charl\\Documents\\GitHub\\Python-for-Data-Science\\week 4\\SampleData\\Exercise 2\\Intervals_iPhone_6s_Plus_20170214160927148.csv</th>\n",
       "      <td>145</td>\n",
       "      <td>7.434483</td>\n",
       "    </tr>\n",
       "    <tr>\n",
       "      <th>C:\\Users\\charl\\Documents\\GitHub\\Python-for-Data-Science\\week 4\\SampleData\\Exercise 2\\Intervals_iPhone_6s_Plus_20170214144830156.csv</th>\n",
       "      <td>5</td>\n",
       "      <td>8.342000</td>\n",
       "    </tr>\n",
       "    <tr>\n",
       "      <th>C:\\Users\\charl\\Documents\\GitHub\\Python-for-Data-Science\\week 4\\SampleData\\Exercise 2\\Intervals_iPhone_6s_2017Apr27_0810AM.csv</th>\n",
       "      <td>311</td>\n",
       "      <td>9.906141</td>\n",
       "    </tr>\n",
       "    <tr>\n",
       "      <th>C:\\Users\\charl\\Documents\\GitHub\\Python-for-Data-Science\\week 4\\SampleData\\Exercise 2\\Intervals_iPhone_6s_Plus_20170214144404106.csv</th>\n",
       "      <td>6</td>\n",
       "      <td>11.270000</td>\n",
       "    </tr>\n",
       "    <tr>\n",
       "      <th>C:\\Users\\charl\\Documents\\GitHub\\Python-for-Data-Science\\week 4\\SampleData\\Exercise 2\\Intervals_iPhone_6s_2017Apr27_1046AM.csv</th>\n",
       "      <td>17</td>\n",
       "      <td>12.745882</td>\n",
       "    </tr>\n",
       "  </tbody>\n",
       "</table>\n",
       "</div>"
      ],
      "text/plain": [
       "                                                    observations        iri\n",
       "file_p                                                                     \n",
       "C:\\Users\\charl\\Documents\\GitHub\\Python-for-Data...             7   3.187143\n",
       "C:\\Users\\charl\\Documents\\GitHub\\Python-for-Data...             8   4.237500\n",
       "C:\\Users\\charl\\Documents\\GitHub\\Python-for-Data...            13   4.326154\n",
       "C:\\Users\\charl\\Documents\\GitHub\\Python-for-Data...             3   6.510000\n",
       "C:\\Users\\charl\\Documents\\GitHub\\Python-for-Data...            27   7.415556\n",
       "C:\\Users\\charl\\Documents\\GitHub\\Python-for-Data...           145   7.434483\n",
       "C:\\Users\\charl\\Documents\\GitHub\\Python-for-Data...             5   8.342000\n",
       "C:\\Users\\charl\\Documents\\GitHub\\Python-for-Data...           311   9.906141\n",
       "C:\\Users\\charl\\Documents\\GitHub\\Python-for-Data...             6  11.270000\n",
       "C:\\Users\\charl\\Documents\\GitHub\\Python-for-Data...            17  12.745882"
      ]
     },
     "execution_count": 47,
     "metadata": {},
     "output_type": "execute_result"
    }
   ],
   "source": [
    "master_df[['file_p','observations','iri']].groupby('file_p').mean().sort_values(by = 'iri', ascending = True)"
   ]
  },
  {
   "cell_type": "markdown",
   "metadata": {},
   "source": [
    "is equivalent to:"
   ]
  },
  {
   "cell_type": "code",
   "execution_count": 50,
   "metadata": {},
   "outputs": [
    {
     "data": {
      "text/html": [
       "<div>\n",
       "<style>\n",
       "    .dataframe thead tr:only-child th {\n",
       "        text-align: right;\n",
       "    }\n",
       "\n",
       "    .dataframe thead th {\n",
       "        text-align: left;\n",
       "    }\n",
       "\n",
       "    .dataframe tbody tr th {\n",
       "        vertical-align: top;\n",
       "    }\n",
       "</style>\n",
       "<table border=\"1\" class=\"dataframe\">\n",
       "  <thead>\n",
       "    <tr style=\"text-align: right;\">\n",
       "      <th></th>\n",
       "      <th>observations</th>\n",
       "      <th>iri</th>\n",
       "    </tr>\n",
       "    <tr>\n",
       "      <th>file_p</th>\n",
       "      <th></th>\n",
       "      <th></th>\n",
       "    </tr>\n",
       "  </thead>\n",
       "  <tbody>\n",
       "    <tr>\n",
       "      <th>C:\\Users\\charl\\Documents\\GitHub\\Python-for-Data-Science\\week 4\\SampleData\\Exercise 2\\RoadIntervals_Samsung_SM-G935U_201702141500487.csv</th>\n",
       "      <td>7</td>\n",
       "      <td>3.187143</td>\n",
       "    </tr>\n",
       "    <tr>\n",
       "      <th>C:\\Users\\charl\\Documents\\GitHub\\Python-for-Data-Science\\week 4\\SampleData\\Exercise 2\\RoadIntervals_Asus_ASUS_X008D_201702141420244.csv</th>\n",
       "      <td>8</td>\n",
       "      <td>4.237500</td>\n",
       "    </tr>\n",
       "    <tr>\n",
       "      <th>C:\\Users\\charl\\Documents\\GitHub\\Python-for-Data-Science\\week 4\\SampleData\\Exercise 2\\RoadIntervals_Asus_ASUS_X008D_201702141607028.csv</th>\n",
       "      <td>13</td>\n",
       "      <td>4.326154</td>\n",
       "    </tr>\n",
       "    <tr>\n",
       "      <th>C:\\Users\\charl\\Documents\\GitHub\\Python-for-Data-Science\\week 4\\SampleData\\Exercise 2\\RoadIntervals_Samsung_SM-A510F_201702141413014.csv</th>\n",
       "      <td>3</td>\n",
       "      <td>6.510000</td>\n",
       "    </tr>\n",
       "    <tr>\n",
       "      <th>C:\\Users\\charl\\Documents\\GitHub\\Python-for-Data-Science\\week 4\\SampleData\\Exercise 2\\Intervals_iPhone9,2_2017Feb14_1017AM.csv</th>\n",
       "      <td>27</td>\n",
       "      <td>7.415556</td>\n",
       "    </tr>\n",
       "    <tr>\n",
       "      <th>C:\\Users\\charl\\Documents\\GitHub\\Python-for-Data-Science\\week 4\\SampleData\\Exercise 2\\Intervals_iPhone_6s_Plus_20170214160927148.csv</th>\n",
       "      <td>145</td>\n",
       "      <td>7.434483</td>\n",
       "    </tr>\n",
       "    <tr>\n",
       "      <th>C:\\Users\\charl\\Documents\\GitHub\\Python-for-Data-Science\\week 4\\SampleData\\Exercise 2\\Intervals_iPhone_6s_Plus_20170214144830156.csv</th>\n",
       "      <td>5</td>\n",
       "      <td>8.342000</td>\n",
       "    </tr>\n",
       "    <tr>\n",
       "      <th>C:\\Users\\charl\\Documents\\GitHub\\Python-for-Data-Science\\week 4\\SampleData\\Exercise 2\\Intervals_iPhone_6s_2017Apr27_0810AM.csv</th>\n",
       "      <td>311</td>\n",
       "      <td>9.906141</td>\n",
       "    </tr>\n",
       "    <tr>\n",
       "      <th>C:\\Users\\charl\\Documents\\GitHub\\Python-for-Data-Science\\week 4\\SampleData\\Exercise 2\\Intervals_iPhone_6s_Plus_20170214144404106.csv</th>\n",
       "      <td>6</td>\n",
       "      <td>11.270000</td>\n",
       "    </tr>\n",
       "    <tr>\n",
       "      <th>C:\\Users\\charl\\Documents\\GitHub\\Python-for-Data-Science\\week 4\\SampleData\\Exercise 2\\Intervals_iPhone_6s_2017Apr27_1046AM.csv</th>\n",
       "      <td>17</td>\n",
       "      <td>12.745882</td>\n",
       "    </tr>\n",
       "  </tbody>\n",
       "</table>\n",
       "</div>"
      ],
      "text/plain": [
       "                                                    observations        iri\n",
       "file_p                                                                     \n",
       "C:\\Users\\charl\\Documents\\GitHub\\Python-for-Data...             7   3.187143\n",
       "C:\\Users\\charl\\Documents\\GitHub\\Python-for-Data...             8   4.237500\n",
       "C:\\Users\\charl\\Documents\\GitHub\\Python-for-Data...            13   4.326154\n",
       "C:\\Users\\charl\\Documents\\GitHub\\Python-for-Data...             3   6.510000\n",
       "C:\\Users\\charl\\Documents\\GitHub\\Python-for-Data...            27   7.415556\n",
       "C:\\Users\\charl\\Documents\\GitHub\\Python-for-Data...           145   7.434483\n",
       "C:\\Users\\charl\\Documents\\GitHub\\Python-for-Data...             5   8.342000\n",
       "C:\\Users\\charl\\Documents\\GitHub\\Python-for-Data...           311   9.906141\n",
       "C:\\Users\\charl\\Documents\\GitHub\\Python-for-Data...             6  11.270000\n",
       "C:\\Users\\charl\\Documents\\GitHub\\Python-for-Data...            17  12.745882"
      ]
     },
     "execution_count": 50,
     "metadata": {},
     "output_type": "execute_result"
    }
   ],
   "source": [
    "A = master_df[['file_p','observations','iri']]\n",
    "A = A.groupby('file_p')\n",
    "A = A.mean()\n",
    "A = A.sort_values(by = 'iri', ascending = True)\n",
    "A"
   ]
  },
  {
   "cell_type": "markdown",
   "metadata": {},
   "source": [
    "Q.) Let's say we want to drop any roads where the number of data points ('observations') is fewer than 10. Do this below! Now which road has the best surface quality?"
   ]
  },
  {
   "cell_type": "code",
   "execution_count": null,
   "metadata": {},
   "outputs": [],
   "source": []
  },
  {
   "cell_type": "markdown",
   "metadata": {},
   "source": [
    "### Extension / Stretch Material\n",
    "\n",
    "Q.) Let's say we want to break the phone type out of the file_p field. How would we do this?\n",
    "\n",
    "Well, each object is a string. We can prove this like so:"
   ]
  },
  {
   "cell_type": "code",
   "execution_count": 66,
   "metadata": {},
   "outputs": [
    {
     "name": "stdout",
     "output_type": "stream",
     "text": [
      "\n",
      "\n",
      "C:\\Users\\charl\\Documents\\GitHub\\Python-for-Data-Science\\week 4\\SampleData\\Exercise 2\\RoadIntervals_Asus_ASUS_X008D_201702141607028.csv\n",
      "<class 'str'>\n",
      "\n",
      "\n",
      "C:\\Users\\charl\\Documents\\GitHub\\Python-for-Data-Science\\week 4\\SampleData\\Exercise 2\\Intervals_iPhone9,2_2017Feb14_1017AM.csv\n",
      "<class 'str'>\n",
      "\n",
      "\n",
      "C:\\Users\\charl\\Documents\\GitHub\\Python-for-Data-Science\\week 4\\SampleData\\Exercise 2\\Intervals_iPhone_6s_Plus_20170214160927148.csv\n",
      "<class 'str'>\n",
      "\n",
      "\n",
      "C:\\Users\\charl\\Documents\\GitHub\\Python-for-Data-Science\\week 4\\SampleData\\Exercise 2\\Intervals_iPhone_6s_2017Apr27_0810AM.csv\n",
      "<class 'str'>\n",
      "\n",
      "\n",
      "C:\\Users\\charl\\Documents\\GitHub\\Python-for-Data-Science\\week 4\\SampleData\\Exercise 2\\Intervals_iPhone_6s_2017Apr27_1046AM.csv\n",
      "<class 'str'>\n"
     ]
    }
   ],
   "source": [
    "#A = A.reset_index()\n",
    "for index, row in A.iterrows():\n",
    "    print('\\n')\n",
    "    print(A['file_p'].loc[index])\n",
    "    print(type(A['file_p'].loc[index]))"
   ]
  },
  {
   "cell_type": "markdown",
   "metadata": {},
   "source": [
    "With this knowledge in mind, we can use some nifty methods to break it out:\n",
    "- you can search for a phrase in a string by using the 'in' command. It returns True if the search term is in the object to its right, and false otherwise\n",
    "- we can use this property in a function which returns different answers based on which condition is true\n",
    "- finally, we can use pandas' apply and lambda x functionality to apply the function to each line, one at a time - either to the whole DataFrame (A), or to one column alone (per the example below). This is quite advanced, but you will find yourself using it often. "
   ]
  },
  {
   "cell_type": "code",
   "execution_count": 73,
   "metadata": {
    "collapsed": true
   },
   "outputs": [],
   "source": [
    "# Here we define our neat function which searches the filepath for a couple of pre-identified terms\n",
    "def phoneDetector(x):\n",
    "    if 'iPhone' in x:\n",
    "        return 'iPhone'\n",
    "    elif 'Asus' in x:\n",
    "        return 'ASUS'\n",
    "    else:\n",
    "        return 'unknown phone brand!'"
   ]
  },
  {
   "cell_type": "code",
   "execution_count": 74,
   "metadata": {
    "collapsed": true
   },
   "outputs": [],
   "source": [
    "# we define a new column, 'phone_type', which is equal to the filepath column with the function applied to it, one row at a time\n",
    "A['phone_type'] = A['file_p'].apply(lambda x: phoneDetector(x))"
   ]
  },
  {
   "cell_type": "code",
   "execution_count": 75,
   "metadata": {},
   "outputs": [
    {
     "data": {
      "text/html": [
       "<div>\n",
       "<style>\n",
       "    .dataframe thead tr:only-child th {\n",
       "        text-align: right;\n",
       "    }\n",
       "\n",
       "    .dataframe thead th {\n",
       "        text-align: left;\n",
       "    }\n",
       "\n",
       "    .dataframe tbody tr th {\n",
       "        vertical-align: top;\n",
       "    }\n",
       "</style>\n",
       "<table border=\"1\" class=\"dataframe\">\n",
       "  <thead>\n",
       "    <tr style=\"text-align: right;\">\n",
       "      <th></th>\n",
       "      <th>level_0</th>\n",
       "      <th>index</th>\n",
       "      <th>file_p</th>\n",
       "      <th>observations</th>\n",
       "      <th>iri</th>\n",
       "      <th>phone_type</th>\n",
       "    </tr>\n",
       "  </thead>\n",
       "  <tbody>\n",
       "    <tr>\n",
       "      <th>0</th>\n",
       "      <td>0</td>\n",
       "      <td>0</td>\n",
       "      <td>C:\\Users\\charl\\Documents\\GitHub\\Python-for-Dat...</td>\n",
       "      <td>13</td>\n",
       "      <td>4.326154</td>\n",
       "      <td>ASUS</td>\n",
       "    </tr>\n",
       "    <tr>\n",
       "      <th>1</th>\n",
       "      <td>1</td>\n",
       "      <td>1</td>\n",
       "      <td>C:\\Users\\charl\\Documents\\GitHub\\Python-for-Dat...</td>\n",
       "      <td>27</td>\n",
       "      <td>7.415556</td>\n",
       "      <td>iPhone</td>\n",
       "    </tr>\n",
       "    <tr>\n",
       "      <th>2</th>\n",
       "      <td>2</td>\n",
       "      <td>2</td>\n",
       "      <td>C:\\Users\\charl\\Documents\\GitHub\\Python-for-Dat...</td>\n",
       "      <td>145</td>\n",
       "      <td>7.434483</td>\n",
       "      <td>iPhone</td>\n",
       "    </tr>\n",
       "    <tr>\n",
       "      <th>3</th>\n",
       "      <td>3</td>\n",
       "      <td>3</td>\n",
       "      <td>C:\\Users\\charl\\Documents\\GitHub\\Python-for-Dat...</td>\n",
       "      <td>311</td>\n",
       "      <td>9.906141</td>\n",
       "      <td>iPhone</td>\n",
       "    </tr>\n",
       "    <tr>\n",
       "      <th>4</th>\n",
       "      <td>4</td>\n",
       "      <td>4</td>\n",
       "      <td>C:\\Users\\charl\\Documents\\GitHub\\Python-for-Dat...</td>\n",
       "      <td>17</td>\n",
       "      <td>12.745882</td>\n",
       "      <td>iPhone</td>\n",
       "    </tr>\n",
       "  </tbody>\n",
       "</table>\n",
       "</div>"
      ],
      "text/plain": [
       "   level_0  index                                             file_p  \\\n",
       "0        0      0  C:\\Users\\charl\\Documents\\GitHub\\Python-for-Dat...   \n",
       "1        1      1  C:\\Users\\charl\\Documents\\GitHub\\Python-for-Dat...   \n",
       "2        2      2  C:\\Users\\charl\\Documents\\GitHub\\Python-for-Dat...   \n",
       "3        3      3  C:\\Users\\charl\\Documents\\GitHub\\Python-for-Dat...   \n",
       "4        4      4  C:\\Users\\charl\\Documents\\GitHub\\Python-for-Dat...   \n",
       "\n",
       "   observations        iri phone_type  \n",
       "0            13   4.326154       ASUS  \n",
       "1            27   7.415556     iPhone  \n",
       "2           145   7.434483     iPhone  \n",
       "3           311   9.906141     iPhone  \n",
       "4            17  12.745882     iPhone  "
      ]
     },
     "execution_count": 75,
     "metadata": {},
     "output_type": "execute_result"
    }
   ],
   "source": [
    "# now we can see our neat new column!\n",
    "A"
   ]
  },
  {
   "cell_type": "code",
   "execution_count": null,
   "metadata": {
    "collapsed": true
   },
   "outputs": [],
   "source": []
  }
 ],
 "metadata": {
  "kernelspec": {
   "display_name": "Python 3",
   "language": "python",
   "name": "python3"
  },
  "language_info": {
   "codemirror_mode": {
    "name": "ipython",
    "version": 3
   },
   "file_extension": ".py",
   "mimetype": "text/x-python",
   "name": "python",
   "nbconvert_exporter": "python",
   "pygments_lexer": "ipython3",
   "version": "3.6.1"
  }
 },
 "nbformat": 4,
 "nbformat_minor": 2
}
