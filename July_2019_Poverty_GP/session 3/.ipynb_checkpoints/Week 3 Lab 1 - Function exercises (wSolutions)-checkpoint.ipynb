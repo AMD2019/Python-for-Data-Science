{
 "cells": [
  {
   "cell_type": "code",
   "execution_count": 1,
   "metadata": {
    "collapsed": true
   },
   "outputs": [],
   "source": [
    "import os, sys\n",
    "import pandas as pd\n",
    "import numpy as np"
   ]
  },
  {
   "cell_type": "markdown",
   "metadata": {},
   "source": [
    "#### Exercise 1: What's a Function??\n",
    "We learned in class the anatomy of a function. It looks like this:"
   ]
  },
  {
   "cell_type": "code",
   "execution_count": 2,
   "metadata": {
    "collapsed": true
   },
   "outputs": [],
   "source": [
    "def aNewFunction():\n",
    "    print('I do some things to some inputs! :)')"
   ]
  },
  {
   "cell_type": "markdown",
   "metadata": {},
   "source": [
    "We call a function like this:"
   ]
  },
  {
   "cell_type": "code",
   "execution_count": 3,
   "metadata": {},
   "outputs": [
    {
     "name": "stdout",
     "output_type": "stream",
     "text": [
      "I do some things to some inputs! :)\n"
     ]
    }
   ],
   "source": [
    "aNewFunction()"
   ]
  },
  {
   "cell_type": "markdown",
   "metadata": {},
   "source": [
    "a.) Modify the above function by giving it a new name 'myFirstFunction'. Make it print out you name and favourite color:"
   ]
  },
  {
   "cell_type": "code",
   "execution_count": 3,
   "metadata": {
    "collapsed": true
   },
   "outputs": [],
   "source": [
    "def myFirstFunction():\n",
    "    print('My name is Charles and my favourite color is orange!')"
   ]
  },
  {
   "cell_type": "markdown",
   "metadata": {},
   "source": [
    "We remember from class (of course we do!!) that a function can take variables as inputs. Those functions look like this:"
   ]
  },
  {
   "cell_type": "code",
   "execution_count": 7,
   "metadata": {
    "collapsed": true
   },
   "outputs": [],
   "source": [
    "def aSecondFunction(myVar):\n",
    "    print('the value of the variable called myVar is: %s' % str(myVar))"
   ]
  },
  {
   "cell_type": "code",
   "execution_count": 10,
   "metadata": {},
   "outputs": [
    {
     "name": "stdout",
     "output_type": "stream",
     "text": [
      "the value of the variable called myVar is: Arya is the best Stark\n"
     ]
    }
   ],
   "source": [
    "aSecondFunction('Arya is the best Stark')"
   ]
  },
  {
   "cell_type": "markdown",
   "metadata": {},
   "source": [
    "b.) Change this function to include a second variable. Print both variables out, one at a time!"
   ]
  },
  {
   "cell_type": "code",
   "execution_count": 2,
   "metadata": {},
   "outputs": [],
   "source": [
    "def aSecondFunction(myVar, second_var):\n",
    "    print('the value of the variable called myVar is: %s' % str(myVar))\n",
    "    print('the value of the variable called second_var is: %s' % str(second_var))"
   ]
  },
  {
   "cell_type": "markdown",
   "metadata": {},
   "source": [
    "In class we also learned that optional variables MUST be defined in the function AFTER required variables. \n",
    "\n",
    "You can spot an optional variable because it has a default set in the function definition:"
   ]
  },
  {
   "cell_type": "code",
   "execution_count": 11,
   "metadata": {
    "collapsed": true
   },
   "outputs": [],
   "source": [
    "def aThirdFunction(required_variable, optional_variable = 'character'):\n",
    "    print('the required variable is:', required_variable)\n",
    "    print('the optional variable is:', optional_variable)"
   ]
  },
  {
   "cell_type": "markdown",
   "metadata": {},
   "source": [
    "We have to define required variables first in the function definition (the block starting with 'def'). Trying to define an optional variable first results in this:"
   ]
  },
  {
   "cell_type": "code",
   "execution_count": 17,
   "metadata": {},
   "outputs": [
    {
     "ename": "SyntaxError",
     "evalue": "non-default argument follows default argument (<ipython-input-17-b64e53ae9051>, line 1)",
     "output_type": "error",
     "traceback": [
      "\u001b[1;36m  File \u001b[1;32m\"<ipython-input-17-b64e53ae9051>\"\u001b[1;36m, line \u001b[1;32m1\u001b[0m\n\u001b[1;33m    def aThirdFunction(optional_variable = 'character', required_variable):\u001b[0m\n\u001b[1;37m                      ^\u001b[0m\n\u001b[1;31mSyntaxError\u001b[0m\u001b[1;31m:\u001b[0m non-default argument follows default argument\n"
     ]
    }
   ],
   "source": [
    "def aThirdFunction(optional_variable = 'character', required_variable):\n",
    "    print('the required variable is:', required_variable)\n",
    "    print('the optional variable is:', optional_variable)"
   ]
  },
  {
   "cell_type": "markdown",
   "metadata": {},
   "source": [
    "We run the function by writing its name, then opening brackets, and passing in at least required number of objects:"
   ]
  },
  {
   "cell_type": "code",
   "execution_count": 13,
   "metadata": {},
   "outputs": [
    {
     "name": "stdout",
     "output_type": "stream",
     "text": [
      "the required variable is: Arya is the best\n",
      "the optional variable is: Stark\n"
     ]
    }
   ],
   "source": [
    "aThirdFunction('Arya is the best', 'Stark')"
   ]
  },
  {
   "cell_type": "markdown",
   "metadata": {},
   "source": [
    "We can see the values are assigned to the variables in the order in which they are defined in the function - when we don't specify exactly which input variables they should take. \n",
    "\n",
    "We can get the opposite result by assigning the values explicity to the variables:"
   ]
  },
  {
   "cell_type": "code",
   "execution_count": 18,
   "metadata": {},
   "outputs": [
    {
     "name": "stdout",
     "output_type": "stream",
     "text": [
      "the required variable is: Stark\n",
      "the optional variable is: Arya is the best\n"
     ]
    }
   ],
   "source": [
    "aThirdFunction(optional_variable = 'Arya is the best', required_variable = 'Stark')"
   ]
  },
  {
   "cell_type": "markdown",
   "metadata": {},
   "source": [
    "Note - we can specify the values in any order - including optional ones first - as long as all required variables (no default) are assigned an input when we call the function.\n",
    "\n",
    "what happens if we don't bother defining a value for the optional variable?"
   ]
  },
  {
   "cell_type": "code",
   "execution_count": 19,
   "metadata": {},
   "outputs": [
    {
     "name": "stdout",
     "output_type": "stream",
     "text": [
      "the required variable is: hopefully no surprises here...\n",
      "the optional variable is: character\n"
     ]
    }
   ],
   "source": [
    "aThirdFunction(required_variable = 'hopefully no surprises here...')"
   ]
  },
  {
   "cell_type": "markdown",
   "metadata": {},
   "source": [
    "Above, we see the function substitutes in the default value ('character') for the optional variable, called 'optional_variable'."
   ]
  },
  {
   "cell_type": "markdown",
   "metadata": {},
   "source": [
    "c.) Write a function which multiplies three numbers together and prints out the answer. For each input variable, assign a default value of 3."
   ]
  },
  {
   "cell_type": "code",
   "execution_count": 5,
   "metadata": {
    "collapsed": true
   },
   "outputs": [],
   "source": [
    "def multiplier(a=3, b=3, c=3):\n",
    "    print(a*b*c)"
   ]
  },
  {
   "cell_type": "markdown",
   "metadata": {},
   "source": [
    "d.) call this function, with the input values: (4, 5, 6)"
   ]
  },
  {
   "cell_type": "code",
   "execution_count": 6,
   "metadata": {},
   "outputs": [
    {
     "name": "stdout",
     "output_type": "stream",
     "text": [
      "120\n"
     ]
    }
   ],
   "source": [
    "multiplier(4,5,6)"
   ]
  },
  {
   "cell_type": "markdown",
   "metadata": {},
   "source": [
    "e.) using a for-loop, call this function 5 times using the values (3, 4):"
   ]
  },
  {
   "cell_type": "code",
   "execution_count": 7,
   "metadata": {},
   "outputs": [
    {
     "name": "stdout",
     "output_type": "stream",
     "text": [
      "36\n",
      "36\n",
      "36\n",
      "36\n",
      "36\n"
     ]
    }
   ],
   "source": [
    "for i in range(0, 5):\n",
    "    multiplier(3,4)"
   ]
  },
  {
   "cell_type": "markdown",
   "metadata": {},
   "source": [
    "f.) using a for-loop, call this function 5 times using the values (3, i, 5). Complete the expression:"
   ]
  },
  {
   "cell_type": "code",
   "execution_count": 8,
   "metadata": {},
   "outputs": [
    {
     "name": "stdout",
     "output_type": "stream",
     "text": [
      "0\n",
      "15\n",
      "30\n",
      "45\n",
      "60\n"
     ]
    }
   ],
   "source": [
    "for i in range(0, 5):\n",
    "    multiplier(3,i,5)"
   ]
  },
  {
   "cell_type": "markdown",
   "metadata": {},
   "source": [
    "If you made it this far you are well on your way to mastering functions!!\n",
    "\n",
    "So far, we have only asked our functions to do some basic math and print the results. Once those are printed to the consol, they are gone. what if we wanted to keep them? \n",
    "\n",
    "The way we do this is to use 'return'. return allows you to assign the output of the function to a new variable! Consider the example below:"
   ]
  },
  {
   "cell_type": "code",
   "execution_count": 25,
   "metadata": {},
   "outputs": [
    {
     "name": "stdout",
     "output_type": "stream",
     "text": [
      "6\n"
     ]
    }
   ],
   "source": [
    "def NewBetterMultiplier(a=3,b=3,c=3):\n",
    "    answer = a*b*c\n",
    "    print(answer)\n",
    "    return answer\n",
    "\n",
    "\n",
    "the_output = NewBetterMultiplier(1,2,3)"
   ]
  },
  {
   "cell_type": "markdown",
   "metadata": {},
   "source": [
    "so, like last time, the function still prints out the multiplication. BUT if we now call the_output:"
   ]
  },
  {
   "cell_type": "code",
   "execution_count": 27,
   "metadata": {},
   "outputs": [
    {
     "data": {
      "text/plain": [
       "6"
      ]
     },
     "execution_count": 27,
     "metadata": {},
     "output_type": "execute_result"
    }
   ],
   "source": [
    "the_output"
   ]
  },
  {
   "cell_type": "markdown",
   "metadata": {},
   "source": [
    "...we see the value has been retained! Try executing the cell below multiple times:"
   ]
  },
  {
   "cell_type": "code",
   "execution_count": 32,
   "metadata": {},
   "outputs": [
    {
     "name": "stdout",
     "output_type": "stream",
     "text": [
      "1072139461476102327188594863736626789369714638009610458844102656\n"
     ]
    }
   ],
   "source": [
    "the_output = NewBetterMultiplier(the_output, the_output, the_output)"
   ]
  },
  {
   "cell_type": "markdown",
   "metadata": {},
   "source": [
    "This is a serious example of recursion - we are effectively cubing the variable, then re-assigning it as we go. \n",
    "\n",
    "One way we can collect multiple results is to append them to a list object, as per below:"
   ]
  },
  {
   "cell_type": "code",
   "execution_count": 33,
   "metadata": {},
   "outputs": [
    {
     "name": "stdout",
     "output_type": "stream",
     "text": [
      "0\n",
      "9\n",
      "18\n",
      "27\n",
      "36\n"
     ]
    }
   ],
   "source": [
    "list_of_answers = []\n",
    "for i in range(0,5):\n",
    "    result = NewBetterMultiplier(i)\n",
    "    list_of_answers.append(result)"
   ]
  },
  {
   "cell_type": "code",
   "execution_count": 34,
   "metadata": {},
   "outputs": [
    {
     "data": {
      "text/plain": [
       "[0, 9, 18, 27, 36]"
      ]
     },
     "execution_count": 34,
     "metadata": {},
     "output_type": "execute_result"
    }
   ],
   "source": [
    "list_of_answers"
   ]
  },
  {
   "cell_type": "markdown",
   "metadata": {},
   "source": [
    "This becomes seriously useful, e.g. for opening up a hundred excel documents, doing something to them, then getting a readout of the results."
   ]
  },
  {
   "cell_type": "markdown",
   "metadata": {},
   "source": [
    "**Bringing it all together**"
   ]
  },
  {
   "cell_type": "markdown",
   "metadata": {},
   "source": [
    "a.) Write a function that returns the output of the following expression: y = (x^2 + 12) / 3"
   ]
  },
  {
   "cell_type": "code",
   "execution_count": 48,
   "metadata": {
    "collapsed": true
   },
   "outputs": [],
   "source": [
    "def func(x):\n",
    "    return (x**2 + 12) / 3"
   ]
  },
  {
   "cell_type": "markdown",
   "metadata": {},
   "source": [
    "b.) call it with x = 40"
   ]
  },
  {
   "cell_type": "code",
   "execution_count": 49,
   "metadata": {},
   "outputs": [
    {
     "data": {
      "text/plain": [
       "537.3333333333334"
      ]
     },
     "execution_count": 49,
     "metadata": {},
     "output_type": "execute_result"
    }
   ],
   "source": [
    "func(40)"
   ]
  },
  {
   "cell_type": "markdown",
   "metadata": {},
   "source": [
    "c.) call it for every value of x between 0 and 10. print the answer as you go (this time, keep the print statement outside the function)"
   ]
  },
  {
   "cell_type": "code",
   "execution_count": 50,
   "metadata": {},
   "outputs": [
    {
     "name": "stdout",
     "output_type": "stream",
     "text": [
      "4.0\n",
      "4.333333333333333\n",
      "5.333333333333333\n",
      "7.0\n",
      "9.333333333333334\n",
      "12.333333333333334\n",
      "16.0\n",
      "20.333333333333332\n",
      "25.333333333333332\n",
      "31.0\n"
     ]
    }
   ],
   "source": [
    "for x in range(0, 10):\n",
    "    ans = func(x)\n",
    "    print(ans)"
   ]
  },
  {
   "cell_type": "markdown",
   "metadata": {},
   "source": [
    "d.) append the answers to a list"
   ]
  },
  {
   "cell_type": "code",
   "execution_count": 51,
   "metadata": {
    "collapsed": true
   },
   "outputs": [],
   "source": [
    "me_list = []\n",
    "for x in range(0, 10):\n",
    "    ans = func(x)\n",
    "    me_list.append(ans)"
   ]
  },
  {
   "cell_type": "code",
   "execution_count": 52,
   "metadata": {},
   "outputs": [
    {
     "data": {
      "text/plain": [
       "[4.0,\n",
       " 4.333333333333333,\n",
       " 5.333333333333333,\n",
       " 7.0,\n",
       " 9.333333333333334,\n",
       " 12.333333333333334,\n",
       " 16.0,\n",
       " 20.333333333333332,\n",
       " 25.333333333333332,\n",
       " 31.0]"
      ]
     },
     "execution_count": 52,
     "metadata": {},
     "output_type": "execute_result"
    }
   ],
   "source": [
    "me_list"
   ]
  },
  {
   "cell_type": "markdown",
   "metadata": {},
   "source": [
    "e.) iterate through the values in the list, using these as the new inputs to the function! Print out the answer"
   ]
  },
  {
   "cell_type": "code",
   "execution_count": 54,
   "metadata": {},
   "outputs": [
    {
     "name": "stdout",
     "output_type": "stream",
     "text": [
      "9.333333333333334\n",
      "10.259259259259258\n",
      "13.481481481481481\n",
      "20.333333333333332\n",
      "33.037037037037045\n",
      "54.7037037037037\n",
      "89.33333333333333\n",
      "141.8148148148148\n",
      "217.9259259259259\n",
      "324.3333333333333\n"
     ]
    }
   ],
   "source": [
    "for prev_ans in me_list:\n",
    "    ans = func(prev_ans)\n",
    "    print(ans)"
   ]
  }
 ],
 "metadata": {
  "kernelspec": {
   "display_name": "Python 3",
   "language": "python",
   "name": "python3"
  },
  "language_info": {
   "codemirror_mode": {
    "name": "ipython",
    "version": 3
   },
   "file_extension": ".py",
   "mimetype": "text/x-python",
   "name": "python",
   "nbconvert_exporter": "python",
   "pygments_lexer": "ipython3",
   "version": "3.6.1"
  }
 },
 "nbformat": 4,
 "nbformat_minor": 2
}
