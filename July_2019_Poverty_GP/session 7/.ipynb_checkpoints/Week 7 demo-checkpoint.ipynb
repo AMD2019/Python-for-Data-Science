{
 "cells": [
  {
   "cell_type": "code",
   "execution_count": null,
   "metadata": {},
   "outputs": [],
   "source": [
    "import pandas as pd\n",
    "import numpy as np\n",
    "import geopandas as gpd\n",
    "import requests\n",
    "from shapely.geometry import Point\n",
    "import pylab as plt\n",
    "%pylab inline\n",
    "import seaborn as sns\n",
    "import mplleaflet as mpll\n",
    "import osmnx as ox\n",
    "from IPython.display import Image"
   ]
  },
  {
   "cell_type": "markdown",
   "metadata": {},
   "source": [
    "# Week 7 - Further geospatial, APIs, and survey data"
   ]
  },
  {
   "cell_type": "markdown",
   "metadata": {},
   "source": [
    "### Part 1. Getting data from APIs"
   ]
  },
  {
   "cell_type": "markdown",
   "metadata": {},
   "source": [
    "#### What are APIs, why use them?"
   ]
  },
  {
   "cell_type": "markdown",
   "metadata": {},
   "source": [
    "Companies and organizations make certain data available through their Application Programming Interfaces (APIs). To use an API, you make a request to a remote web server via its HTTP address.\n",
    "\n",
    "You can retrieve data from APIs instead of downloading a static file to your hard drive and reading it in. This is helpful where:\n",
    "* you want the latest data in real time (eg. stock prices or weather)\n",
    "* you want a small, selected piece of data (eg. hospital locations in a bounding box)\n",
    "* the organization will run its own computations for you (eg. request satellite imagery with cloud cover removed, Planet API; analyze sentiment of a document, IBM Watson API)."
   ]
  },
  {
   "cell_type": "markdown",
   "metadata": {},
   "source": [
    "\n",
    "|Example API|Functionality|\n",
    "|---|---|\n",
    "|Overpass API|Get OpenStreetMap data|\n",
    "|Google Maps|Get point of interest locations, create distance features|\n",
    "|Yahoo Stock|Get stock prices|\n",
    "|Twitter, Youtube, Instagram|Get social media data|\n",
    "|World Bank Indicators API|Get data from WDI, Doing Business etc|\n",
    "|Socrata|City data portals|"
   ]
  },
  {
   "cell_type": "markdown",
   "metadata": {},
   "source": [
    "#### Four steps to using APIs\n",
    "\n",
    "1. Read the documentation\n",
    "\n",
    "  APIs are rules specifying what query you should send, and what format of data the server will return back. You query APIs using an HTTP request (ie. a web address). Read the docs to check (i) what the API can do; (ii) what the HTTP request should look like. \n",
    "  \n",
    "\n",
    "2. Find the API endpoint\n",
    "\n",
    "  Examples: http://api.twitter.com, http://api.github.com\n",
    "\n",
    "\n",
    "3. Try a sample query in your web brower or terminal: `curl https://api.github.com/users/nj935/repos`\n",
    "\n",
    "  Queries start with the API endpoint, then add commands using the API's specific format. Send a sample query to see what the output looks like. Normally it will be Javascript Object Notation (JSON).\n",
    "\n",
    "\n",
    "4. Extract the information you need from the JSON.\n",
    "\n",
    "  Remember JSON is a widely used data interchange format. It gives you nested dictionaries and lists (weeks 2-3).\n",
    "\n",
    "\n",
    "5. Write some code to send custom requests.\n",
    "\n",
    "  The `requests` library is a painless way to make HTML requests. Using the API's rules and some lines of code, you can quickly request the precise data you want. There are also API wrappers (small Python libraries that manage API requests for you, providing an easier syntax)."
   ]
  },
  {
   "cell_type": "markdown",
   "metadata": {},
   "source": [
    "### Worked example 1: How many humans in space?\n",
    "    \n",
    "A simple API, created by space travel enthusiasts, is [Open Notify](http://open-notify.org/).\n",
    "\n",
    "\n",
    "YOUR ACTION:\n",
    "* Check the website to figure out what's going on: http://open-notify.org/\n",
    "* Can you find the endpoint, as an `http://` address?\n",
    "* Run the code below, and complete the exercise."
   ]
  },
  {
   "cell_type": "code",
   "execution_count": null,
   "metadata": {},
   "outputs": [],
   "source": [
    "endpoint_url = 'http://api.open-notify.org/astros.json'"
   ]
  },
  {
   "cell_type": "code",
   "execution_count": null,
   "metadata": {},
   "outputs": [],
   "source": [
    "response = requests.get(endpoint_url)"
   ]
  },
  {
   "cell_type": "code",
   "execution_count": null,
   "metadata": {},
   "outputs": [],
   "source": [
    "response.status_code"
   ]
  },
  {
   "cell_type": "code",
   "execution_count": null,
   "metadata": {},
   "outputs": [],
   "source": [
    "data = response.json()\n",
    "data"
   ]
  },
  {
   "cell_type": "markdown",
   "metadata": {},
   "source": [
    "#### EXERCISE:\n",
    "* Print a statement like this: \"There are currently x people in space.\"\n",
    "* Then print their names, in alphabetical order. Bonus: as a Pandas DataFrame."
   ]
  },
  {
   "cell_type": "markdown",
   "metadata": {},
   "source": [
    "## Worked example 2: Mexico open data"
   ]
  },
  {
   "cell_type": "markdown",
   "metadata": {},
   "source": [
    "**Objective:** Get data from a national Open Data Portal, convert lat / lon coordinates into a geometry object, plot maps.\n",
    "\n",
    "YOUR ACTION:\n",
    "* Look at the Government of Mexico open data portal: https://datos.gob.mx/.\n",
    "* Inspect the Condiciones Atmosfericas link in your web browser or via `curl <url>`.\n",
    "* Run the code to request and visualize the data.\n",
    "* Spend 5 minutes reading the documentation links."
   ]
  },
  {
   "cell_type": "code",
   "execution_count": null,
   "metadata": {},
   "outputs": [],
   "source": [
    "endpoint_url = 'https://api.datos.gob.mx/v1/condiciones-atmosfericas'"
   ]
  },
  {
   "cell_type": "code",
   "execution_count": null,
   "metadata": {},
   "outputs": [],
   "source": [
    "response = requests.get(endpoint_url)"
   ]
  },
  {
   "cell_type": "code",
   "execution_count": null,
   "metadata": {},
   "outputs": [],
   "source": [
    "data = response.json()"
   ]
  },
  {
   "cell_type": "code",
   "execution_count": null,
   "metadata": {},
   "outputs": [],
   "source": [
    "data['results']"
   ]
  },
  {
   "cell_type": "code",
   "execution_count": null,
   "metadata": {},
   "outputs": [],
   "source": [
    "df = pd.DataFrame(data['results'])"
   ]
  },
  {
   "cell_type": "code",
   "execution_count": null,
   "metadata": {},
   "outputs": [],
   "source": [
    "df.shape"
   ]
  },
  {
   "cell_type": "code",
   "execution_count": null,
   "metadata": {},
   "outputs": [],
   "source": [
    "df.dtypes"
   ]
  },
  {
   "cell_type": "code",
   "execution_count": null,
   "metadata": {},
   "outputs": [],
   "source": [
    "df.longitude = df.longitude.astype(float)\n",
    "df.latitude = df.latitude.astype(float)\n",
    "df.tempc = df.tempc.astype(float)"
   ]
  },
  {
   "cell_type": "code",
   "execution_count": null,
   "metadata": {},
   "outputs": [],
   "source": [
    "df.head(2)"
   ]
  },
  {
   "cell_type": "code",
   "execution_count": null,
   "metadata": {},
   "outputs": [],
   "source": [
    "df.tempc.describe()"
   ]
  },
  {
   "cell_type": "code",
   "execution_count": null,
   "metadata": {},
   "outputs": [],
   "source": [
    "gdf = gpd.GeoDataFrame(df)"
   ]
  },
  {
   "cell_type": "code",
   "execution_count": null,
   "metadata": {},
   "outputs": [],
   "source": [
    "# Useful snippet to re-use:\n",
    "\n",
    "gdf['geometry'] = list(zip(df.longitude, df.latitude))\n",
    "gdf['geometry'] = [Point(geom) for geom in gdf.geometry]"
   ]
  },
  {
   "cell_type": "code",
   "execution_count": null,
   "metadata": {},
   "outputs": [],
   "source": [
    "df.tempc.value_counts().sort_index(ascending = True).plot(kind = 'barh')\n",
    "plt.title('Latest temperatures in Mexico');"
   ]
  },
  {
   "cell_type": "code",
   "execution_count": null,
   "metadata": {
    "scrolled": true
   },
   "outputs": [],
   "source": [
    "ax = gdf.plot(column = 'tempc', colormap = 'viridis')\n",
    "mpll.display(fig = ax.figure)\n",
    "\n"
   ]
  },
  {
   "cell_type": "code",
   "execution_count": null,
   "metadata": {},
   "outputs": [],
   "source": [
    "f, ax1 = plt.subplots(figsize = [8,0.5])\n",
    "norm = mpl.colors.Normalize(df.tempc.min(), df.tempc.max())\n",
    "cb1 = mpl.colorbar.ColorbarBase(ax1, norm = norm, orientation='horizontal')\n",
    "cb1.set_label('Temperatures')"
   ]
  },
  {
   "cell_type": "markdown",
   "metadata": {},
   "source": [
    "Documentation:\n",
    "* the requests library ([click here](https://realpython.com/python-requests/))\n",
    "* Pandas: [value_counts](https://pandas.pydata.org/pandas-docs/stable/reference/api/pandas.Series.value_counts.html), [df.plot()](https://pandas.pydata.org/pandas-docs/stable/reference/api/pandas.DataFrame.plot.html)\n",
    "* [customizing colorbars](https://jakevdp.github.io/PythonDataScienceHandbook/04.07-customizing-colorbars.html)\n",
    "* [convert lat / lon columns to Geometry](https://medium.com/@shakasom/how-to-convert-latitude-longtitude-columns-in-csv-to-geometry-column-using-python-4219d2106dea)"
   ]
  },
  {
   "cell_type": "markdown",
   "metadata": {},
   "source": [
    "## Worked example 3: OSM locations\n",
    "**Objective:** Create an Area of Interest, download OpenStreetMap points of interest, intersect them with administrative boundaries"
   ]
  },
  {
   "cell_type": "markdown",
   "metadata": {},
   "source": [
    "**Step 1: create an Area of Interest using www.geojson.io**"
   ]
  },
  {
   "cell_type": "code",
   "execution_count": null,
   "metadata": {},
   "outputs": [],
   "source": [
    "my_geojson = {\n",
    "  \"type\": \"FeatureCollection\",\n",
    "  \"features\": [\n",
    "    {\n",
    "      \"type\": \"Feature\",\n",
    "      \"properties\": {},\n",
    "      \"geometry\": {\n",
    "        \"type\": \"Polygon\",\n",
    "        \"coordinates\": [\n",
    "          [\n",
    "            [\n",
    "              -99.16671752929688,\n",
    "              19.690435317911682\n",
    "            ],\n",
    "            [\n",
    "              -99.43038940429686,\n",
    "              19.508020154916768\n",
    "            ],\n",
    "            [\n",
    "              -99.40155029296875,\n",
    "              19.27744323287618\n",
    "            ],\n",
    "            [\n",
    "              -99.25735473632812,\n",
    "              19.182786626300352\n",
    "            ],\n",
    "            [\n",
    "              -98.94012451171875,\n",
    "              19.156843799897302\n",
    "            ],\n",
    "            [\n",
    "              -98.81515502929688,\n",
    "              19.540378338405763\n",
    "            ],\n",
    "            [\n",
    "              -98.9208984375,\n",
    "              19.730512997022263\n",
    "            ],\n",
    "            [\n",
    "              -99.16671752929688,\n",
    "              19.690435317911682\n",
    "            ]\n",
    "          ]\n",
    "        ]\n",
    "      }\n",
    "    }\n",
    "  ]\n",
    "}"
   ]
  },
  {
   "cell_type": "markdown",
   "metadata": {},
   "source": [
    "YOUR ACTION:\n",
    "\n",
    "* Go to www.GeoJSON.io and draw a Polygon around an area that interests you. \n",
    "* Copy the text onto your clipboard. We'll use it in 5 mins."
   ]
  },
  {
   "cell_type": "code",
   "execution_count": null,
   "metadata": {
    "scrolled": true
   },
   "outputs": [],
   "source": [
    "gdf = gpd.GeoDataFrame.from_features(my_geojson)"
   ]
  },
  {
   "cell_type": "code",
   "execution_count": null,
   "metadata": {},
   "outputs": [],
   "source": [
    "ax = gdf.plot()\n",
    "mpll.display(fig = ax.figure)"
   ]
  },
  {
   "cell_type": "code",
   "execution_count": null,
   "metadata": {},
   "outputs": [],
   "source": [
    "my_geom = gdf.geometry[0]"
   ]
  },
  {
   "cell_type": "code",
   "execution_count": null,
   "metadata": {},
   "outputs": [],
   "source": [
    "my_geom"
   ]
  },
  {
   "cell_type": "code",
   "execution_count": null,
   "metadata": {},
   "outputs": [],
   "source": [
    "# Call the Overpass API using OSMNx\n",
    "\n",
    "pois = ox.pois_from_polygon(my_geom, ['hospital'])\n",
    "pois = pois[['name','geometry']]"
   ]
  },
  {
   "cell_type": "code",
   "execution_count": null,
   "metadata": {
    "scrolled": true
   },
   "outputs": [],
   "source": [
    "print(\"Found {} hospitals in AOI.\".format(len(pois)))\n",
    "pois.head()"
   ]
  },
  {
   "cell_type": "markdown",
   "metadata": {},
   "source": [
    "#### Additional step - merge locations with admin districts\n",
    "Geopandas lets you merge two sets of features based on their spatial relationship with each other (eg. Shape A contains Shape B, Shape A intersects Shape B)."
   ]
  },
  {
   "cell_type": "code",
   "execution_count": null,
   "metadata": {},
   "outputs": [],
   "source": [
    "CDMX_districts = gpd.read_file('data/CDMX_shp/df_municipio.shp')\n",
    "CDMX_districts = CDMX_districts[['NOMGEO','geometry']]"
   ]
  },
  {
   "cell_type": "code",
   "execution_count": null,
   "metadata": {},
   "outputs": [],
   "source": [
    "print('Shape of geodataframe: ',CDMX_districts.shape)\n",
    "CDMX_districts.head(2)"
   ]
  },
  {
   "cell_type": "code",
   "execution_count": null,
   "metadata": {},
   "outputs": [],
   "source": [
    "ax = CDMX_districts.plot(figsize = [6,6])\n",
    "pois.plot(color = 'r', alpha = 0.5, ax = ax)\n",
    "plt.title('Hospitals and district boundaries');"
   ]
  },
  {
   "cell_type": "markdown",
   "metadata": {},
   "source": [
    "**--> we have some hospitals outside the boundaries.**\n",
    "* Use a spatial join to merge the two dataframes by location.\n",
    "* Append a new column to the POIs dataframe, with name of district that contains it."
   ]
  },
  {
   "cell_type": "code",
   "execution_count": null,
   "metadata": {
    "scrolled": false
   },
   "outputs": [],
   "source": [
    "pois = gpd.sjoin(pois, CDMX_districts)\n",
    "print(\"After spatial join, we have {} hospitals.\".format(len(pois)))\n",
    "pois.head()"
   ]
  },
  {
   "cell_type": "code",
   "execution_count": null,
   "metadata": {
    "scrolled": true
   },
   "outputs": [],
   "source": [
    "pois.NOMGEO.value_counts().sort_values(ascending = True).plot(kind = 'barh')\n",
    "plt.title(\"Mexico City: hospitals per district (according to OSM)\");"
   ]
  },
  {
   "cell_type": "markdown",
   "metadata": {},
   "source": [
    "EXERCISE:\n",
    "    \n",
    "* Define my_geojson with the polygon you drew online\n",
    "* Using the code above, create a new dataframe 'schools' and a new dataframe 'hospitals', each containing the schools / hospitals in your AOI\n",
    "* Create a plot with their locations (one in red, one in blue)"
   ]
  },
  {
   "cell_type": "markdown",
   "metadata": {},
   "source": [
    "Documentation:\n",
    "* [Spatial joins](http://wiki.gis.com/wiki/index.php/Spatial_Join) concept explained.\n",
    "* Geopandas [sjoin](http://geopandas.org/mergingdata.html) function."
   ]
  },
  {
   "cell_type": "markdown",
   "metadata": {},
   "source": [
    "# Part 2: Working with sample weights\n",
    "\n",
    "The data below is from the Nigeria General Household Survey - Wave 3 (2015-2016). It's [available](http://microdata.worldbank.org/index.php/catalog/2936/datafile/F11) on the WB Microdata Library.\n",
    "\n",
    "With household survey data, sample weights are important to generalize from the sample to the population.\n",
    "\n",
    "**Objective: Calculate and visualize average food consumption across Nigeria's regions**"
   ]
  },
  {
   "cell_type": "code",
   "execution_count": null,
   "metadata": {},
   "outputs": [],
   "source": [
    "from IPython.display import Image\n",
    "Image('data/nigeria_table.png', width = 250)"
   ]
  },
  {
   "cell_type": "code",
   "execution_count": null,
   "metadata": {},
   "outputs": [],
   "source": [
    "df2 = pd.read_csv('data/food2_pc.csv')\n",
    "\n",
    "df2.rename(columns = {'hhweight':'household_weight','hhsize':'household_size','food_tot_pc':'food_consumption_pc',\n",
    "           'food_purch_pc':'food_purchased_pc','indweight':'individual_weight'}, inplace=True)\n",
    "\n",
    "df2.sector.replace({'1. URBAN': 'urban', '2. RURAL':'rural'}, inplace=True)\n",
    "df2.zone.replace({'4. SOUTH EAST':'south_east', '2. NORTH EAST':'north_east', '5. SOUTH SOUTH':'south_south',\n",
    "       '1. NORTH CENTRAL':'north_central', '6. SOUTH WEST':'south_west', '3. NORTH WEST':'north_west'}, inplace = True)"
   ]
  },
  {
   "cell_type": "code",
   "execution_count": null,
   "metadata": {
    "scrolled": true
   },
   "outputs": [],
   "source": [
    "df2.head(2)"
   ]
  },
  {
   "cell_type": "markdown",
   "metadata": {},
   "source": [
    "#### 1. Inspect data and remove outliers"
   ]
  },
  {
   "cell_type": "code",
   "execution_count": null,
   "metadata": {},
   "outputs": [],
   "source": [
    "df2.food_consumption_pc.hist()"
   ]
  },
  {
   "cell_type": "code",
   "execution_count": null,
   "metadata": {},
   "outputs": [],
   "source": [
    "df2[['food_purchased_pc', 'food_consumption_pc']].boxplot(figsize = [4,4])"
   ]
  },
  {
   "cell_type": "code",
   "execution_count": null,
   "metadata": {},
   "outputs": [],
   "source": [
    "print(df2.food_purchased_pc.max())\n",
    "print(df2.food_purchased_pc.mean())"
   ]
  },
  {
   "cell_type": "code",
   "execution_count": null,
   "metadata": {
    "scrolled": true
   },
   "outputs": [],
   "source": [
    "# Remove observations more than 3 standard deviations above the mean\n",
    "\n",
    "df2['food_purchased_pc'][df2['food_purchased_pc'] > (df2.food_purchased_pc.mean()\n",
    "                                                     + df2.food_purchased_pc.std() * 3)] = np.nan\n",
    "df2['food_consumption_pc'][df2['food_consumption_pc'] > (df2.food_consumption_pc.mean() \n",
    "                                                         + df2.food_consumption_pc.std() * 3)] = np.nan\n",
    "df2.dropna(inplace = True)"
   ]
  },
  {
   "cell_type": "code",
   "execution_count": null,
   "metadata": {},
   "outputs": [],
   "source": [
    "df2[['food_purchased_pc', 'food_consumption_pc']].boxplot(figsize = [4,4])"
   ]
  },
  {
   "cell_type": "markdown",
   "metadata": {},
   "source": [
    "#### 2. Calculate mean food consumption by region, and by rural / urban.\n",
    "\n",
    "The Pandas groupby function makes this easy. It does three things:\n",
    "* Split the data into groups.\n",
    "* Applie a function to each group independently (eg. sum, mean, counts).\n",
    "* Combine the results into a data structure."
   ]
  },
  {
   "cell_type": "code",
   "execution_count": null,
   "metadata": {},
   "outputs": [],
   "source": [
    "df2.groupby(['zone'])['food_consumption_pc'].mean()"
   ]
  },
  {
   "cell_type": "code",
   "execution_count": null,
   "metadata": {},
   "outputs": [],
   "source": [
    "Image(filename='data/stop.png') "
   ]
  },
  {
   "cell_type": "markdown",
   "metadata": {},
   "source": [
    "We plotted mean food consumption among 5000 surveyed households; doesn't represent population as a whole!"
   ]
  },
  {
   "cell_type": "markdown",
   "metadata": {},
   "source": [
    "#### 3. Calculate mean food consumption for population\n",
    "\n",
    "Weighted mean:\n",
    "\n",
    "$$\\overline x = \\frac{\\sum wx}{\\sum w}$$\n",
    "\n",
    "ie. sum of values times weights / sum of weights"
   ]
  },
  {
   "cell_type": "code",
   "execution_count": null,
   "metadata": {},
   "outputs": [],
   "source": [
    "sum(df2.food_purchased_pc * df2.individual_weight) / df2.household_weight.sum()"
   ]
  },
  {
   "cell_type": "code",
   "execution_count": null,
   "metadata": {},
   "outputs": [],
   "source": [
    "def weighted_mean(values, weights):\n",
    "    return sum(values * weights) / weights.sum()"
   ]
  },
  {
   "cell_type": "code",
   "execution_count": null,
   "metadata": {},
   "outputs": [],
   "source": [
    "weighted_mean(values = df2.food_purchased_pc[df2.zone == 'south_east'],\n",
    "             weights = df2.household_weight[df2.zone == 'south_east'])"
   ]
  },
  {
   "cell_type": "code",
   "execution_count": null,
   "metadata": {},
   "outputs": [],
   "source": [
    "weighted_means_table = pd.Series({zone: weighted_mean(df2.food_consumption_pc[df2.zone == zone],\n",
    "                                  df2.household_weight[df2.zone == zone]) for zone in df2.zone.unique()},\n",
    "                                name = 'mean_food_consumption_pc')"
   ]
  },
  {
   "cell_type": "code",
   "execution_count": null,
   "metadata": {},
   "outputs": [],
   "source": [
    "weighted_means_table.sort_values(ascending = True).plot(kind='barh')\n",
    "plt.title('Median food consumption by region');"
   ]
  },
  {
   "cell_type": "markdown",
   "metadata": {},
   "source": [
    "#### 4. Visualize on a map of Nigeria\n",
    "* A good data source is GADM, which has admin boundaries for all countries at levels 0 through 3 (national boundaries through to ward level). https://gadm.org/\n",
    "\n",
    "\n",
    "* GADM1 gives us Nigeria's 36 states and capital territory. Our dataset uses the six [Geopolitical Zones](https://en.wikipedia.org/wiki/Geopolitical_zones_of_Nigeria) of Nigeria instead (these each comprise about 5-8 states). Create the required polygons by aggregating the state boundaries using Geopandas [dissolve](http://geopandas.org/aggregation_with_dissolve.html) function."
   ]
  },
  {
   "cell_type": "code",
   "execution_count": null,
   "metadata": {},
   "outputs": [],
   "source": [
    "nigeria_GADM = gpd.read_file('data/nigeria/gadm36_NGA_1.shp')"
   ]
  },
  {
   "cell_type": "code",
   "execution_count": null,
   "metadata": {},
   "outputs": [],
   "source": [
    "nigeria_GADM.plot()"
   ]
  },
  {
   "cell_type": "code",
   "execution_count": null,
   "metadata": {},
   "outputs": [],
   "source": [
    "north_central = ['Benue','Kogi','Kwara', 'Nassarawa', 'Niger','Plateau', 'Federal Capital Territory']\n",
    "north_east = ['Adamawa', 'Bauchi', 'Borno', 'Gombe', 'Taraba', 'Yobe']\n",
    "north_west = ['Jigawa', 'Kaduna', 'Kano', 'Katsina', 'Kebbi', 'Sokoto', 'Zamfara']\n",
    "south_east = ['Abia', 'Anambra', 'Ebonyi', 'Enugu', 'Imo']\n",
    "south_south = ['Akwa Ibom', 'Bayelsa', 'Cross River', 'Rivers', 'Delta', 'Edo']\n",
    "south_west = ['Ekiti', 'Lagos', 'Ogun', 'Ondo', 'Osun', 'Oyo']\n",
    "\n",
    "def remap_states(state):\n",
    "    if state in north_east:\n",
    "        return('north_east')\n",
    "    elif state in north_central:\n",
    "        return('north_central')\n",
    "    elif state in north_west:\n",
    "        return('north_west')\n",
    "    elif state in south_east:\n",
    "        return('south_east')\n",
    "    elif state in south_south:\n",
    "        return('south_south')\n",
    "    elif state in south_west:\n",
    "        return('south_west')\n",
    "    else:\n",
    "        return('error!')"
   ]
  },
  {
   "cell_type": "markdown",
   "metadata": {},
   "source": [
    "A quick way to transform the rows or columns of a DataFrame is df.apply(). This runs a function of your choice across all the rows (axis = 0, the default) or all the columns (axis = 1)."
   ]
  },
  {
   "cell_type": "code",
   "execution_count": null,
   "metadata": {},
   "outputs": [],
   "source": [
    "nigeria_GADM.head(2)"
   ]
  },
  {
   "cell_type": "code",
   "execution_count": null,
   "metadata": {},
   "outputs": [],
   "source": [
    "nigeria_GADM['region'] = nigeria_GADM.NAME_1.apply(remap_states)"
   ]
  },
  {
   "cell_type": "code",
   "execution_count": null,
   "metadata": {},
   "outputs": [],
   "source": [
    "# Create a new geodataframe comprising six merged polygons\n",
    "\n",
    "regions = nigeria_GADM.dissolve(by = 'region')"
   ]
  },
  {
   "cell_type": "code",
   "execution_count": null,
   "metadata": {},
   "outputs": [],
   "source": [
    "regions.head(2)"
   ]
  },
  {
   "cell_type": "code",
   "execution_count": null,
   "metadata": {},
   "outputs": [],
   "source": [
    "regions.plot()"
   ]
  },
  {
   "cell_type": "code",
   "execution_count": null,
   "metadata": {},
   "outputs": [],
   "source": [
    "# Check the two frames have the same length before merging\n",
    "\n",
    "regions.shape"
   ]
  },
  {
   "cell_type": "code",
   "execution_count": null,
   "metadata": {},
   "outputs": [],
   "source": [
    "weighted_means_table.shape"
   ]
  },
  {
   "cell_type": "code",
   "execution_count": null,
   "metadata": {},
   "outputs": [],
   "source": [
    "regions_merged = pd.merge(regions, weighted_means_table, left_index=True, right_index=True)"
   ]
  },
  {
   "cell_type": "code",
   "execution_count": null,
   "metadata": {},
   "outputs": [],
   "source": [
    "regions_merged = gpd.GeoDataFrame(regions_merged)"
   ]
  },
  {
   "cell_type": "code",
   "execution_count": null,
   "metadata": {},
   "outputs": [],
   "source": [
    "regions_merged.plot(column = 'mean_food_consumption_pc', legend = True, figsize = [12,8])\n",
    "plt.title('Mean food consumption per capita - regions of Nigeria');"
   ]
  },
  {
   "cell_type": "markdown",
   "metadata": {},
   "source": [
    "Documentation:\n",
    "* pandas [groupby](https://pandas.pydata.org/pandas-docs/stable/user_guide/groupby.html) function\n",
    "* pandas [apply](https://pandas.pydata.org/pandas-docs/stable/reference/api/pandas.DataFrame.apply.html) function. \n",
    "* [choropleth](http://geopandas.org/mapping.html) maps in Geopandas\n",
    "* [selecting and slicing data](https://pandas.pydata.org/pandas-docs/stable/user_guide/indexing.html#boolean-indexing) in Pandas"
   ]
  }
 ],
 "metadata": {
  "kernelspec": {
   "display_name": "APIs_geospatial",
   "language": "python",
   "name": "apis_geospatial"
  },
  "language_info": {
   "codemirror_mode": {
    "name": "ipython",
    "version": 3
   },
   "file_extension": ".py",
   "mimetype": "text/x-python",
   "name": "python",
   "nbconvert_exporter": "python",
   "pygments_lexer": "ipython3",
   "version": "3.7.3"
  }
 },
 "nbformat": 4,
 "nbformat_minor": 2
}
