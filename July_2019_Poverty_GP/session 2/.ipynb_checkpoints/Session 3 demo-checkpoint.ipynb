{
 "cells": [
  {
   "cell_type": "markdown",
   "metadata": {},
   "source": [
    "# Session 3: Dictionaries and tuples, functions, Numpy and Pandas"
   ]
  },
  {
   "cell_type": "markdown",
   "metadata": {},
   "source": [
    "This session concludes our tour of Python language essentials with two more compound data structures - tuples and dictionaries - and with writing reusable code blocks (functions). We also introduce the key libraries for handling tabular data: Numpy (short for numerical Python) and Pandas."
   ]
  },
  {
   "cell_type": "markdown",
   "metadata": {},
   "source": [
    "### 1. Tuples\n",
    "Recall there are four main compound data structures: lists, tuples, sets and dictionaries. Lists are the go-to structure most of the time. They are ordered, mutable collections of elements.\n",
    "\n",
    "Tuples (pronounced two-ples or tup-les, your choice) are immutable ordered collections. They're commonly used to pass data around within programs."
   ]
  },
  {
   "cell_type": "code",
   "execution_count": 61,
   "metadata": {},
   "outputs": [],
   "source": [
    "# define a tuple like this:\n",
    "\n",
    "I_am_tuple = (4,5)\n",
    "I_am_also_a_tuple = ('apex','legend')"
   ]
  },
  {
   "cell_type": "code",
   "execution_count": 4,
   "metadata": {},
   "outputs": [],
   "source": [
    "# tuples can have more than 2 elements:\n",
    "mega_tuple = (4,5,6,7,8)"
   ]
  },
  {
   "cell_type": "code",
   "execution_count": 5,
   "metadata": {},
   "outputs": [
    {
     "data": {
      "text/plain": [
       "4"
      ]
     },
     "execution_count": 5,
     "metadata": {},
     "output_type": "execute_result"
    }
   ],
   "source": [
    "# you can reference within them:\n",
    "mega_tuple[0]"
   ]
  },
  {
   "cell_type": "code",
   "execution_count": 6,
   "metadata": {},
   "outputs": [
    {
     "ename": "TypeError",
     "evalue": "'tuple' object does not support item assignment",
     "output_type": "error",
     "traceback": [
      "\u001b[0;31m---------------------------------------------------------------------------\u001b[0m",
      "\u001b[0;31mTypeError\u001b[0m                                 Traceback (most recent call last)",
      "\u001b[0;32m<ipython-input-6-8f62b999d7af>\u001b[0m in \u001b[0;36m<module>\u001b[0;34m\u001b[0m\n\u001b[1;32m      1\u001b[0m \u001b[0;31m# but you can't change their elements\u001b[0m\u001b[0;34m\u001b[0m\u001b[0;34m\u001b[0m\u001b[0;34m\u001b[0m\u001b[0m\n\u001b[0;32m----> 2\u001b[0;31m \u001b[0mmega_tuple\u001b[0m\u001b[0;34m[\u001b[0m\u001b[0;36m0\u001b[0m\u001b[0;34m]\u001b[0m \u001b[0;34m=\u001b[0m \u001b[0;36m7\u001b[0m\u001b[0;34m\u001b[0m\u001b[0;34m\u001b[0m\u001b[0m\n\u001b[0m",
      "\u001b[0;31mTypeError\u001b[0m: 'tuple' object does not support item assignment"
     ]
    }
   ],
   "source": [
    "# but you can't change their elements\n",
    "mega_tuple[0] = 7"
   ]
  },
  {
   "cell_type": "code",
   "execution_count": 7,
   "metadata": {},
   "outputs": [],
   "source": [
    "# The numerical ordering of tuples can be a useful property, if data is stored in a regular way. \n",
    "# Let's make a small phone book example"
   ]
  },
  {
   "cell_type": "code",
   "execution_count": 8,
   "metadata": {},
   "outputs": [],
   "source": [
    "Frodo = ('Frodo','+202 569 8745','frodo@baggins_shire.com')\n",
    "Sam = ('Sam', '+202 456 5646', 'sam@samwise_gamgee.com')"
   ]
  },
  {
   "cell_type": "code",
   "execution_count": 9,
   "metadata": {},
   "outputs": [
    {
     "name": "stdout",
     "output_type": "stream",
     "text": [
      "Frodo\n",
      "Sam\n"
     ]
    }
   ],
   "source": [
    "# Let's print just the people's names:\n",
    "for person in [Frodo, Sam]:\n",
    "    print(person[0])"
   ]
  },
  {
   "cell_type": "code",
   "execution_count": 10,
   "metadata": {},
   "outputs": [
    {
     "name": "stdout",
     "output_type": "stream",
     "text": [
      "frodo@baggins_shire.com\n",
      "sam@samwise_gamgee.com\n"
     ]
    }
   ],
   "source": [
    "# Let's print just the people's emails:\n",
    "for person in [Frodo, Sam]:\n",
    "    print(person[2])"
   ]
  },
  {
   "cell_type": "code",
   "execution_count": 11,
   "metadata": {},
   "outputs": [
    {
     "name": "stdout",
     "output_type": "stream",
     "text": [
      "My name is Frodo, and you can call me on +202 569 8745 or email me at frodo@baggins_shire.com\n",
      "My name is Sam, and you can call me on +202 456 5646 or email me at sam@samwise_gamgee.com\n"
     ]
    }
   ],
   "source": [
    "# Let's print out s formatted string:\n",
    "for person in [Frodo, Sam]:\n",
    "    print('My name is {}, and you can call me on {} or email me at {}'.format(person[0], person[1], person[2]))"
   ]
  },
  {
   "cell_type": "markdown",
   "metadata": {},
   "source": [
    "### 2. Dictionaries\n",
    "A dictionary is another fundamental data structure. The value of a dictionary is the ('key':'value') organisation, much like a standard dictionary!"
   ]
  },
  {
   "cell_type": "code",
   "execution_count": 13,
   "metadata": {},
   "outputs": [],
   "source": [
    "fellowship = {'hobbit_1':'Frodo',\n",
    "             'hobbit_2':'Sam',\n",
    "             'hobbit_3':'Pippin',\n",
    "             'hobbit_4':'Merry'}"
   ]
  },
  {
   "cell_type": "code",
   "execution_count": 15,
   "metadata": {},
   "outputs": [
    {
     "data": {
      "text/plain": [
       "'Frodo'"
      ]
     },
     "execution_count": 15,
     "metadata": {},
     "output_type": "execute_result"
    }
   ],
   "source": [
    "# call the values from the keys\n",
    "fellowship['hobbit_1']"
   ]
  },
  {
   "cell_type": "code",
   "execution_count": 16,
   "metadata": {},
   "outputs": [
    {
     "data": {
      "text/plain": [
       "dict_keys(['hobbit_1', 'hobbit_2', 'hobbit_3', 'hobbit_4'])"
      ]
     },
     "execution_count": 16,
     "metadata": {},
     "output_type": "execute_result"
    }
   ],
   "source": [
    "# we can also generate lists of both the keys:\n",
    "fellowship.keys()"
   ]
  },
  {
   "cell_type": "code",
   "execution_count": 17,
   "metadata": {},
   "outputs": [
    {
     "data": {
      "text/plain": [
       "dict_values(['Frodo', 'Sam', 'Pippin', 'Merry'])"
      ]
     },
     "execution_count": 17,
     "metadata": {},
     "output_type": "execute_result"
    }
   ],
   "source": [
    "# ...and the values:\n",
    "fellowship.values()"
   ]
  },
  {
   "cell_type": "code",
   "execution_count": 23,
   "metadata": {},
   "outputs": [],
   "source": [
    "# question: how would you get a list of the values?\n"
   ]
  },
  {
   "cell_type": "code",
   "execution_count": 18,
   "metadata": {},
   "outputs": [],
   "source": [
    "# we could use dictionaries of dictionaries:\n",
    "\n",
    "Frodo = {'name':'Frodo','cell':'+202 569 8745','email':'frodo@baggins_shire.com'}\n",
    "Sam = {'name':'Sam','cell':'+202 456 5646','email':'sam@samwise_gamgee.com'}\n",
    "\n",
    "fellowship_contact_info = {'Frodo':Frodo,\n",
    "                          'Sam':Sam}"
   ]
  },
  {
   "cell_type": "code",
   "execution_count": 19,
   "metadata": {},
   "outputs": [
    {
     "data": {
      "text/plain": [
       "{'name': 'Sam', 'cell': '+202 456 5646', 'email': 'sam@samwise_gamgee.com'}"
      ]
     },
     "execution_count": 19,
     "metadata": {},
     "output_type": "execute_result"
    }
   ],
   "source": [
    "fellowship_contact_info['Sam']"
   ]
  },
  {
   "cell_type": "code",
   "execution_count": 20,
   "metadata": {},
   "outputs": [
    {
     "data": {
      "text/plain": [
       "'+202 456 5646'"
      ]
     },
     "execution_count": 20,
     "metadata": {},
     "output_type": "execute_result"
    }
   ],
   "source": [
    "fellowship_contact_info['Sam']['cell']"
   ]
  },
  {
   "cell_type": "code",
   "execution_count": 21,
   "metadata": {},
   "outputs": [
    {
     "data": {
      "text/plain": [
       "'sam@samwise_gamgee.com'"
      ]
     },
     "execution_count": 21,
     "metadata": {},
     "output_type": "execute_result"
    }
   ],
   "source": [
    "fellowship_contact_info['Sam']['email']"
   ]
  },
  {
   "cell_type": "markdown",
   "metadata": {},
   "source": [
    "This is actually the structure of a JSON file - which is organized as a dictionary of nested dictionaries!"
   ]
  },
  {
   "cell_type": "markdown",
   "metadata": {},
   "source": [
    "### 3. Combine item pairs with zip()\n",
    "\n",
    "Say you had a column of latitudes, and a column of longitudes. You want a column of coordinate pairs. The zip() function lets you 'zip' two iterables together, giving you tuples."
   ]
  },
  {
   "cell_type": "code",
   "execution_count": 29,
   "metadata": {},
   "outputs": [],
   "source": [
    "first_list = [1,2,3]\n",
    "second_list = ['one', 'two', 'three']\n"
   ]
  },
  {
   "cell_type": "code",
   "execution_count": 30,
   "metadata": {},
   "outputs": [
    {
     "data": {
      "text/plain": [
       "<zip at 0x1091b1d88>"
      ]
     },
     "execution_count": 30,
     "metadata": {},
     "output_type": "execute_result"
    }
   ],
   "source": [
    "# it gives you a zip item (good for saving memory)\n",
    "zip(first_list, second_list)"
   ]
  },
  {
   "cell_type": "code",
   "execution_count": 31,
   "metadata": {},
   "outputs": [
    {
     "data": {
      "text/plain": [
       "[(1, 'one'), (2, 'two'), (3, 'three')]"
      ]
     },
     "execution_count": 31,
     "metadata": {},
     "output_type": "execute_result"
    }
   ],
   "source": [
    "# turn that item into a list\n",
    "list(zip(first_list, second_list))"
   ]
  },
  {
   "cell_type": "markdown",
   "metadata": {},
   "source": [
    "### 4. Defining functions\n",
    "So you have written some code for a difficult task (eg. solve Fermat's Last Theorem). You may want to do the same task again. You could (a) memorize the code and re-write it each time; (b) copy and paste it; or (c) write a function. A function is a reusable code block. You can pass data into functions (as parameters). Functions can return data to the main program."
   ]
  },
  {
   "cell_type": "code",
   "execution_count": 32,
   "metadata": {},
   "outputs": [],
   "source": [
    "# define a function\n",
    "\n",
    "def my_function():\n",
    "    print(\"Hi I'm a function\")"
   ]
  },
  {
   "cell_type": "code",
   "execution_count": 34,
   "metadata": {},
   "outputs": [
    {
     "name": "stdout",
     "output_type": "stream",
     "text": [
      "Hi I'm a function\n"
     ]
    }
   ],
   "source": [
    "# once defined, call it once or many times\n",
    "\n",
    "my_function()"
   ]
  },
  {
   "cell_type": "code",
   "execution_count": 35,
   "metadata": {},
   "outputs": [
    {
     "name": "stdout",
     "output_type": "stream",
     "text": [
      "Hi people, this is Python session 3\n"
     ]
    }
   ],
   "source": [
    "# pass data into functions\n",
    "\n",
    "greeting = \"Hi people, this is Python session 3\"\n",
    "print(greeting)"
   ]
  },
  {
   "cell_type": "markdown",
   "metadata": {},
   "source": [
    "The `def` statement introduces a function definition. It expects a function name, parentheses, any parameters the function will take, and a colon. The function code block must be indented. The parentheses are always required, when defining or calling a function, even if no parameters are used."
   ]
  },
  {
   "cell_type": "code",
   "execution_count": 42,
   "metadata": {},
   "outputs": [],
   "source": [
    "# this function expects one parameter\n",
    "\n",
    "def sound_more_excited(my_string):\n",
    "    new_string = my_string + '!!'\n",
    "    print(new_string)"
   ]
  },
  {
   "cell_type": "markdown",
   "metadata": {},
   "source": [
    "Note: functions have an internal name-space (or symbol table). The data passed into `sound_more_excited` will be referred to, within the function, as `my_string`."
   ]
  },
  {
   "cell_type": "code",
   "execution_count": 43,
   "metadata": {},
   "outputs": [
    {
     "name": "stdout",
     "output_type": "stream",
     "text": [
      "Hi people, this is Python session 3!!\n"
     ]
    }
   ],
   "source": [
    "sound_more_excited(greeting)"
   ]
  },
  {
   "cell_type": "code",
   "execution_count": 44,
   "metadata": {},
   "outputs": [],
   "source": [
    "# this function will return data to the main program\n",
    "\n",
    "def sound_really_excited(my_string):\n",
    "    new_string = my_string.upper() + '!!!'\n",
    "    return(new_string)"
   ]
  },
  {
   "cell_type": "code",
   "execution_count": 45,
   "metadata": {},
   "outputs": [
    {
     "data": {
      "text/plain": [
       "'HI PEOPLE, THIS IS PYTHON SESSION 3!!!'"
      ]
     },
     "execution_count": 45,
     "metadata": {},
     "output_type": "execute_result"
    }
   ],
   "source": [
    "sound_really_excited(greeting)"
   ]
  },
  {
   "cell_type": "markdown",
   "metadata": {},
   "source": [
    "### 5. Functions with multiple arguments\n",
    "Functions can end up taking many arguments. You can make them easy to work with by:\n",
    "* Defining default arguments.\n",
    "* Providing keyword arguments."
   ]
  },
  {
   "cell_type": "code",
   "execution_count": null,
   "metadata": {},
   "outputs": [],
   "source": [
    "# default arguments allow you to call functions with less typing\n",
    "\n",
    "def ask_permission(prompt, retries = 3, msg = 'Try again >> '):\n",
    "    while retries > 0:\n",
    "        user_input = input(prompt)\n",
    "        if user_input in ['yes','YES','y']:\n",
    "            return(True)\n",
    "        elif user_input in ['no','NO','n']:\n",
    "            return(False)\n",
    "        else:\n",
    "            retries = retries - 1\n",
    "        print(msg)\n"
   ]
  },
  {
   "cell_type": "markdown",
   "metadata": {},
   "source": [
    "One parameter (`prompt`) is mandatory. Default values will be assumed for the other parameters, unless they are passed."
   ]
  },
  {
   "cell_type": "code",
   "execution_count": 51,
   "metadata": {},
   "outputs": [
    {
     "name": "stdout",
     "output_type": "stream",
     "text": [
      "delete all files? >> y\n"
     ]
    },
    {
     "data": {
      "text/plain": [
       "True"
      ]
     },
     "execution_count": 51,
     "metadata": {},
     "output_type": "execute_result"
    }
   ],
   "source": [
    "# function call with only the mandatory argument\n",
    "ask_permission(\"delete all files? >> \")"
   ]
  },
  {
   "cell_type": "code",
   "execution_count": null,
   "metadata": {},
   "outputs": [],
   "source": [
    "# function call with one optional parameter\n",
    "ask_permission(\"delete *all* the files? >> \", 10)"
   ]
  },
  {
   "cell_type": "code",
   "execution_count": 55,
   "metadata": {},
   "outputs": [
    {
     "name": "stdout",
     "output_type": "stream",
     "text": [
      "delete *all* the files? >> y\n"
     ]
    },
    {
     "data": {
      "text/plain": [
       "True"
      ]
     },
     "execution_count": 55,
     "metadata": {},
     "output_type": "execute_result"
    }
   ],
   "source": [
    "# with all optional parameters\n",
    "ask_permission(\"delete *all* the files? >> \", 10, msg = 'expected yes or no >> ')"
   ]
  },
  {
   "cell_type": "markdown",
   "metadata": {},
   "source": [
    "Arguments with a default value as also called `keyword arguments`, those without are `positional arguments`. Positional arguments always need to come before keyword arguments."
   ]
  },
  {
   "cell_type": "code",
   "execution_count": 60,
   "metadata": {},
   "outputs": [
    {
     "ename": "SyntaxError",
     "evalue": "positional argument follows keyword argument (<ipython-input-60-30ad99abfddb>, line 3)",
     "output_type": "error",
     "traceback": [
      "\u001b[0;36m  File \u001b[0;32m\"<ipython-input-60-30ad99abfddb>\"\u001b[0;36m, line \u001b[0;32m3\u001b[0m\n\u001b[0;31m    ask_permission(retries = 6, 'Delete all files')\u001b[0m\n\u001b[0m                               ^\u001b[0m\n\u001b[0;31mSyntaxError\u001b[0m\u001b[0;31m:\u001b[0m positional argument follows keyword argument\n"
     ]
    }
   ],
   "source": [
    "# Try not to break your function calls like this:\n",
    "\n",
    "ask_permission(retries = 6, 'Delete all files')"
   ]
  },
  {
   "cell_type": "code",
   "execution_count": null,
   "metadata": {},
   "outputs": [],
   "source": [
    "6. Introducing Numpy"
   ]
  }
 ],
 "metadata": {
  "kernelspec": {
   "display_name": "Python 3",
   "language": "python",
   "name": "python3"
  },
  "language_info": {
   "codemirror_mode": {
    "name": "ipython",
    "version": 3
   },
   "file_extension": ".py",
   "mimetype": "text/x-python",
   "name": "python",
   "nbconvert_exporter": "python",
   "pygments_lexer": "ipython3",
   "version": "3.7.3"
  }
 },
 "nbformat": 4,
 "nbformat_minor": 2
}
