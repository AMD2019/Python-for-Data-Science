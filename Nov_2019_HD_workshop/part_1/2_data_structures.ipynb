{
 "cells": [
  {
   "cell_type": "markdown",
   "metadata": {},
   "source": [
    "### 5. Indexing and slicing\n",
    "Several data types are defined as 'sequences.' They share a common approach to selecting their elements using square bracket notation. This powerful notation works across strings, lists, arrays and DataFrames:"
   ]
  },
  {
   "cell_type": "code",
   "execution_count": null,
   "metadata": {},
   "outputs": [],
   "source": [
    "# to get one character from a string, put the index number in square brackets directly after the variable name\n",
    "language = 'Python'\n",
    "language[0] "
   ]
  },
  {
   "cell_type": "code",
   "execution_count": null,
   "metadata": {},
   "outputs": [],
   "source": [
    "# index values can be negative.\n",
    "language[-1]"
   ]
  },
  {
   "cell_type": "markdown",
   "metadata": {},
   "source": [
    "Index values point between characters. The left edge of the first character is 0. Python has six characters, so the right edge of the last character is index 6."
   ]
  },
  {
   "cell_type": "code",
   "execution_count": null,
   "metadata": {},
   "outputs": [],
   "source": [
    "#       +---+---+---+---+---+---+\n",
    "#       | P | y | t | h | o | n |\n",
    "#       +---+---+---+---+---+---+\n",
    "#       0   1   2   3   4   5   6\n",
    "#      -6  -5  -4  -3  -2  -1\n",
    "\n",
    "# credit: www.python.org/3/tutorial"
   ]
  },
  {
   "cell_type": "markdown",
   "metadata": {},
   "source": [
    "You can 'slice' strings and other sequences, using the start and end index"
   ]
  },
  {
   "cell_type": "code",
   "execution_count": null,
   "metadata": {},
   "outputs": [],
   "source": [
    "# slices give you all elements from the start index, up to (but not including) the end index\n",
    "\n",
    "language[0:4]"
   ]
  },
  {
   "cell_type": "markdown",
   "metadata": {},
   "source": [
    "What happens if you leave out the start or end index while slicing? Python will use default values instead. Take a sequence of length `n`. For start position, it will default to 0. For end position, it will default to `n`."
   ]
  },
  {
   "cell_type": "code",
   "execution_count": null,
   "metadata": {},
   "outputs": [],
   "source": [
    "# everything up to fourth index\n",
    "language[:4]"
   ]
  },
  {
   "cell_type": "code",
   "execution_count": null,
   "metadata": {},
   "outputs": [],
   "source": [
    "# fourth position onwards\n",
    "language[4:]"
   ]
  },
  {
   "cell_type": "code",
   "execution_count": null,
   "metadata": {},
   "outputs": [],
   "source": [
    "# fourth from last, up to end of string\n",
    "language[-4:]"
   ]
  },
  {
   "cell_type": "markdown",
   "metadata": {},
   "source": [
    "Sneak preview: You can use the same index notation with higher dimensional datastructures, eg. a 3D array (eg. a stack of rasters: latitude, longitude, time, temperature)."
   ]
  },
  {
   "cell_type": "markdown",
   "metadata": {},
   "source": [
    "### 6. An aside: extracting data from messy strings"
   ]
  },
  {
   "cell_type": "code",
   "execution_count": null,
   "metadata": {},
   "outputs": [],
   "source": [
    "# say you get a large column of ZIP codes, but in a messy format like this\n",
    "zip_code1 = \"Fred: ZIP 20022-0049\"\n",
    "zip_code2 = \"Margaret: ZIP 20009-0132\""
   ]
  },
  {
   "cell_type": "code",
   "execution_count": null,
   "metadata": {},
   "outputs": [],
   "source": [
    "# we're interested in this part:\n",
    "zip_code1[10:15]"
   ]
  },
  {
   "cell_type": "code",
   "execution_count": null,
   "metadata": {
    "scrolled": true
   },
   "outputs": [],
   "source": [
    "# how could we systematicaly pull out the key 5 digits, to create a clean list of zips?"
   ]
  },
  {
   "cell_type": "markdown",
   "metadata": {},
   "source": [
    "To crack a problem like this, you could:\n",
    "* Use tab completion to list available string methods\n",
    "* Ask StackOverflow\n",
    "* Check the [documentation](https://docs.python.org/2/library/stdtypes.html#string-methods)"
   ]
  },
  {
   "cell_type": "code",
   "execution_count": null,
   "metadata": {},
   "outputs": [],
   "source": [
    "# Get help on the .split() method\n",
    "\n",
    "zip_code1.split?"
   ]
  },
  {
   "cell_type": "code",
   "execution_count": null,
   "metadata": {},
   "outputs": [],
   "source": [
    "# a quick solution: split each string twice (using a different separator):\n",
    "\n",
    "answer = zip_code1.split()[2].split('-')[0]"
   ]
  },
  {
   "cell_type": "code",
   "execution_count": null,
   "metadata": {},
   "outputs": [],
   "source": [
    "# then make it an integer:\n",
    "\n",
    "int(answer)"
   ]
  },
  {
   "cell_type": "markdown",
   "metadata": {},
   "source": [
    "Operating on data at scale requires more firepower: eg. list comprehensions and functions."
   ]
  },
  {
   "cell_type": "markdown",
   "metadata": {},
   "source": [
    "### 7: Test conditions with Boolean logic\n",
    "To build up operations on larger datasets, more control flow tricks are helpful: including Boolean logic.\n",
    "\n",
    "The statement `a == b` asks Python to evaluate whether variable a equals variable b; the interpreter will return True or False.\n",
    "\n",
    "Similar statements would be `a > b`, `a >= b`, or `a != b`. "
   ]
  },
  {
   "cell_type": "code",
   "execution_count": null,
   "metadata": {},
   "outputs": [],
   "source": [
    "a = 6\n",
    "b = 4\n",
    "\n",
    "print(\"Dear Python, please evaluate the statement 'a > b' for me.\")\n",
    "\n",
    "print(\"YOUR ANSWER: [drum roll ...]\", a > b)"
   ]
  },
  {
   "cell_type": "markdown",
   "metadata": {},
   "source": [
    "The `and`, `or` and `not` operators check whether combinations of statements are true at the same time."
   ]
  },
  {
   "cell_type": "code",
   "execution_count": null,
   "metadata": {},
   "outputs": [],
   "source": [
    "month = 'July'\n",
    "hour = 14"
   ]
  },
  {
   "cell_type": "code",
   "execution_count": null,
   "metadata": {},
   "outputs": [],
   "source": [
    "(month == 'July') and (hour < 12)         # is it a morning in July?"
   ]
  },
  {
   "cell_type": "code",
   "execution_count": null,
   "metadata": {},
   "outputs": [],
   "source": [
    "(month == 'July') or (hour < 12)          # is it either a morning, or in July?"
   ]
  },
  {
   "cell_type": "code",
   "execution_count": null,
   "metadata": {},
   "outputs": [],
   "source": [
    "not(hour < 12) and (month == 'July')     # is it not a morning, and in July?"
   ]
  },
  {
   "cell_type": "markdown",
   "metadata": {},
   "source": [
    "### 8. Classes and methods (applied to lists)"
   ]
  },
  {
   "cell_type": "markdown",
   "metadata": {},
   "source": [
    "__Sneak preview of classes:__ Python (as an object oriented language) lets you define __classes__ of objects. A class of objects has in-built functions that can be summoned up quickly (these are called __methods__).\n",
    "    \n",
    "Example:\n",
    "* I define a class `road_network`.\n",
    "* Each time I type `my_network = road_network(parameter1, parameter 2...)`, I create a new instance of the class.\n",
    "* Helpful functionality might be (i) calculate total length of roads; (ii) calculate shortest path between two points.\n",
    "* I write a method `find_shortest_path(start_point, end_point`. This could be accessed from any instance of class `road_network` in future.\n",
    "* Like this: `my_network.find_shortest_path(my_start_point, my_end_point)`"
   ]
  },
  {
   "cell_type": "markdown",
   "metadata": {},
   "source": [
    "__List methods.__ Lists (and other data types) are implemented as classes. So check out the helpful methods that are at your disposal."
   ]
  },
  {
   "cell_type": "code",
   "execution_count": null,
   "metadata": {},
   "outputs": [],
   "source": [
    "cubes = [1, 8, 27]\n",
    "cubes"
   ]
  },
  {
   "cell_type": "code",
   "execution_count": null,
   "metadata": {},
   "outputs": [],
   "source": [
    "cubes.insert(0,0)    # insert element at given index"
   ]
  },
  {
   "cell_type": "code",
   "execution_count": null,
   "metadata": {},
   "outputs": [],
   "source": [
    "cubes.append(65)     # add element to end of list"
   ]
  },
  {
   "cell_type": "code",
   "execution_count": null,
   "metadata": {},
   "outputs": [],
   "source": [
    "cubes.remove(65)    # remove element if it exists"
   ]
  },
  {
   "cell_type": "code",
   "execution_count": null,
   "metadata": {},
   "outputs": [],
   "source": [
    "cubes.extend([64,125,216])   # add all the elements of an iterable "
   ]
  },
  {
   "cell_type": "code",
   "execution_count": null,
   "metadata": {},
   "outputs": [],
   "source": [
    "cubes"
   ]
  },
  {
   "cell_type": "code",
   "execution_count": null,
   "metadata": {},
   "outputs": [],
   "source": [
    "cubes.pop()         # return the last element (and remove it)"
   ]
  },
  {
   "cell_type": "code",
   "execution_count": null,
   "metadata": {},
   "outputs": [],
   "source": [
    "cubes.count(64)    # count how many times an element appears"
   ]
  },
  {
   "cell_type": "code",
   "execution_count": null,
   "metadata": {},
   "outputs": [],
   "source": [
    "print(cubes)\n",
    "cubes.clear()       # delete all elements\n",
    "print(cubes)"
   ]
  },
  {
   "cell_type": "markdown",
   "metadata": {},
   "source": [
    "Remember tab complete or question mark to list available methods of a object. Other object types that we'll use extensively: NumPy arrays, Pandas Series, Pandas DataFrames. Each has its own (pretty amazing) set of methods."
   ]
  }
 ],
 "metadata": {
  "kernelspec": {
   "display_name": "drijal_37",
   "language": "python",
   "name": "drijal_37"
  },
  "language_info": {
   "codemirror_mode": {
    "name": "ipython",
    "version": 3
   },
   "file_extension": ".py",
   "mimetype": "text/x-python",
   "name": "python",
   "nbconvert_exporter": "python",
   "pygments_lexer": "ipython3",
   "version": "3.7.3"
  }
 },
 "nbformat": 4,
 "nbformat_minor": 2
}
