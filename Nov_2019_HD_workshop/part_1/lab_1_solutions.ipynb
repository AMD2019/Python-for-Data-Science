{
  "nbformat": 4,
  "nbformat_minor": 0,
  "metadata": {
    "colab": {
      "name": "Copy of lab_1.ipynb",
      "version": "0.3.2",
      "provenance": []
    },
    "language_info": {
      "codemirror_mode": {
        "name": "ipython",
        "version": 3
      },
      "file_extension": ".py",
      "mimetype": "text/x-python",
      "name": "python",
      "nbconvert_exporter": "python",
      "pygments_lexer": "ipython3",
      "version": "3.7.3"
    },
    "kernelspec": {
      "display_name": "Python 3",
      "language": "python",
      "name": "python3"
    }
  },
  "cells": [
    {
      "cell_type": "markdown",
      "metadata": {
        "id": "WRqUm3jSDl0S",
        "colab_type": "text"
      },
      "source": [
        "# Python for Data Science - Lab 1\n",
        "Work through the following exercises. Get through as many as you can in the time allotted.\n",
        "The box lists additional Python functionality that may help you.\n",
        "\n",
        "| Task | Python function |\n",
        "|----|----|\n",
        "| Import the code library 'random' | import random |\n",
        "| Generate random numbers | random.randint() |\n",
        "| Prompt the user for some text | my_variable = input() |\n"
      ]
    },
    {
      "cell_type": "markdown",
      "metadata": {
        "id": "K3hVzw9ADl0U",
        "colab_type": "text"
      },
      "source": [
        "#### EXERCISE 1: Too many donuts?\n",
        "*Objective: handle strings and integers, test conditions*\n",
        "\n",
        "Write a program that will:\n",
        "1. Define a variable 'donuts_eaten'.\n",
        "2. Print a string of the form 'Donuts consumed: `<count>`'. However if 10 or more donuts were eaten, then use the word 'many' instead of the actual count."
      ]
    },
    {
      "cell_type": "code",
      "metadata": {
        "id": "AKUiCYqXDl0W",
        "colab_type": "code",
        "outputId": "eae50562-f91e-44c1-b106-412718504b3c",
        "colab": {
          "base_uri": "https://localhost:8080/",
          "height": 35
        }
      },
      "source": [
        "# YOUR CODE HERE:\n",
        "\n",
        "\n",
        "donuts_eaten = 12\n",
        "\n",
        "response = donuts_eaten\n",
        "\n",
        "if donuts_eaten >= 10:\n",
        "    response = 'many'\n",
        "\n",
        "print('Donuts consumed: ', response)"
      ],
      "execution_count": 0,
      "outputs": [
        {
          "output_type": "stream",
          "text": [
            "Donuts consumed:  many\n"
          ],
          "name": "stdout"
        }
      ]
    },
    {
      "cell_type": "markdown",
      "metadata": {
        "id": "Btv8O6B6Dl0a",
        "colab_type": "text"
      },
      "source": [
        "#### EXERCISE 2a: Age calculator\n",
        "*Objective: Define variables, do basic math, convert data types*\n",
        "    \n",
        "Write a program that will:\n",
        "1. Define a variable 'birth_year'\n",
        "2. Define a variable 'current_year'\n",
        "3. Calculate the person's age from these two\n",
        "4. Print the output in format (\"You are x years old.\")"
      ]
    },
    {
      "cell_type": "code",
      "metadata": {
        "id": "EW-hWUYNDl0b",
        "colab_type": "code",
        "outputId": "2dd5d68b-dabb-4f29-c991-ac29c63a1372",
        "colab": {
          "base_uri": "https://localhost:8080/",
          "height": 35
        }
      },
      "source": [
        "# YOUR CODE HERE:\n",
        "\n",
        "birth_year = 1956\n",
        "current_year = 2019\n",
        "\n",
        "age = current_year - birth_year\n",
        "\n",
        "print(\"You are {} years old.\".format(age))"
      ],
      "execution_count": 0,
      "outputs": [
        {
          "output_type": "stream",
          "text": [
            "You are 63 years old.\n"
          ],
          "name": "stdout"
        }
      ]
    },
    {
      "cell_type": "markdown",
      "metadata": {
        "id": "n6lXjyW1Dl0e",
        "colab_type": "text"
      },
      "source": [
        "#### EXERCISE 2b: Premier League salaries\n",
        "*Objective: Define variables, do math, use conditional logic.*\n",
        "\n",
        "1. Define two variables, player_name (a string), and annual_salary (an integer).\n",
        "2. Assume there are 38 game days. Print a neat string saying your player's name and how much they earn (a) per month; and (b) per game day. \n",
        "3. Now define a Boolean variable championship_winners.\n",
        "4. Test whether championship_winners is True, and if so, print your output again but with a 33% bonus.\n",
        "\n",
        "**BONUS POINTS**: limit the salary to two decimal points when printing it."
      ]
    },
    {
      "cell_type": "code",
      "metadata": {
        "id": "XJEh15ubDl0f",
        "colab_type": "code",
        "outputId": "cf55405c-b9a6-41d6-973b-4e44f34202e1",
        "colab": {
          "base_uri": "https://localhost:8080/",
          "height": 35
        }
      },
      "source": [
        "# YOUR CODE HERE:\n",
        "\n",
        "player_name = 'Ronaldo'\n",
        "annual_salary = 33500000\n",
        "days_in_season = 125\n",
        "\n",
        "print('{} earns ${} per month and ${} per day of the season.'.format(player_name,\n",
        "    annual_salary / 12, annual_salary / days_in_season))\n",
        "\n"
      ],
      "execution_count": 0,
      "outputs": [
        {
          "output_type": "stream",
          "text": [
            "Ronaldo earns $2791666.6666666665 per month and $268000.0 per day of the season.\n"
          ],
          "name": "stdout"
        }
      ]
    },
    {
      "cell_type": "code",
      "metadata": {
        "id": "tfRHmVIjE_Jp",
        "colab_type": "code",
        "outputId": "67c495a8-740d-4288-c98b-f71ed5b62358",
        "colab": {
          "base_uri": "https://localhost:8080/",
          "height": 35
        }
      },
      "source": [
        "player_name = 'Ronaldo'\n",
        "annual_salary = 33500000\n",
        "days_in_season = 125\n",
        "\n",
        "championship_winners = True\n",
        "\n",
        "if championship_winners:\n",
        "    annual_salary *= 1.33\n",
        "\n",
        "print('{} now earns ${:.2f} per month and ${:.2f} per day of the season.'.format(player_name,\n",
        "    annual_salary / 12, annual_salary / days_in_season))   "
      ],
      "execution_count": 0,
      "outputs": [
        {
          "output_type": "stream",
          "text": [
            "Ronaldo now earns $3712916.67 per month and $356440.00 per day of the season.\n"
          ],
          "name": "stdout"
        }
      ]
    },
    {
      "cell_type": "markdown",
      "metadata": {
        "id": "Y3J9S2d6Dl0i",
        "colab_type": "text"
      },
      "source": [
        "#### EXERCISE 3: Dog's dinner\n",
        "*Objective: Practice string manipulation*\n",
        "\n",
        "1. Define two strings, a and b.\n",
        "2. Your program should return a single string with a and b separated by a space, except swap the first 2 chars of each string.\n",
        "* eg. 'dog', 'dinner' -> 'dig donner'\n"
      ]
    },
    {
      "cell_type": "code",
      "metadata": {
        "id": "4i-MY9AuDl0j",
        "colab_type": "code",
        "outputId": "0db33597-915d-48ac-c376-80f2ca6563b4",
        "colab": {
          "base_uri": "https://localhost:8080/",
          "height": 35
        }
      },
      "source": [
        "# YOUR CODE HERE:\n",
        "a = 'dog'\n",
        "b = 'dinner'\n",
        "\n",
        "new_first_word = b[:2] + a[2:]\n",
        "new_second_word = a[:2] + b[2:]\n",
        "\n",
        "print(new_first_word + ' ' + new_second_word)"
      ],
      "execution_count": 0,
      "outputs": [
        {
          "output_type": "stream",
          "text": [
            "dig donner\n"
          ],
          "name": "stdout"
        }
      ]
    },
    {
      "cell_type": "markdown",
      "metadata": {
        "id": "UtAvBR2JDl0m",
        "colab_type": "text"
      },
      "source": [
        "#### EXERCISE 4: Higher or lower?\n",
        "*Objective: Test conditions, use a counter.*\n",
        "\n",
        "Write a program to:\n",
        "1. Generate a random number (kept secret from the user).\n",
        "2. Prompt the user \"Guess a number\" and record their input.\n",
        "3. Tell them if they were correct, too high, or too low.\n",
        "\n",
        "BONUS POINTS: limit the number of guesses to 5."
      ]
    },
    {
      "cell_type": "code",
      "metadata": {
        "id": "yFbOITWTDl0m",
        "colab_type": "code",
        "outputId": "90cc3b41-c59f-4e37-9e1e-b84d14186290",
        "colab": {
          "base_uri": "https://localhost:8080/",
          "height": 52
        }
      },
      "source": [
        "# YOUR CODE HERE:\n",
        "\n",
        "\n",
        "import random\n",
        "random_number = random.randint(0,10)\n",
        "\n",
        "user_guess = int(input('Guess a number: '))\n",
        "if user_guess > random_number:\n",
        "    print(\"Too high\")\n",
        "elif user_guess < random_number:\n",
        "    print(\"Too low\")\n",
        "else:\n",
        "    print(\"Correct\")\n",
        "    \n",
        "    "
      ],
      "execution_count": 0,
      "outputs": [
        {
          "output_type": "stream",
          "text": [
            "Guess a number: 9\n",
            "Too low\n"
          ],
          "name": "stdout"
        }
      ]
    },
    {
      "cell_type": "code",
      "metadata": {
        "id": "3C4S0kh_FISm",
        "colab_type": "code",
        "outputId": "b7b09c3d-0413-4a1d-868d-104872574cee",
        "colab": {
          "base_uri": "https://localhost:8080/",
          "height": 159
        }
      },
      "source": [
        "## limit guesses to 5 using a while loop\n",
        "\n",
        "random_number = random.randint(0,10)\n",
        "guess_counter = 0\n",
        "\n",
        "while guess_counter < 5:\n",
        "    user_guess = int(input('Guess a number: '))\n",
        "    if user_guess == random_number:\n",
        "        print('Correct!')\n",
        "        break\n",
        "    elif user_guess > random_number:\n",
        "        print(\"Too high\")\n",
        "    elif user_guess < random_number:\n",
        "        print(\"Too low\")\n",
        "    guess_counter += 1"
      ],
      "execution_count": 0,
      "outputs": [
        {
          "output_type": "stream",
          "text": [
            "Guess a number: 9\n",
            "Too high\n",
            "Guess a number: 6\n",
            "Too low\n",
            "Guess a number: 7\n",
            "Too low\n",
            "Guess a number: 8\n",
            "Correct!\n"
          ],
          "name": "stdout"
        }
      ]
    },
    {
      "cell_type": "markdown",
      "metadata": {
        "id": "n_lDuy4_Dl0p",
        "colab_type": "text"
      },
      "source": [
        "#### EXERCISE 5: FizzBuzz\n",
        "*Objective: Get a job at Amazon! (they use it in software engineer interviews)*\n",
        "\n",
        "Write a script to:\n",
        "\n",
        "* Print out the numbers from 1 to 20 but replacing numbers with 'Fizz' if divisible by 3, 'Buzz' if divisible by '5', and 'FizzBuzz' if divisible by 3 and 5.\n",
        "\n",
        "Hint: the 'mod' operator, denoted %, is used to check divisibility. Example: 10 % 2 == 0."
      ]
    },
    {
      "cell_type": "code",
      "metadata": {
        "id": "zcTVEHWJDl0q",
        "colab_type": "code",
        "outputId": "d7ed8ce8-9a36-4451-9d2c-87b51649df6a",
        "colab": {
          "base_uri": "https://localhost:8080/",
          "height": 372
        }
      },
      "source": [
        "# YOUR CODE HERE:\n",
        "\n",
        "for n in range(1,21):\n",
        "    if n % 3 == 0 and n % 5 == 0:\n",
        "        print('FizzBuzz')\n",
        "    elif n % 3 == 0:\n",
        "        print('Fizz')\n",
        "    elif n % 5 == 0:\n",
        "        print('Buzz')\n",
        "    else:\n",
        "        print(n)"
      ],
      "execution_count": 0,
      "outputs": [
        {
          "output_type": "stream",
          "text": [
            "1\n",
            "2\n",
            "Fizz\n",
            "4\n",
            "Buzz\n",
            "Fizz\n",
            "7\n",
            "8\n",
            "Fizz\n",
            "Buzz\n",
            "11\n",
            "Fizz\n",
            "13\n",
            "14\n",
            "FizzBuzz\n",
            "16\n",
            "17\n",
            "Fizz\n",
            "19\n",
            "Buzz\n"
          ],
          "name": "stdout"
        }
      ]
    },
    {
      "cell_type": "code",
      "metadata": {
        "id": "6Xc3jEQEFbGq",
        "colab_type": "code",
        "colab": {}
      },
      "source": [
        ""
      ],
      "execution_count": 0,
      "outputs": []
    }
  ]
}