{
 "cells": [
  {
   "cell_type": "markdown",
   "metadata": {},
   "source": [
    "# Python for Data Science - after lunch"
   ]
  },
  {
   "cell_type": "markdown",
   "metadata": {},
   "source": [
    "##### In this section, we will introduce lists and logic and control flow"
   ]
  },
  {
   "cell_type": "markdown",
   "metadata": {},
   "source": [
    "### 3. Data types: lists\n",
    "Ints, floats and strings are the most basic data structures (think of them as atoms). Next, we'll look at data types that combine those atoms. Lists, tuples and dictionaries are compound data structures that group together other items.\n",
    "\n",
    "|Data structure | Properties| Syntax|\n",
    "|----|----|----|\n",
    "|List | Ordered, mutable sequence | mylist = [1,2,3] |\n",
    "|Tuple | Ordered, immutable sequence | mytuple = (1,2,3) |\n",
    "|Set | Unordered set of unique values | myset = set(1,2,3) |\n",
    "|Dictionary | Mutable set of key, value pairs | mydict = {'first_value':1, 'second_value:2} |\n"
   ]
  },
  {
   "cell_type": "markdown",
   "metadata": {},
   "source": [
    "#### 3.1 Manipulating lists\n",
    "Lists are collections of items. To create one, put a series of items in square brackets, separated by commas. Lists can contain items of different types. They are helpful when your data has an order and may need to be changed in place."
   ]
  },
  {
   "cell_type": "code",
   "execution_count": null,
   "metadata": {},
   "outputs": [],
   "source": [
    "# create a list of strings\n",
    "weekdays = ['monday','tuesday','wednesday','thursday','friday']\n",
    "weekdays"
   ]
  },
  {
   "cell_type": "code",
   "execution_count": null,
   "metadata": {},
   "outputs": [],
   "source": [
    "# Lists are ordered collections; they are indexed starting at zero.\n",
    "# To get an individual item, use square brackets and the appropriate index value.\n",
    "weekdays[0]"
   ]
  },
  {
   "cell_type": "code",
   "execution_count": null,
   "metadata": {},
   "outputs": [],
   "source": [
    "# select slices (eg. the first to the fourth item) with square bracket notation\n",
    "\n",
    "weekdays[0:3]"
   ]
  },
  {
   "cell_type": "code",
   "execution_count": null,
   "metadata": {},
   "outputs": [],
   "source": [
    "# check the type of items in a list\n",
    "type(weekdays[3])"
   ]
  },
  {
   "cell_type": "code",
   "execution_count": null,
   "metadata": {},
   "outputs": [],
   "source": [
    "# a list is a mutable, you can change its contents in-place\n",
    "weekdays[3] = 'thursday - practice Python!'\n",
    "weekdays"
   ]
  },
  {
   "cell_type": "code",
   "execution_count": null,
   "metadata": {},
   "outputs": [],
   "source": [
    "# add an item to a list with append()\n",
    "weekdays.append('saturday')\n",
    "weekdays"
   ]
  },
  {
   "cell_type": "code",
   "execution_count": null,
   "metadata": {},
   "outputs": [],
   "source": [
    "# test for a value in your list\n",
    "'saturday' in weekdays"
   ]
  },
  {
   "cell_type": "code",
   "execution_count": null,
   "metadata": {},
   "outputs": [],
   "source": [
    "# use .remove() to clean up the weekdays list\n",
    "\n",
    "weekdays.remove('saturday')\n",
    "weekdays"
   ]
  },
  {
   "cell_type": "code",
   "execution_count": null,
   "metadata": {},
   "outputs": [],
   "source": [
    "# concatenate two lists\n",
    "odds = [1,3,5]\n",
    "evens = [2,4,6]\n",
    "all_nums = odds + evens\n",
    "all_nums"
   ]
  },
  {
   "cell_type": "code",
   "execution_count": null,
   "metadata": {},
   "outputs": [],
   "source": [
    "# the built-in function len() also applies to lists\n",
    "len(all_nums)"
   ]
  },
  {
   "cell_type": "markdown",
   "metadata": {},
   "source": [
    "### 4. Logic and control flow\n",
    "\n",
    "Definition of **control flow**:\n",
    "* In a simple script, program execution starts at the top and executes each instruction in order. \n",
    "* **Control flow** statements can cause the execution to loop and skip instructions based on conditions."
   ]
  },
  {
   "cell_type": "markdown",
   "metadata": {},
   "source": [
    "#### 4.1 Loops and iterables\n",
    "Definition: an **iterable** is an object capable of returning its members one at a time. Strings, lists and dictionaries are all iterables.\n",
    "\n",
    "A **for loop** runs a block of code repeatedly \"for\" each item in an iterable. End the declaration with : and indent the subsidiary code."
   ]
  },
  {
   "cell_type": "code",
   "execution_count": null,
   "metadata": {},
   "outputs": [],
   "source": [
    "for color in ['red','green','blue']:\n",
    "    print(\"I love \" + color)"
   ]
  },
  {
   "cell_type": "code",
   "execution_count": 5,
   "metadata": {},
   "outputs": [
    {
     "name": "stdout",
     "output_type": "stream",
     "text": [
      "A\n",
      "B\n",
      "C\n",
      "D\n"
     ]
    }
   ],
   "source": [
    "# or characters in a string\n",
    "for letter in 'abcd':\n",
    "    print(letter.upper())"
   ]
  },
  {
   "cell_type": "code",
   "execution_count": 6,
   "metadata": {},
   "outputs": [
    {
     "name": "stdout",
     "output_type": "stream",
     "text": [
      "I ate 1 donuts\n",
      "I ate 2 donuts\n",
      "I ate 3 donuts\n",
      "I ate 4 donuts\n",
      "I ate 5 donuts\n"
     ]
    }
   ],
   "source": [
    "# the range() function produces a helpful iterator\n",
    "for n in range(5):\n",
    "    print(\"I ate {} donuts\".format(n + 1))"
   ]
  },
  {
   "cell_type": "markdown",
   "metadata": {},
   "source": [
    "#### 4.2 Logic operators\n",
    "\n",
    "We test conditions using logic operators.\n",
    "\n",
    "To build up operations on larger datasets, more control flow tricks are helpful: including Boolean logic.\n",
    "\n",
    "The statement `a == b` asks Python to evaluate whether variable a equals variable b; the interpreter will return True or False.\n",
    "\n",
    "Similar statements would be `a > b`, `a >= b`, or `a != b`. \n",
    "\n",
    "| Symbol | Task Performed |\n",
    "|----|---|\n",
    "| == | True, if it is equal |\n",
    "| !=  | True, if not equal to |\n",
    "| < | less than |\n",
    "| <= | less than or equal to |\n",
    "| > | greater than |\n",
    "| >= | greater than or equal to |"
   ]
  },
  {
   "cell_type": "code",
   "execution_count": null,
   "metadata": {},
   "outputs": [],
   "source": [
    "# But compare them using '=='\n",
    "a == b"
   ]
  },
  {
   "cell_type": "code",
   "execution_count": null,
   "metadata": {},
   "outputs": [],
   "source": [
    "# Test whether a does not equal b\n",
    "a != b"
   ]
  },
  {
   "cell_type": "code",
   "execution_count": null,
   "metadata": {},
   "outputs": [],
   "source": [
    "# Logic expressions evaluate to True or False (datatype: Boolean)\n",
    "\n",
    "test = b > a\n",
    "\n",
    "test"
   ]
  },
  {
   "cell_type": "code",
   "execution_count": null,
   "metadata": {},
   "outputs": [],
   "source": [
    "type(test)"
   ]
  },
  {
   "cell_type": "markdown",
   "metadata": {},
   "source": [
    "#### 4.3 Conditional statements with if\n",
    "\n",
    "My pet Python is a vegetarian. She will test whether variable 'food' is 'burger', 'chicken' or 'veg', then decide whether to eat.\n",
    "\n",
    "Do this with 'if', 'elif' (else if), and 'else'."
   ]
  },
  {
   "cell_type": "code",
   "execution_count": null,
   "metadata": {},
   "outputs": [],
   "source": [
    "food = 'veg'"
   ]
  },
  {
   "cell_type": "code",
   "execution_count": null,
   "metadata": {},
   "outputs": [],
   "source": [
    "if food == 'veg':\n",
    "    print ('yum')\n",
    "elif food == 'chicken':\n",
    "    print ('hmm maybe')\n",
    "elif food == 'burger':\n",
    "    print ('no thanks')\n",
    "else:\n",
    "    pass"
   ]
  },
  {
   "cell_type": "markdown",
   "metadata": {},
   "source": [
    "NOTE: Here's how the structure works:\n",
    "* start with an 'if' statement, specifying the logical test to apply\n",
    "* make sure your 'if' statement ends with :\n",
    "* **indent the conditional code block.** Whatever code should be executed if the condition is true, indent it with a tab.\n",
    "* test additional actions using 'elif', and any other actions with 'else'."
   ]
  },
  {
   "cell_type": "markdown",
   "metadata": {},
   "source": [
    "The `and`, `or` and `not` operators check whether combinations of statements are true at the same time."
   ]
  },
  {
   "cell_type": "code",
   "execution_count": 1,
   "metadata": {},
   "outputs": [],
   "source": [
    "month = 'July'\n",
    "hour = 14"
   ]
  },
  {
   "cell_type": "code",
   "execution_count": 2,
   "metadata": {},
   "outputs": [
    {
     "data": {
      "text/plain": [
       "False"
      ]
     },
     "execution_count": 2,
     "metadata": {},
     "output_type": "execute_result"
    }
   ],
   "source": [
    "(month == 'July') and (hour < 12)         # is it a morning in July?"
   ]
  },
  {
   "cell_type": "code",
   "execution_count": 3,
   "metadata": {},
   "outputs": [
    {
     "data": {
      "text/plain": [
       "True"
      ]
     },
     "execution_count": 3,
     "metadata": {},
     "output_type": "execute_result"
    }
   ],
   "source": [
    "(month == 'July') or (hour < 12)          # is it either a morning, or in July?"
   ]
  },
  {
   "cell_type": "code",
   "execution_count": 4,
   "metadata": {},
   "outputs": [
    {
     "data": {
      "text/plain": [
       "True"
      ]
     },
     "execution_count": 4,
     "metadata": {},
     "output_type": "execute_result"
    }
   ],
   "source": [
    "not(hour < 12) and (month == 'July')     # is it not a morning, and in July?"
   ]
  },
  {
   "cell_type": "markdown",
   "metadata": {},
   "source": [
    "#### 4.4 Testing conditions inside a loop\n",
    "Combining loops with logic allows you to build more sophisticated code structures:"
   ]
  },
  {
   "cell_type": "code",
   "execution_count": null,
   "metadata": {},
   "outputs": [],
   "source": [
    "days = ['Mon','Tue','Wed','Thu','Fri','Sat','Sun']\n",
    "\n",
    "for day in days:\n",
    "    if day == 'Sat':\n",
    "        location = '--> Beach!'\n",
    "    elif day == 'Sun':\n",
    "        location = '--> My sofa!'\n",
    "    else:\n",
    "        location = '--> MC5-215B'\n",
    "    print(day, location)"
   ]
  },
  {
   "cell_type": "code",
   "execution_count": 8,
   "metadata": {},
   "outputs": [
    {
     "name": "stdout",
     "output_type": "stream",
     "text": [
      "Welcome to Nick's Apartment Block.\n"
     ]
    },
    {
     "name": "stdin",
     "output_type": "stream",
     "text": [
      "Type your pet's breed to see if it's accepted: bat\n"
     ]
    },
    {
     "name": "stdout",
     "output_type": "stream",
     "text": [
      "\n",
      "Sorry your bat is NOT ACCEPTED\n"
     ]
    }
   ],
   "source": [
    "# EXAMPLE 2: is your pet allowed?\n",
    "\n",
    "authorized_pets = ['small dog', 'cat', 'hamster','budgerigar']\n",
    "\n",
    "print(\"Welcome to Nick's Apartment Block.\")\n",
    "my_pet = input(\"Type your pet's breed to see if it's accepted:\")\n",
    "\n",
    "if my_pet in authorized_pets:\n",
    "    print(\"Congratulations, your {} is welcome here!\".format(my_pet))\n",
    "else:\n",
    "    print(\"\\nSorry your {} is NOT ACCEPTED\".format(my_pet))"
   ]
  },
  {
   "cell_type": "markdown",
   "metadata": {},
   "source": [
    "### 5. Indexing and slicing\n",
    "Several data types are defined as 'sequences.' They share a common approach to selecting their elements using square bracket notation. This powerful notation works across strings, lists, arrays and DataFrames:"
   ]
  },
  {
   "cell_type": "code",
   "execution_count": null,
   "metadata": {},
   "outputs": [],
   "source": [
    "# to get one character from a string, put the index number in square brackets directly after the variable name\n",
    "language = 'Python'\n",
    "language[0] "
   ]
  },
  {
   "cell_type": "code",
   "execution_count": null,
   "metadata": {},
   "outputs": [],
   "source": [
    "# index values can be negative.\n",
    "language[-1]"
   ]
  },
  {
   "cell_type": "markdown",
   "metadata": {},
   "source": [
    "Index values point between characters. The left edge of the first character is 0. Python has six characters, so the right edge of the last character is index 6."
   ]
  },
  {
   "cell_type": "code",
   "execution_count": null,
   "metadata": {},
   "outputs": [],
   "source": [
    "#       +---+---+---+---+---+---+\n",
    "#       | P | y | t | h | o | n |\n",
    "#       +---+---+---+---+---+---+\n",
    "#       0   1   2   3   4   5   6\n",
    "#      -6  -5  -4  -3  -2  -1\n",
    "\n",
    "# credit: www.python.org/3/tutorial"
   ]
  },
  {
   "cell_type": "markdown",
   "metadata": {},
   "source": [
    "You can 'slice' strings and other sequences, using the start and end index"
   ]
  },
  {
   "cell_type": "code",
   "execution_count": null,
   "metadata": {},
   "outputs": [],
   "source": [
    "# slices give you all elements from the start index, up to (but not including) the end index\n",
    "\n",
    "language[0:4]"
   ]
  },
  {
   "cell_type": "markdown",
   "metadata": {},
   "source": [
    "What happens if you leave out the start or end index while slicing? Python will use default values instead. Take a sequence of length `n`. For start position, it will default to 0. For end position, it will default to `n`."
   ]
  },
  {
   "cell_type": "code",
   "execution_count": null,
   "metadata": {},
   "outputs": [],
   "source": [
    "# everything up to fourth index\n",
    "language[:4]"
   ]
  },
  {
   "cell_type": "code",
   "execution_count": null,
   "metadata": {},
   "outputs": [],
   "source": [
    "# fourth position onwards\n",
    "language[4:]"
   ]
  },
  {
   "cell_type": "code",
   "execution_count": null,
   "metadata": {},
   "outputs": [],
   "source": [
    "# fourth from last, up to end of string\n",
    "language[-4:]"
   ]
  },
  {
   "cell_type": "markdown",
   "metadata": {},
   "source": [
    "Sneak preview: You can use the same index notation with higher dimensional datastructures, eg. a 3D array (eg. a stack of rasters: latitude, longitude, time, temperature)."
   ]
  },
  {
   "cell_type": "markdown",
   "metadata": {},
   "source": [
    "### 6. An aside: extracting data from messy strings"
   ]
  },
  {
   "cell_type": "code",
   "execution_count": null,
   "metadata": {},
   "outputs": [],
   "source": [
    "# say you get a large column of ZIP codes, but in a messy format like this\n",
    "zip_code1 = \"Fred: ZIP 20022-0049\"\n",
    "zip_code2 = \"Margaret: ZIP 20009-0132\""
   ]
  },
  {
   "cell_type": "code",
   "execution_count": null,
   "metadata": {},
   "outputs": [],
   "source": [
    "# we're interested in this part:\n",
    "zip_code1[10:15]"
   ]
  },
  {
   "cell_type": "code",
   "execution_count": null,
   "metadata": {
    "scrolled": true
   },
   "outputs": [],
   "source": [
    "# how could we systematicaly pull out the key 5 digits, to create a clean list of zips?"
   ]
  },
  {
   "cell_type": "markdown",
   "metadata": {},
   "source": [
    "To crack a problem like this, you could:\n",
    "* Use tab completion to list available string methods\n",
    "* Ask StackOverflow\n",
    "* Check the [documentation](https://docs.python.org/2/library/stdtypes.html#string-methods)"
   ]
  },
  {
   "cell_type": "code",
   "execution_count": null,
   "metadata": {},
   "outputs": [],
   "source": [
    "# Get help on the .split() method\n",
    "\n",
    "zip_code1.split?"
   ]
  },
  {
   "cell_type": "code",
   "execution_count": null,
   "metadata": {},
   "outputs": [],
   "source": [
    "# a quick solution: split each string twice (using a different separator):\n",
    "\n",
    "answer = zip_code1.split()[2].split('-')[0]"
   ]
  },
  {
   "cell_type": "code",
   "execution_count": null,
   "metadata": {},
   "outputs": [],
   "source": [
    "# then make it an integer:\n",
    "\n",
    "int(answer)"
   ]
  },
  {
   "cell_type": "markdown",
   "metadata": {},
   "source": [
    "Operating on data at scale requires more firepower: eg. list comprehensions and functions."
   ]
  },
  {
   "cell_type": "markdown",
   "metadata": {},
   "source": [
    "### 7. Classes and methods (applied to lists)"
   ]
  },
  {
   "cell_type": "markdown",
   "metadata": {},
   "source": [
    "__Sneak preview of classes:__ Python (as an object oriented language) lets you define __classes__ of objects. A class of objects has in-built functions that can be summoned up quickly (these are called __methods__).\n",
    "    \n",
    "Example:\n",
    "* I define a class `road_network`.\n",
    "* Each time I type `my_network = road_network(parameter1, parameter 2...)`, I create a new instance of the class.\n",
    "* Helpful functionality might be (i) calculate total length of roads; (ii) calculate shortest path between two points.\n",
    "* I write a method `find_shortest_path(start_point, end_point`. This could be accessed from any instance of class `road_network` in future.\n",
    "* Like this: `my_network.find_shortest_path(my_start_point, my_end_point)`"
   ]
  },
  {
   "cell_type": "markdown",
   "metadata": {},
   "source": [
    "__List methods.__ Lists (and other data types) are implemented as classes. So check out the helpful methods that are at your disposal."
   ]
  },
  {
   "cell_type": "code",
   "execution_count": null,
   "metadata": {},
   "outputs": [],
   "source": [
    "cubes = [1, 8, 27]\n",
    "cubes"
   ]
  },
  {
   "cell_type": "code",
   "execution_count": null,
   "metadata": {},
   "outputs": [],
   "source": [
    "cubes.insert(0,0)    # insert element at given index"
   ]
  },
  {
   "cell_type": "code",
   "execution_count": null,
   "metadata": {},
   "outputs": [],
   "source": [
    "cubes.append(65)     # add element to end of list"
   ]
  },
  {
   "cell_type": "code",
   "execution_count": null,
   "metadata": {},
   "outputs": [],
   "source": [
    "cubes.remove(65)    # remove element if it exists"
   ]
  },
  {
   "cell_type": "code",
   "execution_count": null,
   "metadata": {},
   "outputs": [],
   "source": [
    "cubes.extend([64,125,216])   # add all the elements of an iterable "
   ]
  },
  {
   "cell_type": "code",
   "execution_count": null,
   "metadata": {},
   "outputs": [],
   "source": [
    "cubes"
   ]
  },
  {
   "cell_type": "code",
   "execution_count": null,
   "metadata": {},
   "outputs": [],
   "source": [
    "cubes.pop()         # return the last element (and remove it)"
   ]
  },
  {
   "cell_type": "code",
   "execution_count": null,
   "metadata": {},
   "outputs": [],
   "source": [
    "cubes.count(64)    # count how many times an element appears"
   ]
  },
  {
   "cell_type": "code",
   "execution_count": null,
   "metadata": {},
   "outputs": [],
   "source": [
    "print(cubes)\n",
    "cubes.clear()       # delete all elements\n",
    "print(cubes)"
   ]
  },
  {
   "cell_type": "markdown",
   "metadata": {},
   "source": [
    "Remember tab complete or question mark to list available methods of a object. Other object types that we'll use extensively: NumPy arrays, Pandas Series, Pandas DataFrames. Each has its own (pretty amazing) set of methods."
   ]
  }
 ],
 "metadata": {
  "kernelspec": {
   "display_name": "Python 3",
   "language": "python",
   "name": "python3"
  },
  "language_info": {
   "codemirror_mode": {
    "name": "ipython",
    "version": 3
   },
   "file_extension": ".py",
   "mimetype": "text/x-python",
   "name": "python",
   "nbconvert_exporter": "python",
   "pygments_lexer": "ipython3",
   "version": "3.7.3"
  }
 },
 "nbformat": 4,
 "nbformat_minor": 2
}
