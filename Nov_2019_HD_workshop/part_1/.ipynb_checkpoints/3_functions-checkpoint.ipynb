{
 "cells": [
  {
   "cell_type": "markdown",
   "metadata": {},
   "source": [
    "# Session 3: Dictionaries and functions"
   ]
  },
  {
   "cell_type": "markdown",
   "metadata": {},
   "source": [
    "This session concludes our tour of Python language essentials with two more compound data structures - tuples and dictionaries - and with writing reusable code blocks (functions). We also introduce the key libraries for handling tabular data: Numpy (short for numerical Python) and Pandas."
   ]
  },
  {
   "cell_type": "markdown",
   "metadata": {},
   "source": [
    "### 2. Dictionaries\n",
    "A dictionary is another fundamental data structure. The value of a dictionary is the ('key':'value') organisation, much like a standard dictionary!"
   ]
  },
  {
   "cell_type": "code",
   "execution_count": null,
   "metadata": {},
   "outputs": [],
   "source": [
    "fellowship = {'hobbit_1':'Frodo',\n",
    "             'hobbit_2':'Sam',\n",
    "             'hobbit_3':'Pippin',\n",
    "             'hobbit_4':'Merry'}"
   ]
  },
  {
   "cell_type": "code",
   "execution_count": null,
   "metadata": {},
   "outputs": [],
   "source": [
    "# call the values from the keys\n",
    "fellowship['hobbit_1']"
   ]
  },
  {
   "cell_type": "code",
   "execution_count": null,
   "metadata": {},
   "outputs": [],
   "source": [
    "# we can also generate lists of both the keys:\n",
    "fellowship.keys()"
   ]
  },
  {
   "cell_type": "code",
   "execution_count": null,
   "metadata": {},
   "outputs": [],
   "source": [
    "# ...and the values:\n",
    "fellowship.values()"
   ]
  },
  {
   "cell_type": "code",
   "execution_count": null,
   "metadata": {},
   "outputs": [],
   "source": [
    "# question: how would you get a list of the values?\n"
   ]
  },
  {
   "cell_type": "code",
   "execution_count": null,
   "metadata": {},
   "outputs": [],
   "source": [
    "# we could use dictionaries of dictionaries:\n",
    "\n",
    "Frodo = {'name':'Frodo','cell':'+202 569 8745','email':'frodo@baggins_shire.com'}\n",
    "Sam = {'name':'Sam','cell':'+202 456 5646','email':'sam@samwise_gamgee.com'}\n",
    "\n",
    "fellowship_contact_info = {'Frodo':Frodo,\n",
    "                          'Sam':Sam}"
   ]
  },
  {
   "cell_type": "code",
   "execution_count": null,
   "metadata": {},
   "outputs": [],
   "source": [
    "fellowship_contact_info['Sam']"
   ]
  },
  {
   "cell_type": "code",
   "execution_count": null,
   "metadata": {},
   "outputs": [],
   "source": [
    "fellowship_contact_info['Sam']['cell']"
   ]
  },
  {
   "cell_type": "code",
   "execution_count": null,
   "metadata": {},
   "outputs": [],
   "source": [
    "fellowship_contact_info['Sam']['email']"
   ]
  },
  {
   "cell_type": "markdown",
   "metadata": {},
   "source": [
    "This is actually the structure of a JSON file - which is organized as a dictionary of nested dictionaries!"
   ]
  },
  {
   "cell_type": "markdown",
   "metadata": {},
   "source": [
    "### 4. Defining functions\n",
    "So you have written some code for a difficult task (eg. solve Fermat's Last Theorem). You may want to do the same task again. You could (a) memorize the code and re-write it each time; (b) copy and paste it; or (c) write a function. A function is a reusable code block. You can pass data into functions (as parameters). Functions can return data to the main program."
   ]
  },
  {
   "cell_type": "code",
   "execution_count": null,
   "metadata": {},
   "outputs": [],
   "source": [
    "# define a function\n",
    "\n",
    "def my_function():\n",
    "    print(\"Hi I'm a function\")"
   ]
  },
  {
   "cell_type": "code",
   "execution_count": null,
   "metadata": {},
   "outputs": [],
   "source": [
    "# once defined, call it once or many times\n",
    "\n",
    "my_function()"
   ]
  },
  {
   "cell_type": "code",
   "execution_count": null,
   "metadata": {},
   "outputs": [],
   "source": [
    "# pass data into functions\n",
    "\n",
    "greeting = \"Hi people, this is Python session 3\"\n",
    "print(greeting)"
   ]
  },
  {
   "cell_type": "markdown",
   "metadata": {},
   "source": [
    "The `def` statement introduces a function definition. It expects a function name, parentheses, any parameters the function will take, and a colon. The function code block must be indented. The parentheses are always required, when defining or calling a function, even if no parameters are used."
   ]
  },
  {
   "cell_type": "code",
   "execution_count": null,
   "metadata": {},
   "outputs": [],
   "source": [
    "# this function expects one parameter\n",
    "\n",
    "def sound_more_excited(my_string):\n",
    "    new_string = my_string + '!!'\n",
    "    print(new_string)"
   ]
  },
  {
   "cell_type": "markdown",
   "metadata": {},
   "source": [
    "Note: functions have an internal name-space (or symbol table). The data passed into `sound_more_excited` will be referred to, within the function, as `my_string`."
   ]
  },
  {
   "cell_type": "code",
   "execution_count": null,
   "metadata": {},
   "outputs": [],
   "source": [
    "sound_more_excited(greeting)"
   ]
  },
  {
   "cell_type": "code",
   "execution_count": null,
   "metadata": {},
   "outputs": [],
   "source": [
    "# this function will return data to the main program\n",
    "\n",
    "def sound_really_excited(my_string):\n",
    "    new_string = my_string.upper() + '!!!'\n",
    "    return(new_string)"
   ]
  },
  {
   "cell_type": "code",
   "execution_count": null,
   "metadata": {},
   "outputs": [],
   "source": [
    "sound_really_excited(greeting)"
   ]
  },
  {
   "cell_type": "markdown",
   "metadata": {},
   "source": [
    "### 5. Functions with multiple arguments\n",
    "Functions can take many arguments. You can make them easy to work with by:\n",
    "* Defining default arguments.\n",
    "* Providing keyword arguments."
   ]
  },
  {
   "cell_type": "code",
   "execution_count": null,
   "metadata": {},
   "outputs": [],
   "source": [
    "# default arguments allow you to call functions with less typing\n",
    "\n",
    "def ask_permission(prompt, retries = 3, msg = 'Try again >> '):\n",
    "    while retries > 0:\n",
    "        user_input = input(prompt)\n",
    "        if user_input in ['yes','YES','y']:\n",
    "            return(True)\n",
    "        elif user_input in ['no','NO','n']:\n",
    "            return(False)\n",
    "        else:\n",
    "            retries = retries - 1\n",
    "        print(msg)\n"
   ]
  },
  {
   "cell_type": "markdown",
   "metadata": {},
   "source": [
    "One parameter (`prompt`) is mandatory. Default values will be assumed for the other parameters, unless they are passed."
   ]
  },
  {
   "cell_type": "code",
   "execution_count": null,
   "metadata": {},
   "outputs": [],
   "source": [
    "# function call with only the mandatory argument\n",
    "ask_permission(\"delete all files? >> \")"
   ]
  },
  {
   "cell_type": "code",
   "execution_count": null,
   "metadata": {},
   "outputs": [],
   "source": [
    "# function call with one optional parameter\n",
    "ask_permission(\"delete *all* the files? >> \", 10)"
   ]
  },
  {
   "cell_type": "code",
   "execution_count": null,
   "metadata": {},
   "outputs": [],
   "source": [
    "# with all optional parameters\n",
    "ask_permission(\"delete *all* the files? >> \", 10, msg = 'expected yes or no >> ')"
   ]
  },
  {
   "cell_type": "markdown",
   "metadata": {},
   "source": [
    "Arguments with a default value as also called `keyword arguments`, those without are `positional arguments`. Positional arguments always need to come before keyword arguments."
   ]
  },
  {
   "cell_type": "code",
   "execution_count": null,
   "metadata": {},
   "outputs": [],
   "source": [
    "# Try not to break your function calls like this:\n",
    "\n",
    "ask_permission(retries = 6, 'Delete all files')"
   ]
  }
 ],
 "metadata": {
  "kernelspec": {
   "display_name": "Python 3",
   "language": "python",
   "name": "python3"
  },
  "language_info": {
   "codemirror_mode": {
    "name": "ipython",
    "version": 3
   },
   "file_extension": ".py",
   "mimetype": "text/x-python",
   "name": "python",
   "nbconvert_exporter": "python",
   "pygments_lexer": "ipython3",
   "version": "3.7.3"
  }
 },
 "nbformat": 4,
 "nbformat_minor": 2
}
