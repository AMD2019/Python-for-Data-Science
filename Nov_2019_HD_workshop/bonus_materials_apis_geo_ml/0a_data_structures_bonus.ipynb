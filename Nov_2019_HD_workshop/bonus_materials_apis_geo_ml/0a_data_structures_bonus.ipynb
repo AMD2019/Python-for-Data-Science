{
 "cells": [
  {
   "cell_type": "markdown",
   "metadata": {},
   "source": [
    "### Review of Data structures and control flow - towards big data\n",
    "This notebook goes into more depth on strings, conditionals, and error handling. It also begins show us how to handle data at scale through loops and list comprehensions. "
   ]
  },
  {
   "cell_type": "markdown",
   "metadata": {},
   "source": [
    "### Strings and escape characters\n",
    "Strings can be defined several ways, such as with single quotes or double quotes. Why? Strings themselves may include quotes. The resulting ambiguity can break your code. All programming languages have tricks to get around this issue:"
   ]
  },
  {
   "cell_type": "code",
   "execution_count": null,
   "metadata": {},
   "outputs": [],
   "source": [
    "# One string, two ways\n",
    "\n",
    "print('Yes, they said.')\n",
    "print(\"Yes, they said.\")"
   ]
  },
  {
   "cell_type": "code",
   "execution_count": null,
   "metadata": {},
   "outputs": [],
   "source": [
    "# An easy way to trip up\n",
    "\n",
    "print(''Yes', they said.')"
   ]
  },
  {
   "cell_type": "code",
   "execution_count": null,
   "metadata": {},
   "outputs": [],
   "source": [
    "# If your string contains one type of quote, define it with the other type\n",
    "\n",
    "print(\"'Yes', they said\")"
   ]
  },
  {
   "cell_type": "code",
   "execution_count": null,
   "metadata": {},
   "outputs": [],
   "source": [
    "# backlash is an 'escape character'. It negates any special properties of the character that follows:\n",
    "\n",
    "print('\\'Yes\\', they said')"
   ]
  },
  {
   "cell_type": "code",
   "execution_count": null,
   "metadata": {},
   "outputs": [],
   "source": [
    "# ... if followed by n, it creates a new line\n",
    "print(\"They said:\\nYes\")"
   ]
  },
  {
   "cell_type": "code",
   "execution_count": null,
   "metadata": {},
   "outputs": [],
   "source": [
    "# ... or a tab if followed by t\n",
    "print(\"They said:\\tYes\")"
   ]
  },
  {
   "cell_type": "code",
   "execution_count": null,
   "metadata": {},
   "outputs": [],
   "source": [
    "# careful with unintended escape characters in filenames!\n",
    "\n",
    "string_will_fail = 'C:\\Users\\charl\\Documents\\CE\\RAM\\OneDrive_1_3-6-2019\\QXN\\RN'"
   ]
  },
  {
   "cell_type": "code",
   "execution_count": null,
   "metadata": {},
   "outputs": [],
   "source": [
    "# adding r denotes 'raw string'\n",
    "\n",
    "string_will_work = r'C:\\Users\\charl\\Documents\\CE\\RAM\\OneDrive_1_3-6-2019\\QXN\\RN'"
   ]
  },
  {
   "cell_type": "markdown",
   "metadata": {},
   "source": [
    "###  Control the `print` statement\n",
    "`print()` is a built-in function that echos objects to the console. When printing strings, use the .format() method. Putting this at the end of a string let's you:\n",
    "* substitute variables into the string;\n",
    "* control how they're formatted (eg. decimal places)."
   ]
  },
  {
   "cell_type": "code",
   "execution_count": 7,
   "metadata": {},
   "outputs": [
    {
     "name": "stdout",
     "output_type": "stream",
     "text": [
      "A string: that was easy\n"
     ]
    }
   ],
   "source": [
    "print(\"A string: that was easy\")"
   ]
  },
  {
   "cell_type": "code",
   "execution_count": 8,
   "metadata": {},
   "outputs": [
    {
     "name": "stdout",
     "output_type": "stream",
     "text": [
      "42 that was also easy\n"
     ]
    }
   ],
   "source": [
    "print(42, \"that was also easy\")"
   ]
  },
  {
   "cell_type": "code",
   "execution_count": 10,
   "metadata": {},
   "outputs": [
    {
     "name": "stdout",
     "output_type": "stream",
     "text": [
      "54.794520547945204 that's not ideal\n"
     ]
    }
   ],
   "source": [
    "print(20000/365, \"that's not ideal\")"
   ]
  },
  {
   "cell_type": "code",
   "execution_count": 11,
   "metadata": {},
   "outputs": [
    {
     "name": "stdout",
     "output_type": "stream",
     "text": [
      "Here's a number: 42. It's less than 50\n"
     ]
    }
   ],
   "source": [
    "# include variables inside strings with {}, then (after the string), .format()\n",
    "x = 42\n",
    "\n",
    "print(\"Here's a number: {}. It's less than 50\".format(x))"
   ]
  },
  {
   "cell_type": "code",
   "execution_count": 15,
   "metadata": {},
   "outputs": [
    {
     "name": "stdout",
     "output_type": "stream",
     "text": [
      "Is 42 really less than 50? Answer: True.\n"
     ]
    }
   ],
   "source": [
    "# you can include multiple substitutions, and they don't have to be variables (operations are fine)\n",
    "\n",
    "print(\"Is {} really less than 50? Answer: {}.\".format(x, x<50))"
   ]
  },
  {
   "cell_type": "markdown",
   "metadata": {},
   "source": [
    "Note: `.format()` actually has a mini-language associated with it, check the documentation [here](https://pyformat.info/)."
   ]
  },
  {
   "cell_type": "code",
   "execution_count": 17,
   "metadata": {},
   "outputs": [
    {
     "name": "stdout",
     "output_type": "stream",
     "text": [
      "Daily salary is approximately 54.79 (two decimal places)\n"
     ]
    }
   ],
   "source": [
    "# just memorize this one for now:\n",
    "\n",
    "print(\"Daily salary is approximately {:.2f} (two decimal places)\".format(20000/365))"
   ]
  },
  {
   "cell_type": "markdown",
   "metadata": {},
   "source": [
    "### Building programs with `if`, `elif` and `else`\n",
    "\n",
    "We already met `if` constructions. Get the indentation right, and build more sophisticated rules that test multiple conditions."
   ]
  },
  {
   "cell_type": "code",
   "execution_count": null,
   "metadata": {},
   "outputs": [],
   "source": [
    "# an if statement executes the indented code only if some condition is true\n",
    "\n",
    "my_value = 11\n",
    "\n",
    "if my_value > 10:\n",
    "    print(\"Number is greater than 10\")"
   ]
  },
  {
   "cell_type": "code",
   "execution_count": null,
   "metadata": {},
   "outputs": [],
   "source": [
    "# use Boolean operators to test multiple conditions\n",
    "\n",
    "if (my_value > 10) and (my_value < 15):\n",
    "    print(\"Number is between 10 and 15\")"
   ]
  },
  {
   "cell_type": "code",
   "execution_count": null,
   "metadata": {},
   "outputs": [],
   "source": [
    "# if the first if statement evaluates to false, elif executes a code block if its condition is true\n",
    "# else executes a code block if no preceding if or elif evaluated to true\n",
    "\n",
    "if (my_value > 0) and (my_value < 10):\n",
    "    print(\"Number is positive and less than 10\")\n",
    "    \n",
    "elif my_value > 10:\n",
    "    print(\"Number is greater than 10\")\n",
    "        \n",
    "else:\n",
    "    print(\"Must be negative or not a number.\")"
   ]
  },
  {
   "cell_type": "markdown",
   "metadata": {},
   "source": [
    "### Error handling"
   ]
  },
  {
   "cell_type": "code",
   "execution_count": null,
   "metadata": {},
   "outputs": [],
   "source": [
    "# What happens if we run the cell above with 'penguin' instead of a number?\n"
   ]
  },
  {
   "cell_type": "code",
   "execution_count": null,
   "metadata": {},
   "outputs": [],
   "source": [
    "# try-except is one method to catch and handle errors\n",
    "\n",
    "my_list = [5,6,'Sally',10]\n",
    "\n",
    "for obj in my_list:\n",
    "    try:\n",
    "        print('{}'.format(obj + 1))\n",
    "    except:\n",
    "        print(\"I am not a number, I am a free woman!\")"
   ]
  },
  {
   "cell_type": "markdown",
   "metadata": {},
   "source": [
    "### Iterables and range()"
   ]
  },
  {
   "cell_type": "code",
   "execution_count": null,
   "metadata": {},
   "outputs": [],
   "source": [
    "# strings and lists are examples of iterables: they can return their members one-by-one.\n",
    "\n",
    "for meal in ['Breakfast', 'Snack', 'Dinner']:\n",
    "    print(\"{} has {} letters\".format(meal, len(meal)))"
   ]
  },
  {
   "cell_type": "code",
   "execution_count": null,
   "metadata": {},
   "outputs": [],
   "source": [
    "# range() is another way to generate iterables; it returns an arithmetic series\n",
    "\n",
    "print(\"NUMBERS AND THEIR CUBES\")\n",
    "for i in range(5):\n",
    "    print(i, i**3)"
   ]
  },
  {
   "cell_type": "code",
   "execution_count": null,
   "metadata": {},
   "outputs": [],
   "source": [
    "# as usual, you get all numbers from start point (included) to end point (not included)\n",
    "\n",
    "print(\"NUMBERS AND THEIR CUBES\")\n",
    "for i in range(-5, 5):\n",
    "    print(i, i**3)"
   ]
  },
  {
   "cell_type": "code",
   "execution_count": null,
   "metadata": {
    "scrolled": true
   },
   "outputs": [],
   "source": [
    "# using range(n+1) often makes sense\n",
    "\n",
    "print('Give me numbers up to n, where n = 3')\n",
    "\n",
    "n = 3\n",
    "for i in range(n+1):\n",
    "    print(i)"
   ]
  },
  {
   "cell_type": "code",
   "execution_count": null,
   "metadata": {},
   "outputs": [],
   "source": [
    "# what happens when you print a range() item?\n",
    "range(5)"
   ]
  },
  {
   "cell_type": "code",
   "execution_count": null,
   "metadata": {},
   "outputs": [],
   "source": [
    "# the list() function turns any iterable into a list.   (not ideal if you're counting to 1 million!)\n",
    "list(range(5))"
   ]
  },
  {
   "cell_type": "code",
   "execution_count": null,
   "metadata": {},
   "outputs": [],
   "source": [
    "# enumerate() lets you loop through an iterable,  keeping track of where you are\n",
    "\n",
    "meals = ['Breakfast', 'Post-Breakfast Snack','Elevenses', 'Lunch','Tea','Dinner','Bedtime snack']\n",
    "\n",
    "for n, meal in enumerate(meals):\n",
    "    print(\"Meal {} today: {}\".format(n + 1, meal))"
   ]
  },
  {
   "cell_type": "markdown",
   "metadata": {},
   "source": [
    "### List comprehensions\n",
    "Return to our zip code example. We have seen many ways to operate on strings or numbers. But how to scale these operations across several hundred (or thousand) examples?\n",
    "\n",
    "List comprehensions are a concise way to build lists using rules. They apply an operation to a series of items, and package the result in a list."
   ]
  },
  {
   "cell_type": "code",
   "execution_count": null,
   "metadata": {},
   "outputs": [],
   "source": [
    "# first a squares example\n",
    "[x**2 for x in range(10)]"
   ]
  },
  {
   "cell_type": "markdown",
   "metadata": {},
   "source": [
    "Steps:\n",
    "* First write the expression to evaluate.\n",
    "* Then add a `for` statement\n",
    "* And the sequence to perform the operation on."
   ]
  },
  {
   "cell_type": "code",
   "execution_count": null,
   "metadata": {},
   "outputs": [],
   "source": [
    "# re-write the following as a list comprehension\n",
    "\n",
    "absolute_cubes = []\n",
    "for n in range(-100, 101):\n",
    "    absolute_cubes.append((n**3))"
   ]
  },
  {
   "cell_type": "code",
   "execution_count": null,
   "metadata": {},
   "outputs": [],
   "source": [
    "# code here:\n"
   ]
  },
  {
   "cell_type": "markdown",
   "metadata": {},
   "source": [
    "__Data wrangling example__"
   ]
  },
  {
   "cell_type": "code",
   "execution_count": null,
   "metadata": {},
   "outputs": [],
   "source": [
    "# here's our messy input data\n",
    "input_data = [\"Alex: ZIP 20022-0049\", \"Margaret: ZIP 20009-0132\", \"Hermione: ZIP 10009-3214\"]"
   ]
  },
  {
   "cell_type": "code",
   "execution_count": null,
   "metadata": {},
   "outputs": [],
   "source": [
    "# as a for loop\n",
    "\n",
    "clean_list = []\n",
    "for i in input_data:\n",
    "    clean_list.append(i.split()[2].split('-')[0])"
   ]
  },
  {
   "cell_type": "code",
   "execution_count": null,
   "metadata": {},
   "outputs": [],
   "source": [
    "[x.split()[2].split('-')[0] for x in input_data]"
   ]
  }
 ],
 "metadata": {
  "kernelspec": {
   "display_name": "drijal_37",
   "language": "python",
   "name": "drijal_37"
  },
  "language_info": {
   "codemirror_mode": {
    "name": "ipython",
    "version": 3
   },
   "file_extension": ".py",
   "mimetype": "text/x-python",
   "name": "python",
   "nbconvert_exporter": "python",
   "pygments_lexer": "ipython3",
   "version": "3.7.3"
  }
 },
 "nbformat": 4,
 "nbformat_minor": 2
}
